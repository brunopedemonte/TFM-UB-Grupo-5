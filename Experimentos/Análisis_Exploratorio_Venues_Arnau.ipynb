{
  "nbformat": 4,
  "nbformat_minor": 0,
  "metadata": {
    "colab": {
      "provenance": []
    },
    "kernelspec": {
      "name": "python3",
      "display_name": "Python 3"
    },
    "language_info": {
      "name": "python"
    }
  },
  "cells": [
    {
      "cell_type": "code",
      "execution_count": null,
      "metadata": {
        "id": "55FCR_BbOt33"
      },
      "outputs": [],
      "source": [
        "# Librerias\n",
        "import pandas as pd\n",
        "import numpy as np\n",
        "from datetime import datetime\n",
        "import seaborn as sns"
      ]
    },
    {
      "cell_type": "code",
      "source": [
        "# Nos conectamos a Drive\n",
        "from google.colab import drive\n",
        "drive.mount('/content/drive')"
      ],
      "metadata": {
        "colab": {
          "base_uri": "https://localhost:8080/"
        },
        "id": "E_ZJ06dWPjLP",
        "outputId": "af07f30e-31d2-40ec-bb7a-509f07da131f"
      },
      "execution_count": null,
      "outputs": [
        {
          "output_type": "stream",
          "name": "stdout",
          "text": [
            "Mounted at /content/drive\n"
          ]
        }
      ]
    },
    {
      "cell_type": "code",
      "source": [
        "# Cargamos CSV\n",
        "\n",
        "df = pd.read_csv(\"/content/drive/Shareddrives/Data_TFM/venues_2023_22_21.csv\", sep=\"\t\", decimal=\".\")\n",
        "df.head()"
      ],
      "metadata": {
        "id": "R_QiYr2b0GlY",
        "colab": {
          "base_uri": "https://localhost:8080/",
          "height": 490
        },
        "outputId": "05caa7b9-d04b-491e-d937-02fd16c2a7a6"
      },
      "execution_count": null,
      "outputs": [
        {
          "output_type": "stream",
          "name": "stderr",
          "text": [
            "<ipython-input-13-e05ab994a68e>:3: DtypeWarning: Columns (21,25,32,34,35) have mixed types. Specify dtype option on import or set low_memory=False.\n",
            "  df = pd.read_csv(\"/content/drive/Shareddrives/Data_TFM/venues_2023_22_21.csv\", sep=\"\t\", decimal=\".\")\n"
          ]
        },
        {
          "output_type": "execute_result",
          "data": {
            "text/plain": [
              "     date_day  unique_venue_id              created venue_status  \\\n",
              "0  2021-07-01      11000000016  2008-03-25 12:47:09     DISABLED   \n",
              "1  2021-08-01      11000000016  2008-03-25 12:47:09     DISABLED   \n",
              "2  2021-09-01      11000000016  2008-03-25 12:47:09     DISABLED   \n",
              "3  2021-10-01      11000000016  2008-03-25 12:47:09     DISABLED   \n",
              "4  2021-11-01      11000000016  2008-03-25 12:47:09     DISABLED   \n",
              "\n",
              "  venue_active_from original_marketplace_venue_type_name country_code    tier  \\\n",
              "0            (null)                            Hotel Spa           GB  (null)   \n",
              "1            (null)                            Hotel Spa           GB  (null)   \n",
              "2            (null)                            Hotel Spa           GB  (null)   \n",
              "3            (null)                            Hotel Spa           GB  (null)   \n",
              "4            (null)                            Hotel Spa           GB  (null)   \n",
              "\n",
              "  saas_product      first_live_date  ...     plan_active_from  \\\n",
              "0   tw_connect  2009-07-20 00:00:00  ...  2021-04-14 13:31:29   \n",
              "1   tw_connect  2009-07-20 00:00:00  ...  2021-04-14 13:31:29   \n",
              "2   tw_connect  2009-07-20 00:00:00  ...  2021-04-14 13:31:29   \n",
              "3   tw_connect  2009-07-20 00:00:00  ...  2021-04-14 13:31:29   \n",
              "4   tw_connect  2009-07-20 00:00:00  ...  2021-04-14 13:31:29   \n",
              "\n",
              "        plan_active_to prepay  prepaid_until_to discount  \\\n",
              "0  2999-12-31 00:00:00      0            (null)        0   \n",
              "1  2999-12-31 00:00:00      0            (null)        0   \n",
              "2  2999-12-31 00:00:00      0            (null)        0   \n",
              "3  2999-12-31 00:00:00      0            (null)        0   \n",
              "4  2999-12-31 00:00:00      0            (null)        0   \n",
              "\n",
              "  plan_discount_end_date bill_every plan_name plan_fee_eur  \\\n",
              "0                 (null)          1     Entry        16.65   \n",
              "1                 (null)          1     Entry        16.65   \n",
              "2                 (null)          1     Entry        16.65   \n",
              "3                 (null)          1     Entry        16.65   \n",
              "4                 (null)          1     Entry        16.65   \n",
              "\n",
              "  is_zero_commission_plan  \n",
              "0                   False  \n",
              "1                   False  \n",
              "2                   False  \n",
              "3                   False  \n",
              "4                   False  \n",
              "\n",
              "[5 rows x 36 columns]"
            ],
            "text/html": [
              "\n",
              "  <div id=\"df-1833c5a2-33c1-4150-b9a6-9c6f29b9ab68\">\n",
              "    <div class=\"colab-df-container\">\n",
              "      <div>\n",
              "<style scoped>\n",
              "    .dataframe tbody tr th:only-of-type {\n",
              "        vertical-align: middle;\n",
              "    }\n",
              "\n",
              "    .dataframe tbody tr th {\n",
              "        vertical-align: top;\n",
              "    }\n",
              "\n",
              "    .dataframe thead th {\n",
              "        text-align: right;\n",
              "    }\n",
              "</style>\n",
              "<table border=\"1\" class=\"dataframe\">\n",
              "  <thead>\n",
              "    <tr style=\"text-align: right;\">\n",
              "      <th></th>\n",
              "      <th>date_day</th>\n",
              "      <th>unique_venue_id</th>\n",
              "      <th>created</th>\n",
              "      <th>venue_status</th>\n",
              "      <th>venue_active_from</th>\n",
              "      <th>original_marketplace_venue_type_name</th>\n",
              "      <th>country_code</th>\n",
              "      <th>tier</th>\n",
              "      <th>saas_product</th>\n",
              "      <th>first_live_date</th>\n",
              "      <th>...</th>\n",
              "      <th>plan_active_from</th>\n",
              "      <th>plan_active_to</th>\n",
              "      <th>prepay</th>\n",
              "      <th>prepaid_until_to</th>\n",
              "      <th>discount</th>\n",
              "      <th>plan_discount_end_date</th>\n",
              "      <th>bill_every</th>\n",
              "      <th>plan_name</th>\n",
              "      <th>plan_fee_eur</th>\n",
              "      <th>is_zero_commission_plan</th>\n",
              "    </tr>\n",
              "  </thead>\n",
              "  <tbody>\n",
              "    <tr>\n",
              "      <th>0</th>\n",
              "      <td>2021-07-01</td>\n",
              "      <td>11000000016</td>\n",
              "      <td>2008-03-25 12:47:09</td>\n",
              "      <td>DISABLED</td>\n",
              "      <td>(null)</td>\n",
              "      <td>Hotel Spa</td>\n",
              "      <td>GB</td>\n",
              "      <td>(null)</td>\n",
              "      <td>tw_connect</td>\n",
              "      <td>2009-07-20 00:00:00</td>\n",
              "      <td>...</td>\n",
              "      <td>2021-04-14 13:31:29</td>\n",
              "      <td>2999-12-31 00:00:00</td>\n",
              "      <td>0</td>\n",
              "      <td>(null)</td>\n",
              "      <td>0</td>\n",
              "      <td>(null)</td>\n",
              "      <td>1</td>\n",
              "      <td>Entry</td>\n",
              "      <td>16.65</td>\n",
              "      <td>False</td>\n",
              "    </tr>\n",
              "    <tr>\n",
              "      <th>1</th>\n",
              "      <td>2021-08-01</td>\n",
              "      <td>11000000016</td>\n",
              "      <td>2008-03-25 12:47:09</td>\n",
              "      <td>DISABLED</td>\n",
              "      <td>(null)</td>\n",
              "      <td>Hotel Spa</td>\n",
              "      <td>GB</td>\n",
              "      <td>(null)</td>\n",
              "      <td>tw_connect</td>\n",
              "      <td>2009-07-20 00:00:00</td>\n",
              "      <td>...</td>\n",
              "      <td>2021-04-14 13:31:29</td>\n",
              "      <td>2999-12-31 00:00:00</td>\n",
              "      <td>0</td>\n",
              "      <td>(null)</td>\n",
              "      <td>0</td>\n",
              "      <td>(null)</td>\n",
              "      <td>1</td>\n",
              "      <td>Entry</td>\n",
              "      <td>16.65</td>\n",
              "      <td>False</td>\n",
              "    </tr>\n",
              "    <tr>\n",
              "      <th>2</th>\n",
              "      <td>2021-09-01</td>\n",
              "      <td>11000000016</td>\n",
              "      <td>2008-03-25 12:47:09</td>\n",
              "      <td>DISABLED</td>\n",
              "      <td>(null)</td>\n",
              "      <td>Hotel Spa</td>\n",
              "      <td>GB</td>\n",
              "      <td>(null)</td>\n",
              "      <td>tw_connect</td>\n",
              "      <td>2009-07-20 00:00:00</td>\n",
              "      <td>...</td>\n",
              "      <td>2021-04-14 13:31:29</td>\n",
              "      <td>2999-12-31 00:00:00</td>\n",
              "      <td>0</td>\n",
              "      <td>(null)</td>\n",
              "      <td>0</td>\n",
              "      <td>(null)</td>\n",
              "      <td>1</td>\n",
              "      <td>Entry</td>\n",
              "      <td>16.65</td>\n",
              "      <td>False</td>\n",
              "    </tr>\n",
              "    <tr>\n",
              "      <th>3</th>\n",
              "      <td>2021-10-01</td>\n",
              "      <td>11000000016</td>\n",
              "      <td>2008-03-25 12:47:09</td>\n",
              "      <td>DISABLED</td>\n",
              "      <td>(null)</td>\n",
              "      <td>Hotel Spa</td>\n",
              "      <td>GB</td>\n",
              "      <td>(null)</td>\n",
              "      <td>tw_connect</td>\n",
              "      <td>2009-07-20 00:00:00</td>\n",
              "      <td>...</td>\n",
              "      <td>2021-04-14 13:31:29</td>\n",
              "      <td>2999-12-31 00:00:00</td>\n",
              "      <td>0</td>\n",
              "      <td>(null)</td>\n",
              "      <td>0</td>\n",
              "      <td>(null)</td>\n",
              "      <td>1</td>\n",
              "      <td>Entry</td>\n",
              "      <td>16.65</td>\n",
              "      <td>False</td>\n",
              "    </tr>\n",
              "    <tr>\n",
              "      <th>4</th>\n",
              "      <td>2021-11-01</td>\n",
              "      <td>11000000016</td>\n",
              "      <td>2008-03-25 12:47:09</td>\n",
              "      <td>DISABLED</td>\n",
              "      <td>(null)</td>\n",
              "      <td>Hotel Spa</td>\n",
              "      <td>GB</td>\n",
              "      <td>(null)</td>\n",
              "      <td>tw_connect</td>\n",
              "      <td>2009-07-20 00:00:00</td>\n",
              "      <td>...</td>\n",
              "      <td>2021-04-14 13:31:29</td>\n",
              "      <td>2999-12-31 00:00:00</td>\n",
              "      <td>0</td>\n",
              "      <td>(null)</td>\n",
              "      <td>0</td>\n",
              "      <td>(null)</td>\n",
              "      <td>1</td>\n",
              "      <td>Entry</td>\n",
              "      <td>16.65</td>\n",
              "      <td>False</td>\n",
              "    </tr>\n",
              "  </tbody>\n",
              "</table>\n",
              "<p>5 rows × 36 columns</p>\n",
              "</div>\n",
              "      <button class=\"colab-df-convert\" onclick=\"convertToInteractive('df-1833c5a2-33c1-4150-b9a6-9c6f29b9ab68')\"\n",
              "              title=\"Convert this dataframe to an interactive table.\"\n",
              "              style=\"display:none;\">\n",
              "        \n",
              "  <svg xmlns=\"http://www.w3.org/2000/svg\" height=\"24px\"viewBox=\"0 0 24 24\"\n",
              "       width=\"24px\">\n",
              "    <path d=\"M0 0h24v24H0V0z\" fill=\"none\"/>\n",
              "    <path d=\"M18.56 5.44l.94 2.06.94-2.06 2.06-.94-2.06-.94-.94-2.06-.94 2.06-2.06.94zm-11 1L8.5 8.5l.94-2.06 2.06-.94-2.06-.94L8.5 2.5l-.94 2.06-2.06.94zm10 10l.94 2.06.94-2.06 2.06-.94-2.06-.94-.94-2.06-.94 2.06-2.06.94z\"/><path d=\"M17.41 7.96l-1.37-1.37c-.4-.4-.92-.59-1.43-.59-.52 0-1.04.2-1.43.59L10.3 9.45l-7.72 7.72c-.78.78-.78 2.05 0 2.83L4 21.41c.39.39.9.59 1.41.59.51 0 1.02-.2 1.41-.59l7.78-7.78 2.81-2.81c.8-.78.8-2.07 0-2.86zM5.41 20L4 18.59l7.72-7.72 1.47 1.35L5.41 20z\"/>\n",
              "  </svg>\n",
              "      </button>\n",
              "      \n",
              "  <style>\n",
              "    .colab-df-container {\n",
              "      display:flex;\n",
              "      flex-wrap:wrap;\n",
              "      gap: 12px;\n",
              "    }\n",
              "\n",
              "    .colab-df-convert {\n",
              "      background-color: #E8F0FE;\n",
              "      border: none;\n",
              "      border-radius: 50%;\n",
              "      cursor: pointer;\n",
              "      display: none;\n",
              "      fill: #1967D2;\n",
              "      height: 32px;\n",
              "      padding: 0 0 0 0;\n",
              "      width: 32px;\n",
              "    }\n",
              "\n",
              "    .colab-df-convert:hover {\n",
              "      background-color: #E2EBFA;\n",
              "      box-shadow: 0px 1px 2px rgba(60, 64, 67, 0.3), 0px 1px 3px 1px rgba(60, 64, 67, 0.15);\n",
              "      fill: #174EA6;\n",
              "    }\n",
              "\n",
              "    [theme=dark] .colab-df-convert {\n",
              "      background-color: #3B4455;\n",
              "      fill: #D2E3FC;\n",
              "    }\n",
              "\n",
              "    [theme=dark] .colab-df-convert:hover {\n",
              "      background-color: #434B5C;\n",
              "      box-shadow: 0px 1px 3px 1px rgba(0, 0, 0, 0.15);\n",
              "      filter: drop-shadow(0px 1px 2px rgba(0, 0, 0, 0.3));\n",
              "      fill: #FFFFFF;\n",
              "    }\n",
              "  </style>\n",
              "\n",
              "      <script>\n",
              "        const buttonEl =\n",
              "          document.querySelector('#df-1833c5a2-33c1-4150-b9a6-9c6f29b9ab68 button.colab-df-convert');\n",
              "        buttonEl.style.display =\n",
              "          google.colab.kernel.accessAllowed ? 'block' : 'none';\n",
              "\n",
              "        async function convertToInteractive(key) {\n",
              "          const element = document.querySelector('#df-1833c5a2-33c1-4150-b9a6-9c6f29b9ab68');\n",
              "          const dataTable =\n",
              "            await google.colab.kernel.invokeFunction('convertToInteractive',\n",
              "                                                     [key], {});\n",
              "          if (!dataTable) return;\n",
              "\n",
              "          const docLinkHtml = 'Like what you see? Visit the ' +\n",
              "            '<a target=\"_blank\" href=https://colab.research.google.com/notebooks/data_table.ipynb>data table notebook</a>'\n",
              "            + ' to learn more about interactive tables.';\n",
              "          element.innerHTML = '';\n",
              "          dataTable['output_type'] = 'display_data';\n",
              "          await google.colab.output.renderOutput(dataTable, element);\n",
              "          const docLink = document.createElement('div');\n",
              "          docLink.innerHTML = docLinkHtml;\n",
              "          element.appendChild(docLink);\n",
              "        }\n",
              "      </script>\n",
              "    </div>\n",
              "  </div>\n",
              "  "
            ]
          },
          "metadata": {},
          "execution_count": 13
        }
      ]
    },
    {
      "cell_type": "code",
      "source": [
        "# Valores 'na' en la columna 'disabled_date' con 0, asumiendo que indican que los clientes están activos\n",
        "df['disabled_date'].fillna(0, inplace=True)\n",
        "\n",
        "# Conversión de la columna 'disabled_date' al formato de fecha\n",
        "df['disabled_date'] = pd.to_datetime(df['disabled_date'], errors='coerce')\n",
        "\n",
        "# Elimino los registros que tienen valores NaN en la columna 'latest_live_date', ya que parecen ser errores en los datos\n",
        "df.dropna(subset=['latest_live_date'], inplace=True)\n",
        "\n",
        "# Convertimos la columna 'latest_live_date' al formato de fecha\n",
        "df['latest_live_date'] = pd.to_datetime(df['latest_live_date'], errors='coerce')\n",
        "\n",
        "# Creamos una nueva columna 'mes' a partir de la columna 'date_time'\n",
        "df['mes'] = df['latest_live_date'].dt.to_period('M')\n",
        "\n",
        "# Calculamos el churn por cada mes\n",
        "tres_meses = df['latest_live_date'] + pd.DateOffset(months=3)\n",
        "df['churn'] = np.where(df['disabled_date'] > tres_meses, 1, 0)\n",
        "\n",
        "# Verificamos el resultado\n",
        "print(df[['mes', 'churn']])\n"
      ],
      "metadata": {
        "colab": {
          "base_uri": "https://localhost:8080/"
        },
        "id": "73FaasozLeF7",
        "outputId": "e6cca2fd-9bb7-4043-8b63-8adb845cd6d3"
      },
      "execution_count": null,
      "outputs": [
        {
          "output_type": "stream",
          "name": "stdout",
          "text": [
            "             mes  churn\n",
            "0        2009-07      0\n",
            "1        2009-07      0\n",
            "2        2009-07      0\n",
            "3        2009-07      0\n",
            "4        2009-07      0\n",
            "...          ...    ...\n",
            "4606918  2016-12      0\n",
            "4606919  2017-03      1\n",
            "4606920  2018-03      1\n",
            "4606921  2021-12      0\n",
            "4606922  2022-05      0\n",
            "\n",
            "[3544863 rows x 2 columns]\n"
          ]
        }
      ]
    },
    {
      "cell_type": "code",
      "source": [
        "df.info()"
      ],
      "metadata": {
        "id": "Rbs7nOBU4pG7",
        "outputId": "9c1a3333-755e-49aa-d6ca-92a674b0c6d3",
        "colab": {
          "base_uri": "https://localhost:8080/"
        }
      },
      "execution_count": null,
      "outputs": [
        {
          "output_type": "stream",
          "name": "stdout",
          "text": [
            "<class 'pandas.core.frame.DataFrame'>\n",
            "Int64Index: 3544863 entries, 0 to 4606922\n",
            "Data columns (total 38 columns):\n",
            " #   Column                                Dtype         \n",
            "---  ------                                -----         \n",
            " 0   date_day                              object        \n",
            " 1   unique_venue_id                       int64         \n",
            " 2   created                               object        \n",
            " 3   venue_status                          object        \n",
            " 4   venue_active_from                     object        \n",
            " 5   original_marketplace_venue_type_name  object        \n",
            " 6   country_code                          object        \n",
            " 7   tier                                  object        \n",
            " 8   saas_product                          object        \n",
            " 9   first_live_date                       object        \n",
            " 10  latest_live_date                      datetime64[ns]\n",
            " 11  disabled_date                         datetime64[ns]\n",
            " 12  reactivated_status                    object        \n",
            " 13  is_twconnect_migrated                 bool          \n",
            " 14  is_purchasable                        object        \n",
            " 15  is_widget_enabled                     object        \n",
            " 16  is_heavy_saas                         object        \n",
            " 17  first_heavy_saas_date                 object        \n",
            " 18  active_employees                      object        \n",
            " 19  direct_appointments_l30d              object        \n",
            " 20  online_appointments_l30d              object        \n",
            " 21  is_tw_mp_listed                       object        \n",
            " 22  tw_mp_listed_first_time_date          object        \n",
            " 23  marketplace_payment_method            object        \n",
            " 24  widget_payment_method                 object        \n",
            " 25  is_plan_trial                         object        \n",
            " 26  plan_active_from                      object        \n",
            " 27  plan_active_to                        object        \n",
            " 28  prepay                                int64         \n",
            " 29  prepaid_until_to                      object        \n",
            " 30  discount                              int64         \n",
            " 31  plan_discount_end_date                object        \n",
            " 32  bill_every                            object        \n",
            " 33  plan_name                             object        \n",
            " 34  plan_fee_eur                          object        \n",
            " 35  is_zero_commission_plan               object        \n",
            " 36  mes                                   period[M]     \n",
            " 37  churn                                 int64         \n",
            "dtypes: bool(1), datetime64[ns](2), int64(4), object(30), period[M](1)\n",
            "memory usage: 1.0+ GB\n"
          ]
        }
      ]
    },
    {
      "cell_type": "code",
      "source": [
        "df = df.replace(to_replace=r'.*null.*', value=np.nan, regex=True)\n",
        "\n",
        "null_percentages = round((df.isnull().sum() * 100) / df.shape[0], 2)\n",
        "null_df = null_percentages.to_frame(name='Porcentaje de Nulos').reset_index()\n",
        "null_df.rename(columns={'index': 'Columna'}, inplace=True)\n",
        "print(null_df.to_string())"
      ],
      "metadata": {
        "colab": {
          "base_uri": "https://localhost:8080/"
        },
        "id": "Vim0n_5LybXa",
        "outputId": "f2644662-cf2e-456f-dfb9-6ac2ea806200"
      },
      "execution_count": null,
      "outputs": [
        {
          "output_type": "stream",
          "name": "stdout",
          "text": [
            "                                 Columna  Porcentaje de Nulos\n",
            "0                               date_day                 0.00\n",
            "1                        unique_venue_id                 0.00\n",
            "2                                created                 0.00\n",
            "3                           venue_status                19.73\n",
            "4                      venue_active_from                92.75\n",
            "5   original_marketplace_venue_type_name                 4.86\n",
            "6                           country_code                 0.00\n",
            "7                                   tier                49.19\n",
            "8                           saas_product                 0.00\n",
            "9                        first_live_date                22.63\n",
            "10                      latest_live_date                23.05\n",
            "11                         disabled_date                 0.00\n",
            "12                    reactivated_status                 0.00\n",
            "13                 is_twconnect_migrated                 0.00\n",
            "14                        is_purchasable                19.73\n",
            "15                     is_widget_enabled                19.73\n",
            "16                         is_heavy_saas                22.86\n",
            "17                 first_heavy_saas_date                98.70\n",
            "18                      active_employees                84.21\n",
            "19              direct_appointments_l30d                22.86\n",
            "20              online_appointments_l30d                22.86\n",
            "21                       is_tw_mp_listed                12.01\n",
            "22          tw_mp_listed_first_time_date                14.69\n",
            "23            marketplace_payment_method                12.01\n",
            "24                 widget_payment_method                12.01\n",
            "25                         is_plan_trial                41.51\n",
            "26                      plan_active_from                41.51\n",
            "27                        plan_active_to                41.51\n",
            "28                                prepay                 0.00\n",
            "29                      prepaid_until_to                94.57\n",
            "30                              discount                 0.00\n",
            "31                plan_discount_end_date                99.27\n",
            "32                            bill_every                41.51\n",
            "33                             plan_name                41.51\n",
            "34                          plan_fee_eur                41.51\n",
            "35               is_zero_commission_plan                41.51\n",
            "36                                   mes                23.05\n",
            "37                                 churn                 0.00\n"
          ]
        }
      ]
    },
    {
      "cell_type": "markdown",
      "source": [
        "```\n",
        "\n",
        "**Creación Variable Churn**"
      ],
      "metadata": {
        "id": "xfqLUo-lrCMn"
      }
    },
    {
      "cell_type": "code",
      "source": [
        "df.head()"
      ],
      "metadata": {
        "colab": {
          "base_uri": "https://localhost:8080/",
          "height": 473
        },
        "id": "mpKPi7at9Gxf",
        "outputId": "4faabccd-0e52-465d-dbe8-bb41cde06451"
      },
      "execution_count": null,
      "outputs": [
        {
          "output_type": "execute_result",
          "data": {
            "text/plain": [
              "   unique_venue_id              created              updated venue_status  \\\n",
              "0      11000000003  2008-03-25 12:47:08  2021-05-26 11:36:55     DISABLED   \n",
              "1      11000000003  2008-03-25 12:47:08  2021-05-26 11:36:55     DISABLED   \n",
              "2      11000000019  2008-03-25 12:47:09  2021-05-26 11:36:55     DISABLED   \n",
              "3      11000000019  2008-03-25 12:47:09  2021-05-26 11:36:55     DISABLED   \n",
              "4      11000000029  2008-03-25 12:47:10  2021-05-26 11:36:55     DISABLED   \n",
              "\n",
              "  venue_active_from original_marketplace_venue_type_name country_code    tier  \\\n",
              "0               NaN                            Hotel Spa           GB     NaN   \n",
              "1               NaN                            Hotel Spa           GB     NaN   \n",
              "2               NaN             Massage & Therapy Centre           GB  Tier 1   \n",
              "3               NaN             Massage & Therapy Centre           GB  Tier 1   \n",
              "4               NaN                            Hotel Spa           GB     NaN   \n",
              "\n",
              "  saas_product      first_live_date  ... widget_payment_method  \\\n",
              "0   tw_connect  2008-03-25 00:00:00  ...           PREPAY_ONLY   \n",
              "1   tw_connect  2008-03-25 00:00:00  ...           PREPAY_ONLY   \n",
              "2   tw_connect  2008-03-26 00:00:00  ...           PREPAY_ONLY   \n",
              "3   tw_connect  2008-03-26 00:00:00  ...           PREPAY_ONLY   \n",
              "4   tw_connect  2008-03-28 00:00:00  ...           PREPAY_ONLY   \n",
              "\n",
              "  billing_plan_status billing_products_name  unit_price is_prepaid  \\\n",
              "0                 NaN                   NaN         NaN        NaN   \n",
              "1                 NaN                   NaN         NaN        NaN   \n",
              "2                 NaN                   NaN         NaN        NaN   \n",
              "3                 NaN                   NaN         NaN        NaN   \n",
              "4                 NaN                   NaN         NaN        NaN   \n",
              "\n",
              "  prepaid_amount average_rating review_count service_count churn  \n",
              "0            NaN           4.26           84           600     1  \n",
              "1            NaN           4.26           84          1800     1  \n",
              "2            NaN           4.07          137           702     1  \n",
              "3            NaN           4.07          137          2106     1  \n",
              "4            NaN           4.53          129          1380     1  \n",
              "\n",
              "[5 rows x 34 columns]"
            ],
            "text/html": [
              "\n",
              "  <div id=\"df-881ead19-5fa9-496a-b704-2c68dbbe286d\">\n",
              "    <div class=\"colab-df-container\">\n",
              "      <div>\n",
              "<style scoped>\n",
              "    .dataframe tbody tr th:only-of-type {\n",
              "        vertical-align: middle;\n",
              "    }\n",
              "\n",
              "    .dataframe tbody tr th {\n",
              "        vertical-align: top;\n",
              "    }\n",
              "\n",
              "    .dataframe thead th {\n",
              "        text-align: right;\n",
              "    }\n",
              "</style>\n",
              "<table border=\"1\" class=\"dataframe\">\n",
              "  <thead>\n",
              "    <tr style=\"text-align: right;\">\n",
              "      <th></th>\n",
              "      <th>unique_venue_id</th>\n",
              "      <th>created</th>\n",
              "      <th>updated</th>\n",
              "      <th>venue_status</th>\n",
              "      <th>venue_active_from</th>\n",
              "      <th>original_marketplace_venue_type_name</th>\n",
              "      <th>country_code</th>\n",
              "      <th>tier</th>\n",
              "      <th>saas_product</th>\n",
              "      <th>first_live_date</th>\n",
              "      <th>...</th>\n",
              "      <th>widget_payment_method</th>\n",
              "      <th>billing_plan_status</th>\n",
              "      <th>billing_products_name</th>\n",
              "      <th>unit_price</th>\n",
              "      <th>is_prepaid</th>\n",
              "      <th>prepaid_amount</th>\n",
              "      <th>average_rating</th>\n",
              "      <th>review_count</th>\n",
              "      <th>service_count</th>\n",
              "      <th>churn</th>\n",
              "    </tr>\n",
              "  </thead>\n",
              "  <tbody>\n",
              "    <tr>\n",
              "      <th>0</th>\n",
              "      <td>11000000003</td>\n",
              "      <td>2008-03-25 12:47:08</td>\n",
              "      <td>2021-05-26 11:36:55</td>\n",
              "      <td>DISABLED</td>\n",
              "      <td>NaN</td>\n",
              "      <td>Hotel Spa</td>\n",
              "      <td>GB</td>\n",
              "      <td>NaN</td>\n",
              "      <td>tw_connect</td>\n",
              "      <td>2008-03-25 00:00:00</td>\n",
              "      <td>...</td>\n",
              "      <td>PREPAY_ONLY</td>\n",
              "      <td>NaN</td>\n",
              "      <td>NaN</td>\n",
              "      <td>NaN</td>\n",
              "      <td>NaN</td>\n",
              "      <td>NaN</td>\n",
              "      <td>4.26</td>\n",
              "      <td>84</td>\n",
              "      <td>600</td>\n",
              "      <td>1</td>\n",
              "    </tr>\n",
              "    <tr>\n",
              "      <th>1</th>\n",
              "      <td>11000000003</td>\n",
              "      <td>2008-03-25 12:47:08</td>\n",
              "      <td>2021-05-26 11:36:55</td>\n",
              "      <td>DISABLED</td>\n",
              "      <td>NaN</td>\n",
              "      <td>Hotel Spa</td>\n",
              "      <td>GB</td>\n",
              "      <td>NaN</td>\n",
              "      <td>tw_connect</td>\n",
              "      <td>2008-03-25 00:00:00</td>\n",
              "      <td>...</td>\n",
              "      <td>PREPAY_ONLY</td>\n",
              "      <td>NaN</td>\n",
              "      <td>NaN</td>\n",
              "      <td>NaN</td>\n",
              "      <td>NaN</td>\n",
              "      <td>NaN</td>\n",
              "      <td>4.26</td>\n",
              "      <td>84</td>\n",
              "      <td>1800</td>\n",
              "      <td>1</td>\n",
              "    </tr>\n",
              "    <tr>\n",
              "      <th>2</th>\n",
              "      <td>11000000019</td>\n",
              "      <td>2008-03-25 12:47:09</td>\n",
              "      <td>2021-05-26 11:36:55</td>\n",
              "      <td>DISABLED</td>\n",
              "      <td>NaN</td>\n",
              "      <td>Massage &amp; Therapy Centre</td>\n",
              "      <td>GB</td>\n",
              "      <td>Tier 1</td>\n",
              "      <td>tw_connect</td>\n",
              "      <td>2008-03-26 00:00:00</td>\n",
              "      <td>...</td>\n",
              "      <td>PREPAY_ONLY</td>\n",
              "      <td>NaN</td>\n",
              "      <td>NaN</td>\n",
              "      <td>NaN</td>\n",
              "      <td>NaN</td>\n",
              "      <td>NaN</td>\n",
              "      <td>4.07</td>\n",
              "      <td>137</td>\n",
              "      <td>702</td>\n",
              "      <td>1</td>\n",
              "    </tr>\n",
              "    <tr>\n",
              "      <th>3</th>\n",
              "      <td>11000000019</td>\n",
              "      <td>2008-03-25 12:47:09</td>\n",
              "      <td>2021-05-26 11:36:55</td>\n",
              "      <td>DISABLED</td>\n",
              "      <td>NaN</td>\n",
              "      <td>Massage &amp; Therapy Centre</td>\n",
              "      <td>GB</td>\n",
              "      <td>Tier 1</td>\n",
              "      <td>tw_connect</td>\n",
              "      <td>2008-03-26 00:00:00</td>\n",
              "      <td>...</td>\n",
              "      <td>PREPAY_ONLY</td>\n",
              "      <td>NaN</td>\n",
              "      <td>NaN</td>\n",
              "      <td>NaN</td>\n",
              "      <td>NaN</td>\n",
              "      <td>NaN</td>\n",
              "      <td>4.07</td>\n",
              "      <td>137</td>\n",
              "      <td>2106</td>\n",
              "      <td>1</td>\n",
              "    </tr>\n",
              "    <tr>\n",
              "      <th>4</th>\n",
              "      <td>11000000029</td>\n",
              "      <td>2008-03-25 12:47:10</td>\n",
              "      <td>2021-05-26 11:36:55</td>\n",
              "      <td>DISABLED</td>\n",
              "      <td>NaN</td>\n",
              "      <td>Hotel Spa</td>\n",
              "      <td>GB</td>\n",
              "      <td>NaN</td>\n",
              "      <td>tw_connect</td>\n",
              "      <td>2008-03-28 00:00:00</td>\n",
              "      <td>...</td>\n",
              "      <td>PREPAY_ONLY</td>\n",
              "      <td>NaN</td>\n",
              "      <td>NaN</td>\n",
              "      <td>NaN</td>\n",
              "      <td>NaN</td>\n",
              "      <td>NaN</td>\n",
              "      <td>4.53</td>\n",
              "      <td>129</td>\n",
              "      <td>1380</td>\n",
              "      <td>1</td>\n",
              "    </tr>\n",
              "  </tbody>\n",
              "</table>\n",
              "<p>5 rows × 34 columns</p>\n",
              "</div>\n",
              "      <button class=\"colab-df-convert\" onclick=\"convertToInteractive('df-881ead19-5fa9-496a-b704-2c68dbbe286d')\"\n",
              "              title=\"Convert this dataframe to an interactive table.\"\n",
              "              style=\"display:none;\">\n",
              "        \n",
              "  <svg xmlns=\"http://www.w3.org/2000/svg\" height=\"24px\"viewBox=\"0 0 24 24\"\n",
              "       width=\"24px\">\n",
              "    <path d=\"M0 0h24v24H0V0z\" fill=\"none\"/>\n",
              "    <path d=\"M18.56 5.44l.94 2.06.94-2.06 2.06-.94-2.06-.94-.94-2.06-.94 2.06-2.06.94zm-11 1L8.5 8.5l.94-2.06 2.06-.94-2.06-.94L8.5 2.5l-.94 2.06-2.06.94zm10 10l.94 2.06.94-2.06 2.06-.94-2.06-.94-.94-2.06-.94 2.06-2.06.94z\"/><path d=\"M17.41 7.96l-1.37-1.37c-.4-.4-.92-.59-1.43-.59-.52 0-1.04.2-1.43.59L10.3 9.45l-7.72 7.72c-.78.78-.78 2.05 0 2.83L4 21.41c.39.39.9.59 1.41.59.51 0 1.02-.2 1.41-.59l7.78-7.78 2.81-2.81c.8-.78.8-2.07 0-2.86zM5.41 20L4 18.59l7.72-7.72 1.47 1.35L5.41 20z\"/>\n",
              "  </svg>\n",
              "      </button>\n",
              "      \n",
              "  <style>\n",
              "    .colab-df-container {\n",
              "      display:flex;\n",
              "      flex-wrap:wrap;\n",
              "      gap: 12px;\n",
              "    }\n",
              "\n",
              "    .colab-df-convert {\n",
              "      background-color: #E8F0FE;\n",
              "      border: none;\n",
              "      border-radius: 50%;\n",
              "      cursor: pointer;\n",
              "      display: none;\n",
              "      fill: #1967D2;\n",
              "      height: 32px;\n",
              "      padding: 0 0 0 0;\n",
              "      width: 32px;\n",
              "    }\n",
              "\n",
              "    .colab-df-convert:hover {\n",
              "      background-color: #E2EBFA;\n",
              "      box-shadow: 0px 1px 2px rgba(60, 64, 67, 0.3), 0px 1px 3px 1px rgba(60, 64, 67, 0.15);\n",
              "      fill: #174EA6;\n",
              "    }\n",
              "\n",
              "    [theme=dark] .colab-df-convert {\n",
              "      background-color: #3B4455;\n",
              "      fill: #D2E3FC;\n",
              "    }\n",
              "\n",
              "    [theme=dark] .colab-df-convert:hover {\n",
              "      background-color: #434B5C;\n",
              "      box-shadow: 0px 1px 3px 1px rgba(0, 0, 0, 0.15);\n",
              "      filter: drop-shadow(0px 1px 2px rgba(0, 0, 0, 0.3));\n",
              "      fill: #FFFFFF;\n",
              "    }\n",
              "  </style>\n",
              "\n",
              "      <script>\n",
              "        const buttonEl =\n",
              "          document.querySelector('#df-881ead19-5fa9-496a-b704-2c68dbbe286d button.colab-df-convert');\n",
              "        buttonEl.style.display =\n",
              "          google.colab.kernel.accessAllowed ? 'block' : 'none';\n",
              "\n",
              "        async function convertToInteractive(key) {\n",
              "          const element = document.querySelector('#df-881ead19-5fa9-496a-b704-2c68dbbe286d');\n",
              "          const dataTable =\n",
              "            await google.colab.kernel.invokeFunction('convertToInteractive',\n",
              "                                                     [key], {});\n",
              "          if (!dataTable) return;\n",
              "\n",
              "          const docLinkHtml = 'Like what you see? Visit the ' +\n",
              "            '<a target=\"_blank\" href=https://colab.research.google.com/notebooks/data_table.ipynb>data table notebook</a>'\n",
              "            + ' to learn more about interactive tables.';\n",
              "          element.innerHTML = '';\n",
              "          dataTable['output_type'] = 'display_data';\n",
              "          await google.colab.output.renderOutput(dataTable, element);\n",
              "          const docLink = document.createElement('div');\n",
              "          docLink.innerHTML = docLinkHtml;\n",
              "          element.appendChild(docLink);\n",
              "        }\n",
              "      </script>\n",
              "    </div>\n",
              "  </div>\n",
              "  "
            ]
          },
          "metadata": {},
          "execution_count": 8
        }
      ]
    },
    {
      "cell_type": "code",
      "source": [
        "df_subset=df[['billing_plan_status', 'billing_products_name', 'unit_price', 'is_prepaid', 'prepaid_amount', 'average_rating', 'review_count', 'service_count','churn']]"
      ],
      "metadata": {
        "id": "LOuG5uuE-qBA",
        "colab": {
          "base_uri": "https://localhost:8080/",
          "height": 331
        },
        "outputId": "e8780f2d-dd36-4fb8-b102-ec87a2e106e6"
      },
      "execution_count": null,
      "outputs": [
        {
          "output_type": "error",
          "ename": "KeyError",
          "evalue": "ignored",
          "traceback": [
            "\u001b[0;31m---------------------------------------------------------------------------\u001b[0m",
            "\u001b[0;31mKeyError\u001b[0m                                  Traceback (most recent call last)",
            "\u001b[0;32m<ipython-input-17-749d58b445fc>\u001b[0m in \u001b[0;36m<cell line: 1>\u001b[0;34m()\u001b[0m\n\u001b[0;32m----> 1\u001b[0;31m \u001b[0mdf_subset\u001b[0m\u001b[0;34m=\u001b[0m\u001b[0mdf\u001b[0m\u001b[0;34m[\u001b[0m\u001b[0;34m[\u001b[0m\u001b[0;34m'billing_plan_status'\u001b[0m\u001b[0;34m,\u001b[0m \u001b[0;34m'billing_products_name'\u001b[0m\u001b[0;34m,\u001b[0m \u001b[0;34m'unit_price'\u001b[0m\u001b[0;34m,\u001b[0m \u001b[0;34m'is_prepaid'\u001b[0m\u001b[0;34m,\u001b[0m \u001b[0;34m'prepaid_amount'\u001b[0m\u001b[0;34m,\u001b[0m \u001b[0;34m'average_rating'\u001b[0m\u001b[0;34m,\u001b[0m \u001b[0;34m'review_count'\u001b[0m\u001b[0;34m,\u001b[0m \u001b[0;34m'service_count'\u001b[0m\u001b[0;34m,\u001b[0m\u001b[0;34m'churn'\u001b[0m\u001b[0;34m]\u001b[0m\u001b[0;34m]\u001b[0m\u001b[0;34m\u001b[0m\u001b[0;34m\u001b[0m\u001b[0m\n\u001b[0m",
            "\u001b[0;32m/usr/local/lib/python3.10/dist-packages/pandas/core/frame.py\u001b[0m in \u001b[0;36m__getitem__\u001b[0;34m(self, key)\u001b[0m\n\u001b[1;32m   3811\u001b[0m             \u001b[0;32mif\u001b[0m \u001b[0mis_iterator\u001b[0m\u001b[0;34m(\u001b[0m\u001b[0mkey\u001b[0m\u001b[0;34m)\u001b[0m\u001b[0;34m:\u001b[0m\u001b[0;34m\u001b[0m\u001b[0;34m\u001b[0m\u001b[0m\n\u001b[1;32m   3812\u001b[0m                 \u001b[0mkey\u001b[0m \u001b[0;34m=\u001b[0m \u001b[0mlist\u001b[0m\u001b[0;34m(\u001b[0m\u001b[0mkey\u001b[0m\u001b[0;34m)\u001b[0m\u001b[0;34m\u001b[0m\u001b[0;34m\u001b[0m\u001b[0m\n\u001b[0;32m-> 3813\u001b[0;31m             \u001b[0mindexer\u001b[0m \u001b[0;34m=\u001b[0m \u001b[0mself\u001b[0m\u001b[0;34m.\u001b[0m\u001b[0mcolumns\u001b[0m\u001b[0;34m.\u001b[0m\u001b[0m_get_indexer_strict\u001b[0m\u001b[0;34m(\u001b[0m\u001b[0mkey\u001b[0m\u001b[0;34m,\u001b[0m \u001b[0;34m\"columns\"\u001b[0m\u001b[0;34m)\u001b[0m\u001b[0;34m[\u001b[0m\u001b[0;36m1\u001b[0m\u001b[0;34m]\u001b[0m\u001b[0;34m\u001b[0m\u001b[0;34m\u001b[0m\u001b[0m\n\u001b[0m\u001b[1;32m   3814\u001b[0m \u001b[0;34m\u001b[0m\u001b[0m\n\u001b[1;32m   3815\u001b[0m         \u001b[0;31m# take() does not accept boolean indexers\u001b[0m\u001b[0;34m\u001b[0m\u001b[0;34m\u001b[0m\u001b[0m\n",
            "\u001b[0;32m/usr/local/lib/python3.10/dist-packages/pandas/core/indexes/base.py\u001b[0m in \u001b[0;36m_get_indexer_strict\u001b[0;34m(self, key, axis_name)\u001b[0m\n\u001b[1;32m   6068\u001b[0m             \u001b[0mkeyarr\u001b[0m\u001b[0;34m,\u001b[0m \u001b[0mindexer\u001b[0m\u001b[0;34m,\u001b[0m \u001b[0mnew_indexer\u001b[0m \u001b[0;34m=\u001b[0m \u001b[0mself\u001b[0m\u001b[0;34m.\u001b[0m\u001b[0m_reindex_non_unique\u001b[0m\u001b[0;34m(\u001b[0m\u001b[0mkeyarr\u001b[0m\u001b[0;34m)\u001b[0m\u001b[0;34m\u001b[0m\u001b[0;34m\u001b[0m\u001b[0m\n\u001b[1;32m   6069\u001b[0m \u001b[0;34m\u001b[0m\u001b[0m\n\u001b[0;32m-> 6070\u001b[0;31m         \u001b[0mself\u001b[0m\u001b[0;34m.\u001b[0m\u001b[0m_raise_if_missing\u001b[0m\u001b[0;34m(\u001b[0m\u001b[0mkeyarr\u001b[0m\u001b[0;34m,\u001b[0m \u001b[0mindexer\u001b[0m\u001b[0;34m,\u001b[0m \u001b[0maxis_name\u001b[0m\u001b[0;34m)\u001b[0m\u001b[0;34m\u001b[0m\u001b[0;34m\u001b[0m\u001b[0m\n\u001b[0m\u001b[1;32m   6071\u001b[0m \u001b[0;34m\u001b[0m\u001b[0m\n\u001b[1;32m   6072\u001b[0m         \u001b[0mkeyarr\u001b[0m \u001b[0;34m=\u001b[0m \u001b[0mself\u001b[0m\u001b[0;34m.\u001b[0m\u001b[0mtake\u001b[0m\u001b[0;34m(\u001b[0m\u001b[0mindexer\u001b[0m\u001b[0;34m)\u001b[0m\u001b[0;34m\u001b[0m\u001b[0;34m\u001b[0m\u001b[0m\n",
            "\u001b[0;32m/usr/local/lib/python3.10/dist-packages/pandas/core/indexes/base.py\u001b[0m in \u001b[0;36m_raise_if_missing\u001b[0;34m(self, key, indexer, axis_name)\u001b[0m\n\u001b[1;32m   6131\u001b[0m \u001b[0;34m\u001b[0m\u001b[0m\n\u001b[1;32m   6132\u001b[0m             \u001b[0mnot_found\u001b[0m \u001b[0;34m=\u001b[0m \u001b[0mlist\u001b[0m\u001b[0;34m(\u001b[0m\u001b[0mensure_index\u001b[0m\u001b[0;34m(\u001b[0m\u001b[0mkey\u001b[0m\u001b[0;34m)\u001b[0m\u001b[0;34m[\u001b[0m\u001b[0mmissing_mask\u001b[0m\u001b[0;34m.\u001b[0m\u001b[0mnonzero\u001b[0m\u001b[0;34m(\u001b[0m\u001b[0;34m)\u001b[0m\u001b[0;34m[\u001b[0m\u001b[0;36m0\u001b[0m\u001b[0;34m]\u001b[0m\u001b[0;34m]\u001b[0m\u001b[0;34m.\u001b[0m\u001b[0munique\u001b[0m\u001b[0;34m(\u001b[0m\u001b[0;34m)\u001b[0m\u001b[0;34m)\u001b[0m\u001b[0;34m\u001b[0m\u001b[0;34m\u001b[0m\u001b[0m\n\u001b[0;32m-> 6133\u001b[0;31m             \u001b[0;32mraise\u001b[0m \u001b[0mKeyError\u001b[0m\u001b[0;34m(\u001b[0m\u001b[0;34mf\"{not_found} not in index\"\u001b[0m\u001b[0;34m)\u001b[0m\u001b[0;34m\u001b[0m\u001b[0;34m\u001b[0m\u001b[0m\n\u001b[0m\u001b[1;32m   6134\u001b[0m \u001b[0;34m\u001b[0m\u001b[0m\n\u001b[1;32m   6135\u001b[0m     \u001b[0;34m@\u001b[0m\u001b[0moverload\u001b[0m\u001b[0;34m\u001b[0m\u001b[0;34m\u001b[0m\u001b[0m\n",
            "\u001b[0;31mKeyError\u001b[0m: \"['billing_plan_status', 'billing_products_name', 'unit_price', 'is_prepaid', 'prepaid_amount', 'average_rating', 'review_count', 'service_count'] not in index\""
          ]
        }
      ]
    },
    {
      "cell_type": "code",
      "source": [
        "df_subset"
      ],
      "metadata": {
        "id": "h2Afuep6-quu",
        "colab": {
          "base_uri": "https://localhost:8080/",
          "height": 424
        },
        "outputId": "5fd54bdb-2100-4eb8-a75d-7f994b4bc03b"
      },
      "execution_count": null,
      "outputs": [
        {
          "output_type": "execute_result",
          "data": {
            "text/plain": [
              "        billing_plan_status billing_products_name unit_price is_prepaid  \\\n",
              "0                       NaN                   NaN        NaN        NaN   \n",
              "1                       NaN                   NaN        NaN        NaN   \n",
              "2                       NaN                   NaN        NaN        NaN   \n",
              "3                       NaN                   NaN        NaN        NaN   \n",
              "4                       NaN                   NaN        NaN        NaN   \n",
              "...                     ...                   ...        ...        ...   \n",
              "1323292                 NaN                   NaN        NaN        NaN   \n",
              "1323293                 NaN                   NaN        NaN        NaN   \n",
              "1323294                 NaN                   NaN        NaN        NaN   \n",
              "1323295                 NaN                   NaN        NaN        NaN   \n",
              "1323296                 NaN                   NaN        NaN        NaN   \n",
              "\n",
              "        prepaid_amount average_rating review_count  service_count  churn  \n",
              "0                  NaN           4.26           84            600      1  \n",
              "1                  NaN           4.26           84           1800      1  \n",
              "2                  NaN           4.07          137            702      1  \n",
              "3                  NaN           4.07          137           2106      1  \n",
              "4                  NaN           4.53          129           1380      1  \n",
              "...                ...            ...          ...            ...    ...  \n",
              "1323292            NaN           4.87           52            105      1  \n",
              "1323293            NaN           4.87           52            105      0  \n",
              "1323294            NaN           4.87           52            105      0  \n",
              "1323295            NaN           4.87           52            105      0  \n",
              "1323296            NaN           4.87           52            105      1  \n",
              "\n",
              "[1135725 rows x 9 columns]"
            ],
            "text/html": [
              "\n",
              "  <div id=\"df-a5ef2258-842e-4891-8daf-26916de1497f\">\n",
              "    <div class=\"colab-df-container\">\n",
              "      <div>\n",
              "<style scoped>\n",
              "    .dataframe tbody tr th:only-of-type {\n",
              "        vertical-align: middle;\n",
              "    }\n",
              "\n",
              "    .dataframe tbody tr th {\n",
              "        vertical-align: top;\n",
              "    }\n",
              "\n",
              "    .dataframe thead th {\n",
              "        text-align: right;\n",
              "    }\n",
              "</style>\n",
              "<table border=\"1\" class=\"dataframe\">\n",
              "  <thead>\n",
              "    <tr style=\"text-align: right;\">\n",
              "      <th></th>\n",
              "      <th>billing_plan_status</th>\n",
              "      <th>billing_products_name</th>\n",
              "      <th>unit_price</th>\n",
              "      <th>is_prepaid</th>\n",
              "      <th>prepaid_amount</th>\n",
              "      <th>average_rating</th>\n",
              "      <th>review_count</th>\n",
              "      <th>service_count</th>\n",
              "      <th>churn</th>\n",
              "    </tr>\n",
              "  </thead>\n",
              "  <tbody>\n",
              "    <tr>\n",
              "      <th>0</th>\n",
              "      <td>NaN</td>\n",
              "      <td>NaN</td>\n",
              "      <td>NaN</td>\n",
              "      <td>NaN</td>\n",
              "      <td>NaN</td>\n",
              "      <td>4.26</td>\n",
              "      <td>84</td>\n",
              "      <td>600</td>\n",
              "      <td>1</td>\n",
              "    </tr>\n",
              "    <tr>\n",
              "      <th>1</th>\n",
              "      <td>NaN</td>\n",
              "      <td>NaN</td>\n",
              "      <td>NaN</td>\n",
              "      <td>NaN</td>\n",
              "      <td>NaN</td>\n",
              "      <td>4.26</td>\n",
              "      <td>84</td>\n",
              "      <td>1800</td>\n",
              "      <td>1</td>\n",
              "    </tr>\n",
              "    <tr>\n",
              "      <th>2</th>\n",
              "      <td>NaN</td>\n",
              "      <td>NaN</td>\n",
              "      <td>NaN</td>\n",
              "      <td>NaN</td>\n",
              "      <td>NaN</td>\n",
              "      <td>4.07</td>\n",
              "      <td>137</td>\n",
              "      <td>702</td>\n",
              "      <td>1</td>\n",
              "    </tr>\n",
              "    <tr>\n",
              "      <th>3</th>\n",
              "      <td>NaN</td>\n",
              "      <td>NaN</td>\n",
              "      <td>NaN</td>\n",
              "      <td>NaN</td>\n",
              "      <td>NaN</td>\n",
              "      <td>4.07</td>\n",
              "      <td>137</td>\n",
              "      <td>2106</td>\n",
              "      <td>1</td>\n",
              "    </tr>\n",
              "    <tr>\n",
              "      <th>4</th>\n",
              "      <td>NaN</td>\n",
              "      <td>NaN</td>\n",
              "      <td>NaN</td>\n",
              "      <td>NaN</td>\n",
              "      <td>NaN</td>\n",
              "      <td>4.53</td>\n",
              "      <td>129</td>\n",
              "      <td>1380</td>\n",
              "      <td>1</td>\n",
              "    </tr>\n",
              "    <tr>\n",
              "      <th>...</th>\n",
              "      <td>...</td>\n",
              "      <td>...</td>\n",
              "      <td>...</td>\n",
              "      <td>...</td>\n",
              "      <td>...</td>\n",
              "      <td>...</td>\n",
              "      <td>...</td>\n",
              "      <td>...</td>\n",
              "      <td>...</td>\n",
              "    </tr>\n",
              "    <tr>\n",
              "      <th>1323292</th>\n",
              "      <td>NaN</td>\n",
              "      <td>NaN</td>\n",
              "      <td>NaN</td>\n",
              "      <td>NaN</td>\n",
              "      <td>NaN</td>\n",
              "      <td>4.87</td>\n",
              "      <td>52</td>\n",
              "      <td>105</td>\n",
              "      <td>1</td>\n",
              "    </tr>\n",
              "    <tr>\n",
              "      <th>1323293</th>\n",
              "      <td>NaN</td>\n",
              "      <td>NaN</td>\n",
              "      <td>NaN</td>\n",
              "      <td>NaN</td>\n",
              "      <td>NaN</td>\n",
              "      <td>4.87</td>\n",
              "      <td>52</td>\n",
              "      <td>105</td>\n",
              "      <td>0</td>\n",
              "    </tr>\n",
              "    <tr>\n",
              "      <th>1323294</th>\n",
              "      <td>NaN</td>\n",
              "      <td>NaN</td>\n",
              "      <td>NaN</td>\n",
              "      <td>NaN</td>\n",
              "      <td>NaN</td>\n",
              "      <td>4.87</td>\n",
              "      <td>52</td>\n",
              "      <td>105</td>\n",
              "      <td>0</td>\n",
              "    </tr>\n",
              "    <tr>\n",
              "      <th>1323295</th>\n",
              "      <td>NaN</td>\n",
              "      <td>NaN</td>\n",
              "      <td>NaN</td>\n",
              "      <td>NaN</td>\n",
              "      <td>NaN</td>\n",
              "      <td>4.87</td>\n",
              "      <td>52</td>\n",
              "      <td>105</td>\n",
              "      <td>0</td>\n",
              "    </tr>\n",
              "    <tr>\n",
              "      <th>1323296</th>\n",
              "      <td>NaN</td>\n",
              "      <td>NaN</td>\n",
              "      <td>NaN</td>\n",
              "      <td>NaN</td>\n",
              "      <td>NaN</td>\n",
              "      <td>4.87</td>\n",
              "      <td>52</td>\n",
              "      <td>105</td>\n",
              "      <td>1</td>\n",
              "    </tr>\n",
              "  </tbody>\n",
              "</table>\n",
              "<p>1135725 rows × 9 columns</p>\n",
              "</div>\n",
              "      <button class=\"colab-df-convert\" onclick=\"convertToInteractive('df-a5ef2258-842e-4891-8daf-26916de1497f')\"\n",
              "              title=\"Convert this dataframe to an interactive table.\"\n",
              "              style=\"display:none;\">\n",
              "        \n",
              "  <svg xmlns=\"http://www.w3.org/2000/svg\" height=\"24px\"viewBox=\"0 0 24 24\"\n",
              "       width=\"24px\">\n",
              "    <path d=\"M0 0h24v24H0V0z\" fill=\"none\"/>\n",
              "    <path d=\"M18.56 5.44l.94 2.06.94-2.06 2.06-.94-2.06-.94-.94-2.06-.94 2.06-2.06.94zm-11 1L8.5 8.5l.94-2.06 2.06-.94-2.06-.94L8.5 2.5l-.94 2.06-2.06.94zm10 10l.94 2.06.94-2.06 2.06-.94-2.06-.94-.94-2.06-.94 2.06-2.06.94z\"/><path d=\"M17.41 7.96l-1.37-1.37c-.4-.4-.92-.59-1.43-.59-.52 0-1.04.2-1.43.59L10.3 9.45l-7.72 7.72c-.78.78-.78 2.05 0 2.83L4 21.41c.39.39.9.59 1.41.59.51 0 1.02-.2 1.41-.59l7.78-7.78 2.81-2.81c.8-.78.8-2.07 0-2.86zM5.41 20L4 18.59l7.72-7.72 1.47 1.35L5.41 20z\"/>\n",
              "  </svg>\n",
              "      </button>\n",
              "      \n",
              "  <style>\n",
              "    .colab-df-container {\n",
              "      display:flex;\n",
              "      flex-wrap:wrap;\n",
              "      gap: 12px;\n",
              "    }\n",
              "\n",
              "    .colab-df-convert {\n",
              "      background-color: #E8F0FE;\n",
              "      border: none;\n",
              "      border-radius: 50%;\n",
              "      cursor: pointer;\n",
              "      display: none;\n",
              "      fill: #1967D2;\n",
              "      height: 32px;\n",
              "      padding: 0 0 0 0;\n",
              "      width: 32px;\n",
              "    }\n",
              "\n",
              "    .colab-df-convert:hover {\n",
              "      background-color: #E2EBFA;\n",
              "      box-shadow: 0px 1px 2px rgba(60, 64, 67, 0.3), 0px 1px 3px 1px rgba(60, 64, 67, 0.15);\n",
              "      fill: #174EA6;\n",
              "    }\n",
              "\n",
              "    [theme=dark] .colab-df-convert {\n",
              "      background-color: #3B4455;\n",
              "      fill: #D2E3FC;\n",
              "    }\n",
              "\n",
              "    [theme=dark] .colab-df-convert:hover {\n",
              "      background-color: #434B5C;\n",
              "      box-shadow: 0px 1px 3px 1px rgba(0, 0, 0, 0.15);\n",
              "      filter: drop-shadow(0px 1px 2px rgba(0, 0, 0, 0.3));\n",
              "      fill: #FFFFFF;\n",
              "    }\n",
              "  </style>\n",
              "\n",
              "      <script>\n",
              "        const buttonEl =\n",
              "          document.querySelector('#df-a5ef2258-842e-4891-8daf-26916de1497f button.colab-df-convert');\n",
              "        buttonEl.style.display =\n",
              "          google.colab.kernel.accessAllowed ? 'block' : 'none';\n",
              "\n",
              "        async function convertToInteractive(key) {\n",
              "          const element = document.querySelector('#df-a5ef2258-842e-4891-8daf-26916de1497f');\n",
              "          const dataTable =\n",
              "            await google.colab.kernel.invokeFunction('convertToInteractive',\n",
              "                                                     [key], {});\n",
              "          if (!dataTable) return;\n",
              "\n",
              "          const docLinkHtml = 'Like what you see? Visit the ' +\n",
              "            '<a target=\"_blank\" href=https://colab.research.google.com/notebooks/data_table.ipynb>data table notebook</a>'\n",
              "            + ' to learn more about interactive tables.';\n",
              "          element.innerHTML = '';\n",
              "          dataTable['output_type'] = 'display_data';\n",
              "          await google.colab.output.renderOutput(dataTable, element);\n",
              "          const docLink = document.createElement('div');\n",
              "          docLink.innerHTML = docLinkHtml;\n",
              "          element.appendChild(docLink);\n",
              "        }\n",
              "      </script>\n",
              "    </div>\n",
              "  </div>\n",
              "  "
            ]
          },
          "metadata": {},
          "execution_count": 15
        }
      ]
    },
    {
      "cell_type": "code",
      "source": [
        "df_subset = df_subset.replace(to_replace=r'.*null.*', value=np.nan, regex=True)\n",
        "\n",
        "null_percentages = round((df_subset.isnull().sum() * 100) / df_subset.shape[0], 2)\n",
        "null_df = null_percentages.to_frame(name='Porcentaje de Nulos').reset_index()\n",
        "null_df.rename(columns={'index': 'Columna'}, inplace=True)\n",
        "print(null_df.to_string())"
      ],
      "metadata": {
        "id": "gRA4Y2lQ-rHq",
        "colab": {
          "base_uri": "https://localhost:8080/"
        },
        "outputId": "06292be4-5f0b-400e-8b53-15a8c88d2d04"
      },
      "execution_count": null,
      "outputs": [
        {
          "output_type": "stream",
          "name": "stdout",
          "text": [
            "                 Columna  Porcentaje de Nulos\n",
            "0    billing_plan_status                80.47\n",
            "1  billing_products_name                85.59\n",
            "2             unit_price                80.47\n",
            "3             is_prepaid                80.47\n",
            "4         prepaid_amount                85.64\n",
            "5         average_rating                59.74\n",
            "6           review_count                18.71\n",
            "7          service_count                 0.00\n",
            "8                  churn                 0.00\n"
          ]
        }
      ]
    },
    {
      "cell_type": "code",
      "source": [
        "df_subset.info()"
      ],
      "metadata": {
        "id": "f6jK20p6-rPF",
        "colab": {
          "base_uri": "https://localhost:8080/"
        },
        "outputId": "82c3d378-3778-4687-8a2a-f5b4d8ed877b"
      },
      "execution_count": null,
      "outputs": [
        {
          "output_type": "stream",
          "name": "stdout",
          "text": [
            "<class 'pandas.core.frame.DataFrame'>\n",
            "Int64Index: 3751387 entries, 0 to 4808002\n",
            "Data columns (total 9 columns):\n",
            " #   Column                 Dtype \n",
            "---  ------                 ----- \n",
            " 0   billing_plan_status    object\n",
            " 1   billing_products_name  object\n",
            " 2   unit_price             object\n",
            " 3   is_prepaid             object\n",
            " 4   prepaid_amount         object\n",
            " 5   average_rating         object\n",
            " 6   review_count           object\n",
            " 7   service_count          int64 \n",
            " 8   churn                  int64 \n",
            "dtypes: int64(2), object(7)\n",
            "memory usage: 286.2+ MB\n"
          ]
        }
      ]
    },
    {
      "cell_type": "markdown",
      "source": [
        "1. *Data Preprocessing*:\n",
        "\n",
        "- 1. Consistency Check\n",
        "- 2. Variable type\n",
        "- 3. Variable Preprocessing\n",
        "- 4. % of null"
      ],
      "metadata": {
        "id": "HEsjTN6gB2UV"
      }
    },
    {
      "cell_type": "markdown",
      "source": [
        "1.1. Consistency Check"
      ],
      "metadata": {
        "id": "HP3b_RE39prT"
      }
    },
    {
      "cell_type": "code",
      "source": [
        "df_subset.info()"
      ],
      "metadata": {
        "colab": {
          "base_uri": "https://localhost:8080/"
        },
        "id": "hr8sB87x8s75",
        "outputId": "1e639f65-af81-44ca-a3be-e1194254953f"
      },
      "execution_count": null,
      "outputs": [
        {
          "output_type": "stream",
          "name": "stdout",
          "text": [
            "<class 'pandas.core.frame.DataFrame'>\n",
            "Int64Index: 1135725 entries, 0 to 1323296\n",
            "Data columns (total 9 columns):\n",
            " #   Column                 Non-Null Count    Dtype  \n",
            "---  ------                 --------------    -----  \n",
            " 0   billing_plan_status    537362 non-null   object \n",
            " 1   billing_products_name  434581 non-null   object \n",
            " 2   unit_price             537362 non-null   float64\n",
            " 3   is_prepaid             537362 non-null   object \n",
            " 4   prepaid_amount         429744 non-null   object \n",
            " 5   average_rating         492365 non-null   float64\n",
            " 6   review_count           625102 non-null   float64\n",
            " 7   service_count          1135725 non-null  float64\n",
            " 8   churn                  1135725 non-null  int64  \n",
            "dtypes: float64(4), int64(1), object(4)\n",
            "memory usage: 86.6+ MB\n"
          ]
        }
      ]
    },
    {
      "cell_type": "markdown",
      "source": [
        "1.2. Variable Type"
      ],
      "metadata": {
        "id": "MVe8pX9r91_c"
      }
    },
    {
      "cell_type": "code",
      "source": [
        "# Cambio de tipo de variable\n",
        "\n",
        "df_subset['unit_price'] = df_subset['unit_price'].astype(float)\n",
        "df_subset['average_rating'] = df_subset['average_rating'].astype(float)\n",
        "df_subset['review_count'] = df_subset['review_count'].astype(float)\n",
        "df_subset['service_count'] = df_subset['service_count'].astype(float)\n",
        "df_subset['churn'] = df_subset['churn'].astype(int)"
      ],
      "metadata": {
        "id": "0DS7YajL8tOe"
      },
      "execution_count": null,
      "outputs": []
    },
    {
      "cell_type": "markdown",
      "source": [
        "1.3. Variable Preprocessing"
      ],
      "metadata": {
        "id": "0g9hroZEDBgB"
      }
    },
    {
      "cell_type": "code",
      "source": [
        "# Create a dictionary to map product names to billing product names\n",
        "mapping = {'starter': 'Starter',\n",
        "           'premium': 'Premium',\n",
        "           'advanced': 'Advanced',\n",
        "           'réservation en ligne': 'Starter',\n",
        "           'gestion + réservation en ligne': 'Premium',\n",
        "           'global': 'Premium',\n",
        "           'gr funkmartini basic': 'Starter',\n",
        "           'gr funkmartini gold': 'Advanced',\n",
        "           'réservation en ligne + site internet': 'Advanced',\n",
        "           'gestion': 'Premium',\n",
        "           'gestion + site internet': 'Premium'}"
      ],
      "metadata": {
        "id": "WmKru6LgDDdx"
      },
      "execution_count": null,
      "outputs": []
    },
    {
      "cell_type": "code",
      "source": [
        "# Create a new column 'billing_product_name' by mapping the product names\n",
        "df_subset['billing_products_name'] = df_subset['billing_products_name'].map(mapping)"
      ],
      "metadata": {
        "id": "y4uXcSsJDvC0"
      },
      "execution_count": null,
      "outputs": []
    },
    {
      "cell_type": "markdown",
      "source": [
        "1.4. % Null"
      ],
      "metadata": {
        "id": "-h_TnzkE97jL"
      }
    },
    {
      "cell_type": "code",
      "source": [
        "df_subset = df_subset.replace(to_replace=r'.*null.*', value=np.nan, regex=True)\n",
        "\n",
        "null_percentages = round((df_subset.isnull().sum() * 100) / df_subset.shape[0], 2)\n",
        "null_df = null_percentages.to_frame(name='Porcentaje de Nulos').reset_index()\n",
        "null_df.rename(columns={'index': 'Columna'}, inplace=True)\n",
        "print(null_df.to_string())"
      ],
      "metadata": {
        "colab": {
          "base_uri": "https://localhost:8080/"
        },
        "id": "2n84JZt39XE0",
        "outputId": "85659ae2-cec2-44f9-cb44-e3c69b73b30e"
      },
      "execution_count": null,
      "outputs": [
        {
          "output_type": "stream",
          "name": "stdout",
          "text": [
            "                 Columna  Porcentaje de Nulos\n",
            "0    billing_plan_status                52.69\n",
            "1  billing_products_name               100.00\n",
            "2             unit_price                52.69\n",
            "3             is_prepaid                52.69\n",
            "4         prepaid_amount                62.16\n",
            "5         average_rating                56.65\n",
            "6           review_count                44.96\n",
            "7          service_count                 0.00\n",
            "8                  churn                 0.00\n"
          ]
        }
      ]
    },
    {
      "cell_type": "markdown",
      "source": [
        "**Comment:** Alto % de Null values en todas las variables excepto service_count y churn"
      ],
      "metadata": {
        "id": "jeca9qGd-EFv"
      }
    },
    {
      "cell_type": "markdown",
      "source": [
        "**2. EDA**\n",
        "- 2.1. Definition\n",
        "- 2.2. Univariate Analysis\n",
        "- 2.3. Bivariate Analysis with churn\n",
        "- 2.4. Significance Test"
      ],
      "metadata": {
        "id": "EpWvt4Gv-4pz"
      }
    },
    {
      "cell_type": "markdown",
      "source": [
        "**Billing Plan Status:**\n",
        "\n",
        "\n",
        "The 'billing_plan_status' variable is categorical in nature and represents the status of billing plans in the Treatwell dataset. It has four distinct values:\n",
        "\n",
        "1. 'expired': This status indicates that the billing plan has expired.\n",
        "2. 'active': This status indicates that the billing plan is currently active.\n",
        "3. 'scheduled': This status indicates that the billing plan is scheduled for future activation.\n",
        "4. 'suspended': This status indicates that the billing plan is currently suspended."
      ],
      "metadata": {
        "id": "azeEOiVY-_RQ"
      }
    },
    {
      "cell_type": "code",
      "source": [
        "sns.countplot(x='billing_plan_status', data=df_subset)\n",
        "\n",
        "ax = plt.gca()\n",
        "for p in ax.patches:\n",
        "    height = p.get_height()\n",
        "    ax.annotate(f\"{height:.0f}\", (p.get_x() + p.get_width() / 2, height + 0.02), ha='center', va='bottom', fontsize=8)\n",
        "\n",
        "plt.show()\n"
      ],
      "metadata": {
        "colab": {
          "base_uri": "https://localhost:8080/",
          "height": 450
        },
        "id": "2cwNdmlvAm36",
        "outputId": "e9c72717-50e8-4a46-bad9-13d7883b1553"
      },
      "execution_count": null,
      "outputs": [
        {
          "output_type": "display_data",
          "data": {
            "text/plain": [
              "<Figure size 640x480 with 1 Axes>"
            ],
            "image/png": "[encoded data removed]"
          },
          "metadata": {}
        }
      ]
    },
    {
      "cell_type": "markdown",
      "source": [
        "**Estado de los planes de facturación:**\n",
        "\n",
        "- \"expired\" (caducado): 52.6%\n",
        "- \"active\" (activo): 32.9%\n",
        "- \"scheduled\" (programado): 2.8%\n",
        "- \"suspended\" (suspendido): 0.8%\n",
        "\n",
        "52% de los planes de facturación se encuentran en el estado \"expired\" (caducado), mientras un 32.9% de los planes de facturación están en uso. Sucheduled y Suspended representan un 3.6% de los datos."
      ],
      "metadata": {
        "id": "aftgpgJzBk0i"
      }
    },
    {
      "cell_type": "code",
      "source": [
        "df_subset['billing_plan_status'].value_counts()"
      ],
      "metadata": {
        "colab": {
          "base_uri": "https://localhost:8080/"
        },
        "id": "WM_MaVunBPpm",
        "outputId": "ed254e84-b1d2-4d04-8b04-09a17b02ec30"
      },
      "execution_count": null,
      "outputs": [
        {
          "output_type": "execute_result",
          "data": {
            "text/plain": [
              "expired      317253\n",
              "active       198610\n",
              "scheduled     16889\n",
              "suspended      4610\n",
              "Name: billing_plan_status, dtype: int64"
            ]
          },
          "metadata": {},
          "execution_count": 92
        }
      ]
    },
    {
      "cell_type": "code",
      "source": [
        "sns.countplot(x='billing_plan_status', hue='churn', data=df_subset)\n",
        "\n",
        "ax = plt.gca()\n",
        "for p in ax.patches:\n",
        "    height = p.get_height()\n",
        "    ax.annotate(f\"{height:.0f}\", (p.get_x() + p.get_width() / 2, height + 0.02), ha='center', va='bottom', fontsize=8)\n",
        "\n",
        "plt.show()"
      ],
      "metadata": {
        "colab": {
          "base_uri": "https://localhost:8080/",
          "height": 450
        },
        "id": "1R249aLNDKB5",
        "outputId": "939667b4-bc2f-4243-c2ff-91e7cf93d187"
      },
      "execution_count": null,
      "outputs": [
        {
          "output_type": "display_data",
          "data": {
            "text/plain": [
              "<Figure size 640x480 with 1 Axes>"
            ],
            "image/png": "[encoded data removed]"
          },
          "metadata": {}
        }
      ]
    },
    {
      "cell_type": "code",
      "source": [
        "billing_plan_tab = pd.crosstab(df_subset'billing_plan_status'], df_subset['churn'], normalize='index')\n",
        "billing_plan_tab"
      ],
      "metadata": {
        "colab": {
          "base_uri": "https://localhost:8080/",
          "height": 206
        },
        "id": "B1OSo4_bB0wT",
        "outputId": "de0faf15-23c9-4f5c-bb19-641b9d4cba8f"
      },
      "execution_count": null,
      "outputs": [
        {
          "output_type": "execute_result",
          "data": {
            "text/plain": [
              "churn                       0         1\n",
              "billing_plan_status                    \n",
              "active               0.992755  0.007245\n",
              "expired              0.823472  0.176528\n",
              "scheduled            0.986263  0.013737\n",
              "suspended            0.989805  0.010195"
            ],
            "text/html": [
              "\n",
              "  <div id=\"df-36243c9b-be0b-4a5d-92a7-70e68128a2ed\">\n",
              "    <div class=\"colab-df-container\">\n",
              "      <div>\n",
              "<style scoped>\n",
              "    .dataframe tbody tr th:only-of-type {\n",
              "        vertical-align: middle;\n",
              "    }\n",
              "\n",
              "    .dataframe tbody tr th {\n",
              "        vertical-align: top;\n",
              "    }\n",
              "\n",
              "    .dataframe thead th {\n",
              "        text-align: right;\n",
              "    }\n",
              "</style>\n",
              "<table border=\"1\" class=\"dataframe\">\n",
              "  <thead>\n",
              "    <tr style=\"text-align: right;\">\n",
              "      <th>churn</th>\n",
              "      <th>0</th>\n",
              "      <th>1</th>\n",
              "    </tr>\n",
              "    <tr>\n",
              "      <th>billing_plan_status</th>\n",
              "      <th></th>\n",
              "      <th></th>\n",
              "    </tr>\n",
              "  </thead>\n",
              "  <tbody>\n",
              "    <tr>\n",
              "      <th>active</th>\n",
              "      <td>0.992755</td>\n",
              "      <td>0.007245</td>\n",
              "    </tr>\n",
              "    <tr>\n",
              "      <th>expired</th>\n",
              "      <td>0.823472</td>\n",
              "      <td>0.176528</td>\n",
              "    </tr>\n",
              "    <tr>\n",
              "      <th>scheduled</th>\n",
              "      <td>0.986263</td>\n",
              "      <td>0.013737</td>\n",
              "    </tr>\n",
              "    <tr>\n",
              "      <th>suspended</th>\n",
              "      <td>0.989805</td>\n",
              "      <td>0.010195</td>\n",
              "    </tr>\n",
              "  </tbody>\n",
              "</table>\n",
              "</div>\n",
              "      <button class=\"colab-df-convert\" onclick=\"convertToInteractive('df-36243c9b-be0b-4a5d-92a7-70e68128a2ed')\"\n",
              "              title=\"Convert this dataframe to an interactive table.\"\n",
              "              style=\"display:none;\">\n",
              "        \n",
              "  <svg xmlns=\"http://www.w3.org/2000/svg\" height=\"24px\"viewBox=\"0 0 24 24\"\n",
              "       width=\"24px\">\n",
              "    <path d=\"M0 0h24v24H0V0z\" fill=\"none\"/>\n",
              "    <path d=\"M18.56 5.44l.94 2.06.94-2.06 2.06-.94-2.06-.94-.94-2.06-.94 2.06-2.06.94zm-11 1L8.5 8.5l.94-2.06 2.06-.94-2.06-.94L8.5 2.5l-.94 2.06-2.06.94zm10 10l.94 2.06.94-2.06 2.06-.94-2.06-.94-.94-2.06-.94 2.06-2.06.94z\"/><path d=\"M17.41 7.96l-1.37-1.37c-.4-.4-.92-.59-1.43-.59-.52 0-1.04.2-1.43.59L10.3 9.45l-7.72 7.72c-.78.78-.78 2.05 0 2.83L4 21.41c.39.39.9.59 1.41.59.51 0 1.02-.2 1.41-.59l7.78-7.78 2.81-2.81c.8-.78.8-2.07 0-2.86zM5.41 20L4 18.59l7.72-7.72 1.47 1.35L5.41 20z\"/>\n",
              "  </svg>\n",
              "      </button>\n",
              "      \n",
              "  <style>\n",
              "    .colab-df-container {\n",
              "      display:flex;\n",
              "      flex-wrap:wrap;\n",
              "      gap: 12px;\n",
              "    }\n",
              "\n",
              "    .colab-df-convert {\n",
              "      background-color: #E8F0FE;\n",
              "      border: none;\n",
              "      border-radius: 50%;\n",
              "      cursor: pointer;\n",
              "      display: none;\n",
              "      fill: #1967D2;\n",
              "      height: 32px;\n",
              "      padding: 0 0 0 0;\n",
              "      width: 32px;\n",
              "    }\n",
              "\n",
              "    .colab-df-convert:hover {\n",
              "      background-color: #E2EBFA;\n",
              "      box-shadow: 0px 1px 2px rgba(60, 64, 67, 0.3), 0px 1px 3px 1px rgba(60, 64, 67, 0.15);\n",
              "      fill: #174EA6;\n",
              "    }\n",
              "\n",
              "    [theme=dark] .colab-df-convert {\n",
              "      background-color: #3B4455;\n",
              "      fill: #D2E3FC;\n",
              "    }\n",
              "\n",
              "    [theme=dark] .colab-df-convert:hover {\n",
              "      background-color: #434B5C;\n",
              "      box-shadow: 0px 1px 3px 1px rgba(0, 0, 0, 0.15);\n",
              "      filter: drop-shadow(0px 1px 2px rgba(0, 0, 0, 0.3));\n",
              "      fill: #FFFFFF;\n",
              "    }\n",
              "  </style>\n",
              "\n",
              "      <script>\n",
              "        const buttonEl =\n",
              "          document.querySelector('#df-36243c9b-be0b-4a5d-92a7-70e68128a2ed button.colab-df-convert');\n",
              "        buttonEl.style.display =\n",
              "          google.colab.kernel.accessAllowed ? 'block' : 'none';\n",
              "\n",
              "        async function convertToInteractive(key) {\n",
              "          const element = document.querySelector('#df-36243c9b-be0b-4a5d-92a7-70e68128a2ed');\n",
              "          const dataTable =\n",
              "            await google.colab.kernel.invokeFunction('convertToInteractive',\n",
              "                                                     [key], {});\n",
              "          if (!dataTable) return;\n",
              "\n",
              "          const docLinkHtml = 'Like what you see? Visit the ' +\n",
              "            '<a target=\"_blank\" href=https://colab.research.google.com/notebooks/data_table.ipynb>data table notebook</a>'\n",
              "            + ' to learn more about interactive tables.';\n",
              "          element.innerHTML = '';\n",
              "          dataTable['output_type'] = 'display_data';\n",
              "          await google.colab.output.renderOutput(dataTable, element);\n",
              "          const docLink = document.createElement('div');\n",
              "          docLink.innerHTML = docLinkHtml;\n",
              "          element.appendChild(docLink);\n",
              "        }\n",
              "      </script>\n",
              "    </div>\n",
              "  </div>\n",
              "  "
            ]
          },
          "metadata": {},
          "execution_count": 65
        }
      ]
    },
    {
      "cell_type": "markdown",
      "source": [
        "\n",
        "Comparando los resultados de la variable \"billing_plan_status\" con la variable \"churn\" en forma de porcentajes, podemos hacer las siguientes conclusiones:\n",
        "\n",
        "Conclusión:  **Los clientes con planes caducados tienen una tasa de churn más alta (17.7% mientras el resto de clientes tienen una tasa de churn menor a 2%)**"
      ],
      "metadata": {
        "id": "V3HHZzAYCKBf"
      }
    },
    {
      "cell_type": "code",
      "source": [
        "from scipy.stats import chi2_contingency\n",
        "\n",
        "# Contingency table\n",
        "table = pd.crosstab(df_subset['billing_plan_status'], df_subset['churn'])\n",
        "\n",
        "# Chi-square test\n",
        "chi2, p_value, _, _ = chi2_contingency(table)\n",
        "\n",
        "print(\"Chi-square test:\")\n",
        "print(\"Chi2:\", chi2)\n",
        "print(\"p-value:\", p_value)\n",
        "\n",
        "if p_value < 0.05:\n",
        "    print(\"The variable 'billing_plan_status' has a statistically significant effect on 'churn'.\")\n",
        "else:\n",
        "    print(\"The variable 'billing_plan_status' does not have a statistically significant effect on 'churn'.\")"
      ],
      "metadata": {
        "colab": {
          "base_uri": "https://localhost:8080/"
        },
        "id": "qGdhvyPgTFs0",
        "outputId": "8c2073d7-3e56-4079-c2c6-47a891db4602"
      },
      "execution_count": null,
      "outputs": [
        {
          "output_type": "stream",
          "name": "stdout",
          "text": [
            "Chi-square test:\n",
            "Chi2: 75577.43214058981\n",
            "p-value: 0.0\n",
            "The variable 'billing_plan_status' has a statistically significant effect on 'churn'.\n"
          ]
        }
      ]
    },
    {
      "cell_type": "markdown",
      "source": [
        "**Billing_products_name**:\n",
        "\n",
        "- La variable \"billing_products_name\" es una variable catégorica que representa los nombres de los productos de facturación ofrecidos por Treatwell. y se distinguen entre \"Starter\", \"Premium\" y \"Advanced\":\n",
        "\n"
      ],
      "metadata": {
        "id": "Qn8ThyJEDYNV"
      }
    },
    {
      "cell_type": "code",
      "source": [
        "sns.countplot(x='billing_products_name', data=df_subset)\n",
        "\n",
        "ax = plt.gca()\n",
        "for p in ax.patches:\n",
        "    height = p.get_height()\n",
        "    ax.annotate(f\"{height:.0f}\", (p.get_x() + p.get_width() / 2, height + 0.02), ha='center', va='bottom', fontsize=8)\n",
        "\n",
        "plt.show()\n"
      ],
      "metadata": {
        "colab": {
          "base_uri": "https://localhost:8080/",
          "height": 453
        },
        "id": "aQ_cOOYdDbre",
        "outputId": "0c4b83ed-ecc2-4934-9a0b-bc97728af9d7"
      },
      "execution_count": null,
      "outputs": [
        {
          "output_type": "display_data",
          "data": {
            "text/plain": [
              "<Figure size 640x480 with 1 Axes>"
            ],
            "image/png": "[encoded data removed]"
          },
          "metadata": {}
        }
      ]
    },
    {
      "cell_type": "markdown",
      "source": [
        "**Comment:**\n",
        "\n",
        "- \"Starter\": 36.9%\n",
        "- \"Premium\": 35.5%\n",
        "- \"Advanced\": 31.6%"
      ],
      "metadata": {
        "id": "2EwCOIj3GbQG"
      }
    },
    {
      "cell_type": "code",
      "source": [
        "import matplotlib.pyplot as plt\n",
        "\n",
        "# Assuming you have a DataFrame named 'df' with 'churn_mes' and 'billing_plan_status' columns\n",
        "\n",
        "# Group the data by 'billing_plan_status' and calculate the churn rate\n",
        "churn_rate = df.groupby('prepay')['churn_mes'].mean()\n",
        "\n",
        "# Plotting the churn rate for each billing plan status\n",
        "plt.bar(churn_rate.index, churn_rate)\n",
        "plt.xlabel('Billing Plan Status')\n",
        "plt.ylabel('Churn Rate')\n",
        "plt.title('Churn Rate by Billing Plan Status')\n",
        "plt.show()\n"
      ],
      "metadata": {
        "colab": {
          "base_uri": "https://localhost:8080/",
          "height": 471
        },
        "id": "UWRaP9AODZkv",
        "outputId": "487c1bb8-e964-44a4-b97c-e19d4a10f06c"
      },
      "execution_count": null,
      "outputs": [
        {
          "output_type": "display_data",
          "data": {
            "text/plain": [
              "<Figure size 640x480 with 1 Axes>"
            ],
            "image/png": "[encoded data removed]"
          },
          "metadata": {}
        }
      ]
    },
    {
      "cell_type": "code",
      "source": [
        "df.head(1000)"
      ],
      "metadata": {
        "colab": {
          "base_uri": "https://localhost:8080/",
          "height": 805
        },
        "id": "sOLxLjOyDrhs",
        "outputId": "13fb1551-06fe-4ec0-d1fe-5d92abdae4e9"
      },
      "execution_count": null,
      "outputs": [
        {
          "output_type": "execute_result",
          "data": {
            "text/plain": [
              "       date_day  unique_venue_id              created venue_status  \\\n",
              "0    2021-07-01      11000000016  2008-03-25 12:47:09     DISABLED   \n",
              "1    2021-08-01      11000000016  2008-03-25 12:47:09     DISABLED   \n",
              "2    2021-09-01      11000000016  2008-03-25 12:47:09     DISABLED   \n",
              "3    2021-10-01      11000000016  2008-03-25 12:47:09     DISABLED   \n",
              "4    2021-11-01      11000000016  2008-03-25 12:47:09     DISABLED   \n",
              "..          ...              ...                  ...          ...   \n",
              "995  2022-09-01      11000000968  2008-06-12 12:14:36     DISABLED   \n",
              "996  2022-10-01      11000000968  2008-06-12 12:14:36     DISABLED   \n",
              "997  2022-11-01      11000000968  2008-06-12 12:14:36     DISABLED   \n",
              "998  2022-12-01      11000000968  2008-06-12 12:14:36     DISABLED   \n",
              "999  2023-01-01      11000000968  2008-06-12 12:14:36     DISABLED   \n",
              "\n",
              "    venue_active_from original_marketplace_venue_type_name country_code  \\\n",
              "0                 NaN                            Hotel Spa           GB   \n",
              "1                 NaN                            Hotel Spa           GB   \n",
              "2                 NaN                            Hotel Spa           GB   \n",
              "3                 NaN                            Hotel Spa           GB   \n",
              "4                 NaN                            Hotel Spa           GB   \n",
              "..                ...                                  ...          ...   \n",
              "995               NaN                          Medical Spa           GB   \n",
              "996               NaN                          Medical Spa           GB   \n",
              "997               NaN                          Medical Spa           GB   \n",
              "998               NaN                          Medical Spa           GB   \n",
              "999               NaN                          Medical Spa           GB   \n",
              "\n",
              "       tier saas_product      first_live_date  ... prepay prepaid_until_to  \\\n",
              "0       NaN   tw_connect  2009-07-20 00:00:00  ...      0              NaN   \n",
              "1       NaN   tw_connect  2009-07-20 00:00:00  ...      0              NaN   \n",
              "2       NaN   tw_connect  2009-07-20 00:00:00  ...      0              NaN   \n",
              "3       NaN   tw_connect  2009-07-20 00:00:00  ...      0              NaN   \n",
              "4       NaN   tw_connect  2009-07-20 00:00:00  ...      0              NaN   \n",
              "..      ...          ...                  ...  ...    ...              ...   \n",
              "995  Tier 1   tw_connect  2010-04-19 00:00:00  ...      0              NaN   \n",
              "996  Tier 1   tw_connect  2010-04-19 00:00:00  ...      0              NaN   \n",
              "997  Tier 1   tw_connect  2010-04-19 00:00:00  ...      0              NaN   \n",
              "998  Tier 1   tw_connect  2010-04-19 00:00:00  ...      0              NaN   \n",
              "999  Tier 1   tw_connect  2010-04-19 00:00:00  ...      0              NaN   \n",
              "\n",
              "    discount  plan_discount_end_date bill_every plan_name plan_fee_eur  \\\n",
              "0          0                     NaN          1     Entry        16.65   \n",
              "1          0                     NaN          1     Entry        16.65   \n",
              "2          0                     NaN          1     Entry        16.65   \n",
              "3          0                     NaN          1     Entry        16.65   \n",
              "4          0                     NaN          1     Entry        16.65   \n",
              "..       ...                     ...        ...       ...          ...   \n",
              "995        0                     NaN          1     Entry      17.3865   \n",
              "996        0                     NaN          1     Entry      17.3865   \n",
              "997        0                     NaN          1     Entry      17.3865   \n",
              "998        0                     NaN          1     Entry      17.3865   \n",
              "999        0                     NaN          1     Entry      17.3865   \n",
              "\n",
              "    is_zero_commission_plan      mes churn_mes  \n",
              "0                     False  2009-07         0  \n",
              "1                     False  2009-07         0  \n",
              "2                     False  2009-07         0  \n",
              "3                     False  2009-07         0  \n",
              "4                     False  2009-07         0  \n",
              "..                      ...      ...       ...  \n",
              "995                   False  2010-04         0  \n",
              "996                   False  2010-04         0  \n",
              "997                   False  2010-04         0  \n",
              "998                   False  2010-04         0  \n",
              "999                   False  2010-04         0  \n",
              "\n",
              "[1000 rows x 38 columns]"
            ],
            "text/html": [
              "\n",
              "  <div id=\"df-aae085ad-7783-4a01-a5e3-169053623d6b\">\n",
              "    <div class=\"colab-df-container\">\n",
              "      <div>\n",
              "<style scoped>\n",
              "    .dataframe tbody tr th:only-of-type {\n",
              "        vertical-align: middle;\n",
              "    }\n",
              "\n",
              "    .dataframe tbody tr th {\n",
              "        vertical-align: top;\n",
              "    }\n",
              "\n",
              "    .dataframe thead th {\n",
              "        text-align: right;\n",
              "    }\n",
              "</style>\n",
              "<table border=\"1\" class=\"dataframe\">\n",
              "  <thead>\n",
              "    <tr style=\"text-align: right;\">\n",
              "      <th></th>\n",
              "      <th>date_day</th>\n",
              "      <th>unique_venue_id</th>\n",
              "      <th>created</th>\n",
              "      <th>venue_status</th>\n",
              "      <th>venue_active_from</th>\n",
              "      <th>original_marketplace_venue_type_name</th>\n",
              "      <th>country_code</th>\n",
              "      <th>tier</th>\n",
              "      <th>saas_product</th>\n",
              "      <th>first_live_date</th>\n",
              "      <th>...</th>\n",
              "      <th>prepay</th>\n",
              "      <th>prepaid_until_to</th>\n",
              "      <th>discount</th>\n",
              "      <th>plan_discount_end_date</th>\n",
              "      <th>bill_every</th>\n",
              "      <th>plan_name</th>\n",
              "      <th>plan_fee_eur</th>\n",
              "      <th>is_zero_commission_plan</th>\n",
              "      <th>mes</th>\n",
              "      <th>churn_mes</th>\n",
              "    </tr>\n",
              "  </thead>\n",
              "  <tbody>\n",
              "    <tr>\n",
              "      <th>0</th>\n",
              "      <td>2021-07-01</td>\n",
              "      <td>11000000016</td>\n",
              "      <td>2008-03-25 12:47:09</td>\n",
              "      <td>DISABLED</td>\n",
              "      <td>NaN</td>\n",
              "      <td>Hotel Spa</td>\n",
              "      <td>GB</td>\n",
              "      <td>NaN</td>\n",
              "      <td>tw_connect</td>\n",
              "      <td>2009-07-20 00:00:00</td>\n",
              "      <td>...</td>\n",
              "      <td>0</td>\n",
              "      <td>NaN</td>\n",
              "      <td>0</td>\n",
              "      <td>NaN</td>\n",
              "      <td>1</td>\n",
              "      <td>Entry</td>\n",
              "      <td>16.65</td>\n",
              "      <td>False</td>\n",
              "      <td>2009-07</td>\n",
              "      <td>0</td>\n",
              "    </tr>\n",
              "    <tr>\n",
              "      <th>1</th>\n",
              "      <td>2021-08-01</td>\n",
              "      <td>11000000016</td>\n",
              "      <td>2008-03-25 12:47:09</td>\n",
              "      <td>DISABLED</td>\n",
              "      <td>NaN</td>\n",
              "      <td>Hotel Spa</td>\n",
              "      <td>GB</td>\n",
              "      <td>NaN</td>\n",
              "      <td>tw_connect</td>\n",
              "      <td>2009-07-20 00:00:00</td>\n",
              "      <td>...</td>\n",
              "      <td>0</td>\n",
              "      <td>NaN</td>\n",
              "      <td>0</td>\n",
              "      <td>NaN</td>\n",
              "      <td>1</td>\n",
              "      <td>Entry</td>\n",
              "      <td>16.65</td>\n",
              "      <td>False</td>\n",
              "      <td>2009-07</td>\n",
              "      <td>0</td>\n",
              "    </tr>\n",
              "    <tr>\n",
              "      <th>2</th>\n",
              "      <td>2021-09-01</td>\n",
              "      <td>11000000016</td>\n",
              "      <td>2008-03-25 12:47:09</td>\n",
              "      <td>DISABLED</td>\n",
              "      <td>NaN</td>\n",
              "      <td>Hotel Spa</td>\n",
              "      <td>GB</td>\n",
              "      <td>NaN</td>\n",
              "      <td>tw_connect</td>\n",
              "      <td>2009-07-20 00:00:00</td>\n",
              "      <td>...</td>\n",
              "      <td>0</td>\n",
              "      <td>NaN</td>\n",
              "      <td>0</td>\n",
              "      <td>NaN</td>\n",
              "      <td>1</td>\n",
              "      <td>Entry</td>\n",
              "      <td>16.65</td>\n",
              "      <td>False</td>\n",
              "      <td>2009-07</td>\n",
              "      <td>0</td>\n",
              "    </tr>\n",
              "    <tr>\n",
              "      <th>3</th>\n",
              "      <td>2021-10-01</td>\n",
              "      <td>11000000016</td>\n",
              "      <td>2008-03-25 12:47:09</td>\n",
              "      <td>DISABLED</td>\n",
              "      <td>NaN</td>\n",
              "      <td>Hotel Spa</td>\n",
              "      <td>GB</td>\n",
              "      <td>NaN</td>\n",
              "      <td>tw_connect</td>\n",
              "      <td>2009-07-20 00:00:00</td>\n",
              "      <td>...</td>\n",
              "      <td>0</td>\n",
              "      <td>NaN</td>\n",
              "      <td>0</td>\n",
              "      <td>NaN</td>\n",
              "      <td>1</td>\n",
              "      <td>Entry</td>\n",
              "      <td>16.65</td>\n",
              "      <td>False</td>\n",
              "      <td>2009-07</td>\n",
              "      <td>0</td>\n",
              "    </tr>\n",
              "    <tr>\n",
              "      <th>4</th>\n",
              "      <td>2021-11-01</td>\n",
              "      <td>11000000016</td>\n",
              "      <td>2008-03-25 12:47:09</td>\n",
              "      <td>DISABLED</td>\n",
              "      <td>NaN</td>\n",
              "      <td>Hotel Spa</td>\n",
              "      <td>GB</td>\n",
              "      <td>NaN</td>\n",
              "      <td>tw_connect</td>\n",
              "      <td>2009-07-20 00:00:00</td>\n",
              "      <td>...</td>\n",
              "      <td>0</td>\n",
              "      <td>NaN</td>\n",
              "      <td>0</td>\n",
              "      <td>NaN</td>\n",
              "      <td>1</td>\n",
              "      <td>Entry</td>\n",
              "      <td>16.65</td>\n",
              "      <td>False</td>\n",
              "      <td>2009-07</td>\n",
              "      <td>0</td>\n",
              "    </tr>\n",
              "    <tr>\n",
              "      <th>...</th>\n",
              "      <td>...</td>\n",
              "      <td>...</td>\n",
              "      <td>...</td>\n",
              "      <td>...</td>\n",
              "      <td>...</td>\n",
              "      <td>...</td>\n",
              "      <td>...</td>\n",
              "      <td>...</td>\n",
              "      <td>...</td>\n",
              "      <td>...</td>\n",
              "      <td>...</td>\n",
              "      <td>...</td>\n",
              "      <td>...</td>\n",
              "      <td>...</td>\n",
              "      <td>...</td>\n",
              "      <td>...</td>\n",
              "      <td>...</td>\n",
              "      <td>...</td>\n",
              "      <td>...</td>\n",
              "      <td>...</td>\n",
              "      <td>...</td>\n",
              "    </tr>\n",
              "    <tr>\n",
              "      <th>995</th>\n",
              "      <td>2022-09-01</td>\n",
              "      <td>11000000968</td>\n",
              "      <td>2008-06-12 12:14:36</td>\n",
              "      <td>DISABLED</td>\n",
              "      <td>NaN</td>\n",
              "      <td>Medical Spa</td>\n",
              "      <td>GB</td>\n",
              "      <td>Tier 1</td>\n",
              "      <td>tw_connect</td>\n",
              "      <td>2010-04-19 00:00:00</td>\n",
              "      <td>...</td>\n",
              "      <td>0</td>\n",
              "      <td>NaN</td>\n",
              "      <td>0</td>\n",
              "      <td>NaN</td>\n",
              "      <td>1</td>\n",
              "      <td>Entry</td>\n",
              "      <td>17.3865</td>\n",
              "      <td>False</td>\n",
              "      <td>2010-04</td>\n",
              "      <td>0</td>\n",
              "    </tr>\n",
              "    <tr>\n",
              "      <th>996</th>\n",
              "      <td>2022-10-01</td>\n",
              "      <td>11000000968</td>\n",
              "      <td>2008-06-12 12:14:36</td>\n",
              "      <td>DISABLED</td>\n",
              "      <td>NaN</td>\n",
              "      <td>Medical Spa</td>\n",
              "      <td>GB</td>\n",
              "      <td>Tier 1</td>\n",
              "      <td>tw_connect</td>\n",
              "      <td>2010-04-19 00:00:00</td>\n",
              "      <td>...</td>\n",
              "      <td>0</td>\n",
              "      <td>NaN</td>\n",
              "      <td>0</td>\n",
              "      <td>NaN</td>\n",
              "      <td>1</td>\n",
              "      <td>Entry</td>\n",
              "      <td>17.3865</td>\n",
              "      <td>False</td>\n",
              "      <td>2010-04</td>\n",
              "      <td>0</td>\n",
              "    </tr>\n",
              "    <tr>\n",
              "      <th>997</th>\n",
              "      <td>2022-11-01</td>\n",
              "      <td>11000000968</td>\n",
              "      <td>2008-06-12 12:14:36</td>\n",
              "      <td>DISABLED</td>\n",
              "      <td>NaN</td>\n",
              "      <td>Medical Spa</td>\n",
              "      <td>GB</td>\n",
              "      <td>Tier 1</td>\n",
              "      <td>tw_connect</td>\n",
              "      <td>2010-04-19 00:00:00</td>\n",
              "      <td>...</td>\n",
              "      <td>0</td>\n",
              "      <td>NaN</td>\n",
              "      <td>0</td>\n",
              "      <td>NaN</td>\n",
              "      <td>1</td>\n",
              "      <td>Entry</td>\n",
              "      <td>17.3865</td>\n",
              "      <td>False</td>\n",
              "      <td>2010-04</td>\n",
              "      <td>0</td>\n",
              "    </tr>\n",
              "    <tr>\n",
              "      <th>998</th>\n",
              "      <td>2022-12-01</td>\n",
              "      <td>11000000968</td>\n",
              "      <td>2008-06-12 12:14:36</td>\n",
              "      <td>DISABLED</td>\n",
              "      <td>NaN</td>\n",
              "      <td>Medical Spa</td>\n",
              "      <td>GB</td>\n",
              "      <td>Tier 1</td>\n",
              "      <td>tw_connect</td>\n",
              "      <td>2010-04-19 00:00:00</td>\n",
              "      <td>...</td>\n",
              "      <td>0</td>\n",
              "      <td>NaN</td>\n",
              "      <td>0</td>\n",
              "      <td>NaN</td>\n",
              "      <td>1</td>\n",
              "      <td>Entry</td>\n",
              "      <td>17.3865</td>\n",
              "      <td>False</td>\n",
              "      <td>2010-04</td>\n",
              "      <td>0</td>\n",
              "    </tr>\n",
              "    <tr>\n",
              "      <th>999</th>\n",
              "      <td>2023-01-01</td>\n",
              "      <td>11000000968</td>\n",
              "      <td>2008-06-12 12:14:36</td>\n",
              "      <td>DISABLED</td>\n",
              "      <td>NaN</td>\n",
              "      <td>Medical Spa</td>\n",
              "      <td>GB</td>\n",
              "      <td>Tier 1</td>\n",
              "      <td>tw_connect</td>\n",
              "      <td>2010-04-19 00:00:00</td>\n",
              "      <td>...</td>\n",
              "      <td>0</td>\n",
              "      <td>NaN</td>\n",
              "      <td>0</td>\n",
              "      <td>NaN</td>\n",
              "      <td>1</td>\n",
              "      <td>Entry</td>\n",
              "      <td>17.3865</td>\n",
              "      <td>False</td>\n",
              "      <td>2010-04</td>\n",
              "      <td>0</td>\n",
              "    </tr>\n",
              "  </tbody>\n",
              "</table>\n",
              "<p>1000 rows × 38 columns</p>\n",
              "</div>\n",
              "      <button class=\"colab-df-convert\" onclick=\"convertToInteractive('df-aae085ad-7783-4a01-a5e3-169053623d6b')\"\n",
              "              title=\"Convert this dataframe to an interactive table.\"\n",
              "              style=\"display:none;\">\n",
              "        \n",
              "  <svg xmlns=\"http://www.w3.org/2000/svg\" height=\"24px\"viewBox=\"0 0 24 24\"\n",
              "       width=\"24px\">\n",
              "    <path d=\"M0 0h24v24H0V0z\" fill=\"none\"/>\n",
              "    <path d=\"M18.56 5.44l.94 2.06.94-2.06 2.06-.94-2.06-.94-.94-2.06-.94 2.06-2.06.94zm-11 1L8.5 8.5l.94-2.06 2.06-.94-2.06-.94L8.5 2.5l-.94 2.06-2.06.94zm10 10l.94 2.06.94-2.06 2.06-.94-2.06-.94-.94-2.06-.94 2.06-2.06.94z\"/><path d=\"M17.41 7.96l-1.37-1.37c-.4-.4-.92-.59-1.43-.59-.52 0-1.04.2-1.43.59L10.3 9.45l-7.72 7.72c-.78.78-.78 2.05 0 2.83L4 21.41c.39.39.9.59 1.41.59.51 0 1.02-.2 1.41-.59l7.78-7.78 2.81-2.81c.8-.78.8-2.07 0-2.86zM5.41 20L4 18.59l7.72-7.72 1.47 1.35L5.41 20z\"/>\n",
              "  </svg>\n",
              "      </button>\n",
              "      \n",
              "  <style>\n",
              "    .colab-df-container {\n",
              "      display:flex;\n",
              "      flex-wrap:wrap;\n",
              "      gap: 12px;\n",
              "    }\n",
              "\n",
              "    .colab-df-convert {\n",
              "      background-color: #E8F0FE;\n",
              "      border: none;\n",
              "      border-radius: 50%;\n",
              "      cursor: pointer;\n",
              "      display: none;\n",
              "      fill: #1967D2;\n",
              "      height: 32px;\n",
              "      padding: 0 0 0 0;\n",
              "      width: 32px;\n",
              "    }\n",
              "\n",
              "    .colab-df-convert:hover {\n",
              "      background-color: #E2EBFA;\n",
              "      box-shadow: 0px 1px 2px rgba(60, 64, 67, 0.3), 0px 1px 3px 1px rgba(60, 64, 67, 0.15);\n",
              "      fill: #174EA6;\n",
              "    }\n",
              "\n",
              "    [theme=dark] .colab-df-convert {\n",
              "      background-color: #3B4455;\n",
              "      fill: #D2E3FC;\n",
              "    }\n",
              "\n",
              "    [theme=dark] .colab-df-convert:hover {\n",
              "      background-color: #434B5C;\n",
              "      box-shadow: 0px 1px 3px 1px rgba(0, 0, 0, 0.15);\n",
              "      filter: drop-shadow(0px 1px 2px rgba(0, 0, 0, 0.3));\n",
              "      fill: #FFFFFF;\n",
              "    }\n",
              "  </style>\n",
              "\n",
              "      <script>\n",
              "        const buttonEl =\n",
              "          document.querySelector('#df-aae085ad-7783-4a01-a5e3-169053623d6b button.colab-df-convert');\n",
              "        buttonEl.style.display =\n",
              "          google.colab.kernel.accessAllowed ? 'block' : 'none';\n",
              "\n",
              "        async function convertToInteractive(key) {\n",
              "          const element = document.querySelector('#df-aae085ad-7783-4a01-a5e3-169053623d6b');\n",
              "          const dataTable =\n",
              "            await google.colab.kernel.invokeFunction('convertToInteractive',\n",
              "                                                     [key], {});\n",
              "          if (!dataTable) return;\n",
              "\n",
              "          const docLinkHtml = 'Like what you see? Visit the ' +\n",
              "            '<a target=\"_blank\" href=https://colab.research.google.com/notebooks/data_table.ipynb>data table notebook</a>'\n",
              "            + ' to learn more about interactive tables.';\n",
              "          element.innerHTML = '';\n",
              "          dataTable['output_type'] = 'display_data';\n",
              "          await google.colab.output.renderOutput(dataTable, element);\n",
              "          const docLink = document.createElement('div');\n",
              "          docLink.innerHTML = docLinkHtml;\n",
              "          element.appendChild(docLink);\n",
              "        }\n",
              "      </script>\n",
              "    </div>\n",
              "  </div>\n",
              "  "
            ]
          },
          "metadata": {},
          "execution_count": 17
        }
      ]
    },
    {
      "cell_type": "code",
      "source": [
        "sns.countplot(x='billing_products_name', hue='churn', data=df_subset)\n",
        "\n",
        "# Add count labels to each bar\n",
        "ax = plt.gca()\n",
        "for p in ax.patches:\n",
        "    height = p.get_height()\n",
        "    ax.annotate(f\"{height:.0f}\", (p.get_x() + p.get_width() / 2, height + 0.02), ha='center', va='bottom', fontsize=8)\n",
        "\n",
        "plt.show()"
      ],
      "metadata": {
        "colab": {
          "base_uri": "https://localhost:8080/",
          "height": 450
        },
        "id": "YOZXToNTK3lc",
        "outputId": "42951058-83e0-4a84-e80e-a5593b50ae7c"
      },
      "execution_count": null,
      "outputs": [
        {
          "output_type": "display_data",
          "data": {
            "text/plain": [
              "<Figure size 640x480 with 1 Axes>"
            ],
            "image/png": "[encoded data removed]"
          },
          "metadata": {}
        }
      ]
    },
    {
      "cell_type": "code",
      "source": [
        "billing_product_tab= pd.crosstab(df_subset['billing_products_name'], df_subset['churn'], normalize='index')\n",
        "billing_product_tab"
      ],
      "metadata": {
        "colab": {
          "base_uri": "https://localhost:8080/",
          "height": 174
        },
        "id": "n4tmkRdGB1Lv",
        "outputId": "b887a524-57c2-49a0-adda-1cba7fd7499d"
      },
      "execution_count": null,
      "outputs": [
        {
          "output_type": "execute_result",
          "data": {
            "text/plain": [
              "churn                         0         1\n",
              "billing_products_name                    \n",
              "Advanced               0.931954  0.068046\n",
              "Premium                0.930334  0.069666\n",
              "Starter                0.913102  0.086898"
            ],
            "text/html": [
              "\n",
              "  <div id=\"df-e75ebdb6-0388-4290-8461-6ae7bf90a2a2\">\n",
              "    <div class=\"colab-df-container\">\n",
              "      <div>\n",
              "<style scoped>\n",
              "    .dataframe tbody tr th:only-of-type {\n",
              "        vertical-align: middle;\n",
              "    }\n",
              "\n",
              "    .dataframe tbody tr th {\n",
              "        vertical-align: top;\n",
              "    }\n",
              "\n",
              "    .dataframe thead th {\n",
              "        text-align: right;\n",
              "    }\n",
              "</style>\n",
              "<table border=\"1\" class=\"dataframe\">\n",
              "  <thead>\n",
              "    <tr style=\"text-align: right;\">\n",
              "      <th>churn</th>\n",
              "      <th>0</th>\n",
              "      <th>1</th>\n",
              "    </tr>\n",
              "    <tr>\n",
              "      <th>billing_products_name</th>\n",
              "      <th></th>\n",
              "      <th></th>\n",
              "    </tr>\n",
              "  </thead>\n",
              "  <tbody>\n",
              "    <tr>\n",
              "      <th>Advanced</th>\n",
              "      <td>0.931954</td>\n",
              "      <td>0.068046</td>\n",
              "    </tr>\n",
              "    <tr>\n",
              "      <th>Premium</th>\n",
              "      <td>0.930334</td>\n",
              "      <td>0.069666</td>\n",
              "    </tr>\n",
              "    <tr>\n",
              "      <th>Starter</th>\n",
              "      <td>0.913102</td>\n",
              "      <td>0.086898</td>\n",
              "    </tr>\n",
              "  </tbody>\n",
              "</table>\n",
              "</div>\n",
              "      <button class=\"colab-df-convert\" onclick=\"convertToInteractive('df-e75ebdb6-0388-4290-8461-6ae7bf90a2a2')\"\n",
              "              title=\"Convert this dataframe to an interactive table.\"\n",
              "              style=\"display:none;\">\n",
              "        \n",
              "  <svg xmlns=\"http://www.w3.org/2000/svg\" height=\"24px\"viewBox=\"0 0 24 24\"\n",
              "       width=\"24px\">\n",
              "    <path d=\"M0 0h24v24H0V0z\" fill=\"none\"/>\n",
              "    <path d=\"M18.56 5.44l.94 2.06.94-2.06 2.06-.94-2.06-.94-.94-2.06-.94 2.06-2.06.94zm-11 1L8.5 8.5l.94-2.06 2.06-.94-2.06-.94L8.5 2.5l-.94 2.06-2.06.94zm10 10l.94 2.06.94-2.06 2.06-.94-2.06-.94-.94-2.06-.94 2.06-2.06.94z\"/><path d=\"M17.41 7.96l-1.37-1.37c-.4-.4-.92-.59-1.43-.59-.52 0-1.04.2-1.43.59L10.3 9.45l-7.72 7.72c-.78.78-.78 2.05 0 2.83L4 21.41c.39.39.9.59 1.41.59.51 0 1.02-.2 1.41-.59l7.78-7.78 2.81-2.81c.8-.78.8-2.07 0-2.86zM5.41 20L4 18.59l7.72-7.72 1.47 1.35L5.41 20z\"/>\n",
              "  </svg>\n",
              "      </button>\n",
              "      \n",
              "  <style>\n",
              "    .colab-df-container {\n",
              "      display:flex;\n",
              "      flex-wrap:wrap;\n",
              "      gap: 12px;\n",
              "    }\n",
              "\n",
              "    .colab-df-convert {\n",
              "      background-color: #E8F0FE;\n",
              "      border: none;\n",
              "      border-radius: 50%;\n",
              "      cursor: pointer;\n",
              "      display: none;\n",
              "      fill: #1967D2;\n",
              "      height: 32px;\n",
              "      padding: 0 0 0 0;\n",
              "      width: 32px;\n",
              "    }\n",
              "\n",
              "    .colab-df-convert:hover {\n",
              "      background-color: #E2EBFA;\n",
              "      box-shadow: 0px 1px 2px rgba(60, 64, 67, 0.3), 0px 1px 3px 1px rgba(60, 64, 67, 0.15);\n",
              "      fill: #174EA6;\n",
              "    }\n",
              "\n",
              "    [theme=dark] .colab-df-convert {\n",
              "      background-color: #3B4455;\n",
              "      fill: #D2E3FC;\n",
              "    }\n",
              "\n",
              "    [theme=dark] .colab-df-convert:hover {\n",
              "      background-color: #434B5C;\n",
              "      box-shadow: 0px 1px 3px 1px rgba(0, 0, 0, 0.15);\n",
              "      filter: drop-shadow(0px 1px 2px rgba(0, 0, 0, 0.3));\n",
              "      fill: #FFFFFF;\n",
              "    }\n",
              "  </style>\n",
              "\n",
              "      <script>\n",
              "        const buttonEl =\n",
              "          document.querySelector('#df-e75ebdb6-0388-4290-8461-6ae7bf90a2a2 button.colab-df-convert');\n",
              "        buttonEl.style.display =\n",
              "          google.colab.kernel.accessAllowed ? 'block' : 'none';\n",
              "\n",
              "        async function convertToInteractive(key) {\n",
              "          const element = document.querySelector('#df-e75ebdb6-0388-4290-8461-6ae7bf90a2a2');\n",
              "          const dataTable =\n",
              "            await google.colab.kernel.invokeFunction('convertToInteractive',\n",
              "                                                     [key], {});\n",
              "          if (!dataTable) return;\n",
              "\n",
              "          const docLinkHtml = 'Like what you see? Visit the ' +\n",
              "            '<a target=\"_blank\" href=https://colab.research.google.com/notebooks/data_table.ipynb>data table notebook</a>'\n",
              "            + ' to learn more about interactive tables.';\n",
              "          element.innerHTML = '';\n",
              "          dataTable['output_type'] = 'display_data';\n",
              "          await google.colab.output.renderOutput(dataTable, element);\n",
              "          const docLink = document.createElement('div');\n",
              "          docLink.innerHTML = docLinkHtml;\n",
              "          element.appendChild(docLink);\n",
              "        }\n",
              "      </script>\n",
              "    </div>\n",
              "  </div>\n",
              "  "
            ]
          },
          "metadata": {},
          "execution_count": 70
        }
      ]
    },
    {
      "cell_type": "markdown",
      "source": [
        "Conclusión: Observamos que, en general, los productos de facturación \"Advanced\" y \"Premium\" tienen tasas de churn relativamente bajas, mientras que el producto \"Starter\" muestra una tasa de churn un poco más alta."
      ],
      "metadata": {
        "id": "Y7_KM-e_HBLJ"
      }
    },
    {
      "cell_type": "markdown",
      "source": [
        "**Unit Price**: La variable unit_price, de cáracter númerico, se refiere al precio de cada unidad de un producto o servicio que se ofrece en la plataforma de Treatwell."
      ],
      "metadata": {
        "id": "Zlg8OUSvGuaX"
      }
    },
    {
      "cell_type": "code",
      "source": [
        "from scipy.stats import chi2_contingency\n",
        "\n",
        "# Create a contingency table\n",
        "table = pd.crosstab(df_subset['billing_products_name'], df_subset['churn'])\n",
        "\n",
        "# Perform chi-square test\n",
        "chi2, p_value, _, _ = chi2_contingency(table)\n",
        "\n",
        "# Print the results\n",
        "print(\"Chi-square test:\")\n",
        "print(\"Chi2:\", chi2)\n",
        "print(\"p-value:\", p_value)\n",
        "\n",
        "if p_value < 0.05:\n",
        "    print(\"The variable 'billing_products_name' has a statistically significant effect on 'churn'.\")\n",
        "else:\n",
        "    print(\"The variable 'billing_products_name' does not have a statistically significant effect on 'churn'.\")"
      ],
      "metadata": {
        "colab": {
          "base_uri": "https://localhost:8080/"
        },
        "id": "NCvNLve5SyBc",
        "outputId": "123c4a1a-cb0b-448f-91d3-6636de90e5ca"
      },
      "execution_count": null,
      "outputs": [
        {
          "output_type": "stream",
          "name": "stdout",
          "text": [
            "Chi-square test:\n",
            "Chi2: 2386.2885722092997\n",
            "p-value: 0.0\n",
            "The variable 'billing_products_name' has a statistically significant effect on 'churn'.\n"
          ]
        }
      ]
    },
    {
      "cell_type": "markdown",
      "source": [
        "**Unit Price**:"
      ],
      "metadata": {
        "id": "NfM7PYNtSznR"
      }
    },
    {
      "cell_type": "code",
      "source": [
        "df_subset['unit_price'].describe()"
      ],
      "metadata": {
        "colab": {
          "base_uri": "https://localhost:8080/"
        },
        "id": "Zk6Ha3xtHeWR",
        "outputId": "a07e9b12-de89-44ae-c6a0-46c74f9e9d6a"
      },
      "execution_count": null,
      "outputs": [
        {
          "output_type": "execute_result",
          "data": {
            "text/plain": [
              "count    732598.000000\n",
              "mean         38.259880\n",
              "std          41.188098\n",
              "min           0.000000\n",
              "25%          19.000000\n",
              "50%          30.000000\n",
              "75%          50.000000\n",
              "max         828.000000\n",
              "Name: unit_price, dtype: float64"
            ]
          },
          "metadata": {},
          "execution_count": 127
        }
      ]
    },
    {
      "cell_type": "code",
      "source": [
        "sns.kdeplot(data=df_subset, x='unit_price', fill=True)\n",
        "\n",
        "plt.title('Distribution of unit price', fontsize=12)\n",
        "\n",
        "plt.show()"
      ],
      "metadata": {
        "colab": {
          "base_uri": "https://localhost:8080/",
          "height": 472
        },
        "id": "QKJVw0CfGxBd",
        "outputId": "6206b9cd-5325-4be5-b7ff-00e1cd112689"
      },
      "execution_count": null,
      "outputs": [
        {
          "output_type": "display_data",
          "data": {
            "text/plain": [
              "<Figure size 640x480 with 1 Axes>"
            ],
            "image/png": "[encoded data removed]"
          },
          "metadata": {}
        }
      ]
    },
    {
      "cell_type": "code",
      "source": [
        "df_subset['unit_price'].describe()"
      ],
      "metadata": {
        "colab": {
          "base_uri": "https://localhost:8080/"
        },
        "id": "ORj2QPXMHtC2",
        "outputId": "e73aab80-70e2-4c4a-9011-c8e4eb339c64"
      },
      "execution_count": null,
      "outputs": [
        {
          "output_type": "execute_result",
          "data": {
            "text/plain": [
              "count    732598.000000\n",
              "mean         38.259880\n",
              "std          41.188098\n",
              "min           0.000000\n",
              "25%          19.000000\n",
              "50%          30.000000\n",
              "75%          50.000000\n",
              "max         828.000000\n",
              "Name: unit_price, dtype: float64"
            ]
          },
          "metadata": {},
          "execution_count": 128
        }
      ]
    },
    {
      "cell_type": "markdown",
      "source": [
        "- El precio unitario promedio es de aproximadamente 38.26 unidades monetarias, con una desviación estándar de 41.19 unidades monetarias.\n",
        "- El rango de precios va desde 0 hasta 828 unidades monetarias.\n",
        "- La distribución de los precios unitarios muestra una variabilidad considerable en los datos, y la immensa mayoría de datos se situan por debajo 100 unidades monetarias."
      ],
      "metadata": {
        "id": "m53qSrIkIGjd"
      }
    },
    {
      "cell_type": "code",
      "source": [
        "sns.kdeplot(data=df_subset, x='unit_price', hue='churn', fill=True)\n",
        "\n",
        "plt.title('Churn per unit_price', fontsize=12)\n",
        "\n",
        "plt.show()"
      ],
      "metadata": {
        "colab": {
          "base_uri": "https://localhost:8080/",
          "height": 472
        },
        "id": "S9Gg-9T3B1S7",
        "outputId": "5055aaab-8ae4-4de7-a9d4-8d48cf68ab46"
      },
      "execution_count": null,
      "outputs": [
        {
          "output_type": "display_data",
          "data": {
            "text/plain": [
              "<Figure size 640x480 with 1 Axes>"
            ],
            "image/png": "[encoded data removed]"
          },
          "metadata": {}
        }
      ]
    },
    {
      "cell_type": "code",
      "source": [
        "sns.boxplot(data=df_subset, x='churn', y='unit_price')\n",
        "\n",
        "plt.title('Churn vs Unit Price', fontsize=12)\n",
        "\n",
        "plt.show()"
      ],
      "metadata": {
        "colab": {
          "base_uri": "https://localhost:8080/",
          "height": 472
        },
        "id": "Ptu0HsiN7YQm",
        "outputId": "35ceb672-0c40-442e-8477-38f37cef12f2"
      },
      "execution_count": null,
      "outputs": [
        {
          "output_type": "display_data",
          "data": {
            "text/plain": [
              "<Figure size 640x480 with 1 Axes>"
            ],
            "image/png": "[encoded data removed]"
          },
          "metadata": {}
        }
      ]
    },
    {
      "cell_type": "code",
      "source": [
        "# Churned and non-churned observations\n",
        "churned_subset = df_subset[df_subset['churn'] == 1]\n",
        "non_churned_subset = df_subset[df_subset['churn'] == 0]\n",
        "\n",
        "# Distribution of unit_price for churned and non-churned observations\n",
        "churned_distribution = churned_subset['unit_price'].describe()\n",
        "non_churned_distribution = non_churned_subset['unit_price'].describe()\n",
        "\n",
        "# Results\n",
        "print(\"Churned Distribution:\")\n",
        "print(churned_distribution)\n",
        "\n",
        "print(\"\\nNon-Churned Distribution:\")\n",
        "print(non_churned_distribution)"
      ],
      "metadata": {
        "colab": {
          "base_uri": "https://localhost:8080/"
        },
        "id": "fNO8zwdFJWDu",
        "outputId": "50044b37-a622-4670-fee8-360b9e170928"
      },
      "execution_count": null,
      "outputs": [
        {
          "output_type": "stream",
          "name": "stdout",
          "text": [
            "Churned Distribution:\n",
            "count    141239.000000\n",
            "mean         22.344537\n",
            "std          32.409250\n",
            "min           0.000000\n",
            "25%           0.000000\n",
            "50%          19.500000\n",
            "75%          39.000000\n",
            "max         600.000000\n",
            "Name: unit_price, dtype: float64\n",
            "\n",
            "Non-Churned Distribution:\n",
            "count    591359.000000\n",
            "mean         42.061069\n",
            "std          42.140577\n",
            "min           0.000000\n",
            "25%          29.000000\n",
            "50%          49.000000\n",
            "75%          60.000000\n",
            "max         828.000000\n",
            "Name: unit_price, dtype: float64\n"
          ]
        }
      ]
    },
    {
      "cell_type": "markdown",
      "source": [
        "**Conclusión**: los clientes churned tienden a tener un precio unitario promedio más bajo (22.34 unidades monetarias) en comparación con los clientes no churned (42.06 unidades monetarias)."
      ],
      "metadata": {
        "id": "Gdvb2iFaJ0Gj"
      }
    },
    {
      "cell_type": "markdown",
      "source": [
        "**Is_prepaid**: La variable, is_prepaid, es una variable binaria compuesta por:\n",
        "\n",
        "- Prepago del servicio hecho (True)\n",
        "- Prepago del servicio no hecho (False)"
      ],
      "metadata": {
        "id": "GrcHwhx_I0UH"
      }
    },
    {
      "cell_type": "code",
      "source": [
        "sns.countplot(x='is_prepaid', data=df_subset)\n",
        "\n",
        "ax = plt.gca()\n",
        "for p in ax.patches:\n",
        "    height = p.get_height()\n",
        "    ax.annotate(f\"{height:.0f}\", (p.get_x() + p.get_width() / 2, height + 0.02), ha='center', va='bottom', fontsize=8)\n",
        "\n",
        "plt.show()"
      ],
      "metadata": {
        "colab": {
          "base_uri": "https://localhost:8080/",
          "height": 450
        },
        "id": "BuL7qS7GJ75p",
        "outputId": "bbf58fe5-2805-4376-c1fc-a5c418cbea71"
      },
      "execution_count": null,
      "outputs": [
        {
          "output_type": "display_data",
          "data": {
            "text/plain": [
              "<Figure size 640x480 with 1 Axes>"
            ],
            "image/png": "[encoded data removed]"
          },
          "metadata": {}
        }
      ]
    },
    {
      "cell_type": "code",
      "source": [],
      "metadata": {
        "id": "cv8KeDT9vyXx"
      },
      "execution_count": null,
      "outputs": []
    },
    {
      "cell_type": "markdown",
      "source": [
        "- El 73.5% de las observaciones tienen un valor de \"true\" en la variable \"is_prepaid\".\n",
        "- El 26.5% de las observaciones tienen un valor de \"false\" en la variable \"is_prepaid\"."
      ],
      "metadata": {
        "id": "TsirUFBbKwqI"
      }
    },
    {
      "cell_type": "code",
      "source": [
        "sns.countplot(x='is_prepaid', hue='churn', data=df_subset)\n",
        "\n",
        "ax = plt.gca()\n",
        "for p in ax.patches:\n",
        "    height = p.get_height()\n",
        "    ax.annotate(f\"{height:.0f}\", (p.get_x() + p.get_width() / 2, height + 0.02), ha='center', va='bottom', fontsize=8)\n",
        "\n",
        "plt.show()"
      ],
      "metadata": {
        "colab": {
          "base_uri": "https://localhost:8080/",
          "height": 450
        },
        "id": "mKcRA1gE5GeX",
        "outputId": "9dd51794-8e0b-471b-fa67-66ed48ad4285"
      },
      "execution_count": null,
      "outputs": [
        {
          "output_type": "display_data",
          "data": {
            "text/plain": [
              "<Figure size 640x480 with 1 Axes>"
            ],
            "image/png": "[encoded data removed]"
          },
          "metadata": {}
        }
      ]
    },
    {
      "cell_type": "code",
      "source": [
        "prepaid_tab= pd.crosstab(df_subset['is_prepaid'], df_subset['churn'], normalize='index')\n",
        "prepaid_tab"
      ],
      "metadata": {
        "colab": {
          "base_uri": "https://localhost:8080/",
          "height": 144
        },
        "id": "neaNdA25B1Yx",
        "outputId": "72711d4e-76c4-4bfa-8b7a-573cccf834a2"
      },
      "execution_count": null,
      "outputs": [
        {
          "output_type": "execute_result",
          "data": {
            "text/plain": [
              "churn              0         1\n",
              "is_prepaid                    \n",
              "false       0.785191  0.214809\n",
              "true        0.919515  0.080485"
            ],
            "text/html": [
              "\n",
              "  <div id=\"df-de077522-f3f1-4b93-8a62-8e7c1f05ba9f\">\n",
              "    <div class=\"colab-df-container\">\n",
              "      <div>\n",
              "<style scoped>\n",
              "    .dataframe tbody tr th:only-of-type {\n",
              "        vertical-align: middle;\n",
              "    }\n",
              "\n",
              "    .dataframe tbody tr th {\n",
              "        vertical-align: top;\n",
              "    }\n",
              "\n",
              "    .dataframe thead th {\n",
              "        text-align: right;\n",
              "    }\n",
              "</style>\n",
              "<table border=\"1\" class=\"dataframe\">\n",
              "  <thead>\n",
              "    <tr style=\"text-align: right;\">\n",
              "      <th>churn</th>\n",
              "      <th>0</th>\n",
              "      <th>1</th>\n",
              "    </tr>\n",
              "    <tr>\n",
              "      <th>is_prepaid</th>\n",
              "      <th></th>\n",
              "      <th></th>\n",
              "    </tr>\n",
              "  </thead>\n",
              "  <tbody>\n",
              "    <tr>\n",
              "      <th>false</th>\n",
              "      <td>0.785191</td>\n",
              "      <td>0.214809</td>\n",
              "    </tr>\n",
              "    <tr>\n",
              "      <th>true</th>\n",
              "      <td>0.919515</td>\n",
              "      <td>0.080485</td>\n",
              "    </tr>\n",
              "  </tbody>\n",
              "</table>\n",
              "</div>\n",
              "      <button class=\"colab-df-convert\" onclick=\"convertToInteractive('df-de077522-f3f1-4b93-8a62-8e7c1f05ba9f')\"\n",
              "              title=\"Convert this dataframe to an interactive table.\"\n",
              "              style=\"display:none;\">\n",
              "        \n",
              "  <svg xmlns=\"http://www.w3.org/2000/svg\" height=\"24px\"viewBox=\"0 0 24 24\"\n",
              "       width=\"24px\">\n",
              "    <path d=\"M0 0h24v24H0V0z\" fill=\"none\"/>\n",
              "    <path d=\"M18.56 5.44l.94 2.06.94-2.06 2.06-.94-2.06-.94-.94-2.06-.94 2.06-2.06.94zm-11 1L8.5 8.5l.94-2.06 2.06-.94-2.06-.94L8.5 2.5l-.94 2.06-2.06.94zm10 10l.94 2.06.94-2.06 2.06-.94-2.06-.94-.94-2.06-.94 2.06-2.06.94z\"/><path d=\"M17.41 7.96l-1.37-1.37c-.4-.4-.92-.59-1.43-.59-.52 0-1.04.2-1.43.59L10.3 9.45l-7.72 7.72c-.78.78-.78 2.05 0 2.83L4 21.41c.39.39.9.59 1.41.59.51 0 1.02-.2 1.41-.59l7.78-7.78 2.81-2.81c.8-.78.8-2.07 0-2.86zM5.41 20L4 18.59l7.72-7.72 1.47 1.35L5.41 20z\"/>\n",
              "  </svg>\n",
              "      </button>\n",
              "      \n",
              "  <style>\n",
              "    .colab-df-container {\n",
              "      display:flex;\n",
              "      flex-wrap:wrap;\n",
              "      gap: 12px;\n",
              "    }\n",
              "\n",
              "    .colab-df-convert {\n",
              "      background-color: #E8F0FE;\n",
              "      border: none;\n",
              "      border-radius: 50%;\n",
              "      cursor: pointer;\n",
              "      display: none;\n",
              "      fill: #1967D2;\n",
              "      height: 32px;\n",
              "      padding: 0 0 0 0;\n",
              "      width: 32px;\n",
              "    }\n",
              "\n",
              "    .colab-df-convert:hover {\n",
              "      background-color: #E2EBFA;\n",
              "      box-shadow: 0px 1px 2px rgba(60, 64, 67, 0.3), 0px 1px 3px 1px rgba(60, 64, 67, 0.15);\n",
              "      fill: #174EA6;\n",
              "    }\n",
              "\n",
              "    [theme=dark] .colab-df-convert {\n",
              "      background-color: #3B4455;\n",
              "      fill: #D2E3FC;\n",
              "    }\n",
              "\n",
              "    [theme=dark] .colab-df-convert:hover {\n",
              "      background-color: #434B5C;\n",
              "      box-shadow: 0px 1px 3px 1px rgba(0, 0, 0, 0.15);\n",
              "      filter: drop-shadow(0px 1px 2px rgba(0, 0, 0, 0.3));\n",
              "      fill: #FFFFFF;\n",
              "    }\n",
              "  </style>\n",
              "\n",
              "      <script>\n",
              "        const buttonEl =\n",
              "          document.querySelector('#df-de077522-f3f1-4b93-8a62-8e7c1f05ba9f button.colab-df-convert');\n",
              "        buttonEl.style.display =\n",
              "          google.colab.kernel.accessAllowed ? 'block' : 'none';\n",
              "\n",
              "        async function convertToInteractive(key) {\n",
              "          const element = document.querySelector('#df-de077522-f3f1-4b93-8a62-8e7c1f05ba9f');\n",
              "          const dataTable =\n",
              "            await google.colab.kernel.invokeFunction('convertToInteractive',\n",
              "                                                     [key], {});\n",
              "          if (!dataTable) return;\n",
              "\n",
              "          const docLinkHtml = 'Like what you see? Visit the ' +\n",
              "            '<a target=\"_blank\" href=https://colab.research.google.com/notebooks/data_table.ipynb>data table notebook</a>'\n",
              "            + ' to learn more about interactive tables.';\n",
              "          element.innerHTML = '';\n",
              "          dataTable['output_type'] = 'display_data';\n",
              "          await google.colab.output.renderOutput(dataTable, element);\n",
              "          const docLink = document.createElement('div');\n",
              "          docLink.innerHTML = docLinkHtml;\n",
              "          element.appendChild(docLink);\n",
              "        }\n",
              "      </script>\n",
              "    </div>\n",
              "  </div>\n",
              "  "
            ]
          },
          "metadata": {},
          "execution_count": 75
        }
      ]
    },
    {
      "cell_type": "markdown",
      "source": [
        "\n",
        "- (Is_prepaid = false), aproximadamente el 78.5% (churn = 0), mientras que alrededor del 21.5% han churned (churn = 1).\n",
        "\n",
        "\n",
        "- (Is_prepaid = true), aproximadamente el 91.9% no han churned (churn = 0), mientras que alrededor del 8.1% han churned (churn = 1).\n",
        "\n",
        "\n",
        "Conclusión: **La proporción de churn es más alta entre los clientes sin contrato de prepago (21.5%) en comparación con los clientes con contrato de prepago (8.1%).**"
      ],
      "metadata": {
        "id": "hY70-CVtLOrL"
      }
    },
    {
      "cell_type": "code",
      "source": [
        "import pandas as pd\n",
        "from scipy.stats import chi2_contingency\n",
        "\n",
        "# Contingency table\n",
        "table = pd.crosstab(df_subset['is_prepaid'], df_subset['churn'])\n",
        "\n",
        "# Chi-square test\n",
        "chi2, p_value, _, _ = chi2_contingency(table)\n",
        "\n",
        "# Print the results\n",
        "print(\"Chi-square test:\")\n",
        "print(\"Chi2:\", chi2)\n",
        "print(\"p-value:\", p_value)\n",
        "\n",
        "if p_value < 0.05:\n",
        "    print(\"The variable 'is_prepaid' has a statistically significant effect on 'churn'.\")\n",
        "else:\n",
        "    print(\"The variable 'is_prepaid' does not have a statistically significant effect on 'churn'.\")"
      ],
      "metadata": {
        "colab": {
          "base_uri": "https://localhost:8080/"
        },
        "id": "2-fxN7HBQqQA",
        "outputId": "79b18cf7-a99f-4d13-b283-960641e1bd19"
      },
      "execution_count": null,
      "outputs": [
        {
          "output_type": "stream",
          "name": "stdout",
          "text": [
            "Chi-square test:\n",
            "Chi2: 41274.32934666438\n",
            "p-value: 0.0\n",
            "The variable 'is_prepaid' has a statistically significant effect on 'churn'.\n"
          ]
        }
      ]
    },
    {
      "cell_type": "markdown",
      "source": [
        "**Average rating**: Variable númerica con un rango de 1 a 5 estrellas, que se refiere a la puntuación dada por los clientes de cada establecimiento"
      ],
      "metadata": {
        "id": "7zshW0hyI6N7"
      }
    },
    {
      "cell_type": "code",
      "source": [
        "sns.kdeplot(data=df_subset, x='average_rating', fill=True)\n",
        "\n",
        "plt.title('Distribution of average_rating', fontsize=12)\n",
        "\n",
        "plt.show()"
      ],
      "metadata": {
        "colab": {
          "base_uri": "https://localhost:8080/",
          "height": 472
        },
        "id": "-a84fVrmI_M7",
        "outputId": "ede9ffdc-4924-40a2-871a-3c5258f4e0d6"
      },
      "execution_count": null,
      "outputs": [
        {
          "output_type": "display_data",
          "data": {
            "text/plain": [
              "<Figure size 640x480 with 1 Axes>"
            ],
            "image/png": "[encoded data removed]"
          },
          "metadata": {}
        }
      ]
    },
    {
      "cell_type": "code",
      "source": [
        "df_subset['average_rating'].describe()"
      ],
      "metadata": {
        "colab": {
          "base_uri": "https://localhost:8080/"
        },
        "id": "DYWH-Qm2LyjW",
        "outputId": "52a32ea2-7e41-4e61-ef47-c6259ebcf349"
      },
      "execution_count": null,
      "outputs": [
        {
          "output_type": "execute_result",
          "data": {
            "text/plain": [
              "count    1.510421e+06\n",
              "mean     4.568494e+00\n",
              "std      6.711109e-01\n",
              "min      0.000000e+00\n",
              "25%      4.500000e+00\n",
              "50%      4.780000e+00\n",
              "75%      4.940000e+00\n",
              "max      5.000000e+00\n",
              "Name: average_rating, dtype: float64"
            ]
          },
          "metadata": {},
          "execution_count": 138
        }
      ]
    },
    {
      "cell_type": "markdown",
      "source": [
        "La variable \"average_rating\" muestra una distribución de calificaciones promedio con:\n",
        "\n",
        "- Una media de aproximadamente 4.57 y una desviación estándar de 0.67.\n",
        "\n",
        "- Las calificaciones varían desde un mínimo de 0 hasta un máximo de 5.\n",
        "\n",
        "- La mayoría de las calificaciones se encuentran en el rango entre 4.5 y 4.94, con una mediana de 4.78.\n",
        "\n",
        "Estos resultados indican una evaluación generalmente positiva, con algunas calificaciones más bajas y casos de calificaciones perfectas."
      ],
      "metadata": {
        "id": "c-mtDp-QMLmA"
      }
    },
    {
      "cell_type": "code",
      "source": [
        "sns.kdeplot(data=df_subset, x='average_rating', hue='churn', fill=True)\n",
        "\n",
        "plt.title('Churn per average_rating', fontsize=12)\n",
        "\n",
        "plt.show()"
      ],
      "metadata": {
        "colab": {
          "base_uri": "https://localhost:8080/",
          "height": 472
        },
        "id": "PCTvc5PF5OOG",
        "outputId": "2ff71e1c-b77f-4f3e-b444-7da9948beae5"
      },
      "execution_count": null,
      "outputs": [
        {
          "output_type": "display_data",
          "data": {
            "text/plain": [
              "<Figure size 640x480 with 1 Axes>"
            ],
            "image/png": "[encoded data removed]"
          },
          "metadata": {}
        }
      ]
    },
    {
      "cell_type": "code",
      "source": [
        "import seaborn as sns\n",
        "import matplotlib.pyplot as plt\n",
        "\n",
        "df_subset['average_rating'] = df_subset['average_rating'].astype(float)\n",
        "\n",
        "sns.boxplot(data=df_subset, x='churn', y='average_rating')\n",
        "\n",
        "plt.title('Churn vs average_rating ', fontsize=12)\n",
        "\n",
        "plt.show()"
      ],
      "metadata": {
        "colab": {
          "base_uri": "https://localhost:8080/",
          "height": 472
        },
        "id": "M8oQv6CN73Ql",
        "outputId": "ca85dbe9-2dac-4347-934c-8e3cc30d9ed3"
      },
      "execution_count": null,
      "outputs": [
        {
          "output_type": "display_data",
          "data": {
            "text/plain": [
              "<Figure size 640x480 with 1 Axes>"
            ],
            "image/png": "[encoded data removed]"
          },
          "metadata": {}
        }
      ]
    },
    {
      "cell_type": "code",
      "source": [
        "# Churned and non-churned observations\n",
        "churned_subset = df_subset[df_subset['churn'] == 1]\n",
        "non_churned_subset = df_subset[df_subset['churn'] == 0]\n",
        "\n",
        "# Distribution of unit_price for churned and non-churned observations\n",
        "churned_distribution = churned_subset['average_rating'].describe()\n",
        "non_churned_distribution = non_churned_subset['average_rating'].describe()\n",
        "\n",
        "# Results\n",
        "print(\"Churned Distribution:\")\n",
        "print(churned_distribution)\n",
        "\n",
        "print(\"\\nNon-Churned Distribution:\")\n",
        "print(non_churned_distribution)"
      ],
      "metadata": {
        "colab": {
          "base_uri": "https://localhost:8080/"
        },
        "id": "DGV0xCNIMcb3",
        "outputId": "5b9ba4bc-f30c-4ac8-8c38-1a6d0f37ffaa"
      },
      "execution_count": null,
      "outputs": [
        {
          "output_type": "stream",
          "name": "stdout",
          "text": [
            "Churned Distribution:\n",
            "count    762205.000000\n",
            "mean          4.542184\n",
            "std           0.663490\n",
            "min           0.000000\n",
            "25%           4.420000\n",
            "50%           4.750000\n",
            "75%           4.960000\n",
            "max           5.000000\n",
            "Name: average_rating, dtype: float64\n",
            "\n",
            "Non-Churned Distribution:\n",
            "count    748216.000000\n",
            "mean          4.595295\n",
            "std           0.677737\n",
            "min           1.000000\n",
            "25%           4.570000\n",
            "50%           4.810000\n",
            "75%           4.930000\n",
            "max           5.000000\n",
            "Name: average_rating, dtype: float64\n"
          ]
        }
      ]
    },
    {
      "cell_type": "markdown",
      "source": [
        "\n",
        "Conclusión:\n",
        "\n",
        "- Los establecimientos churned tienen una calificación promedio de 4.54, con una desviación estándar de 0.66\n",
        "\n",
        "- Los establecimientos no churned tienen una calificación promedio de 4.60, con una desviación estándar de 0.68.\n",
        "\n",
        "Esto indica que, en general, los establecimientos no churned tienden a tener una calificación ligeramente más alta y más consistente que los churned, aunque el impacto no es claro."
      ],
      "metadata": {
        "id": "i6m7SZnWNRj4"
      }
    },
    {
      "cell_type": "code",
      "source": [
        "from scipy.stats import f_oneway\n",
        "\n",
        "# Churned and non-churned observations\n",
        "churned_subset = df_subset[df_subset['churn'] == 1]\n",
        "non_churned_subset = df_subset[df_subset['churn'] == 0]\n",
        "\n",
        "# ANOVA test\n",
        "f_stat, p_value = f_oneway(churned_subset['average_rating'], non_churned_subset['average_rating'])\n",
        "\n",
        "# Results\n",
        "print(\"ANOVA test:\")\n",
        "print(\"F-statistic:\", f_stat)\n",
        "print(\"p-value:\", p_value)\n"
      ],
      "metadata": {
        "colab": {
          "base_uri": "https://localhost:8080/"
        },
        "id": "AhzKcf2cRyEK",
        "outputId": "8fbe883b-c28b-4179-a220-7f7444f6710a"
      },
      "execution_count": null,
      "outputs": [
        {
          "output_type": "stream",
          "name": "stdout",
          "text": [
            "ANOVA test:\n",
            "F-statistic: nan\n",
            "p-value: nan\n"
          ]
        }
      ]
    },
    {
      "cell_type": "markdown",
      "source": [
        "**Review_count**: La variable review_counts, de cáracter númerico, se refiere al número de reviews por establecimiento"
      ],
      "metadata": {
        "id": "TQL_nF2CNdWR"
      }
    },
    {
      "cell_type": "code",
      "source": [
        "sns.kdeplot(data=df_subset, x='review_count', fill=True)\n",
        "\n",
        "plt.title('Churn per review_count', fontsize=12)\n",
        "\n",
        "plt.show()"
      ],
      "metadata": {
        "colab": {
          "base_uri": "https://localhost:8080/",
          "height": 472
        },
        "id": "77e0AW_JN-sI",
        "outputId": "983c0c01-a749-4b26-f104-19b45abdebc1"
      },
      "execution_count": null,
      "outputs": [
        {
          "output_type": "display_data",
          "data": {
            "text/plain": [
              "<Figure size 640x480 with 1 Axes>"
            ],
            "image/png": "[encoded data removed]"
          },
          "metadata": {}
        }
      ]
    },
    {
      "cell_type": "code",
      "source": [
        "df_subset['review_count'].describe()"
      ],
      "metadata": {
        "colab": {
          "base_uri": "https://localhost:8080/"
        },
        "id": "1tdXV5ehOluk",
        "outputId": "9eb4f185-a4e3-4739-b3f5-219bcadc0fe8"
      },
      "execution_count": null,
      "outputs": [
        {
          "output_type": "execute_result",
          "data": {
            "text/plain": [
              "count    3.049633e+06\n",
              "mean     8.886895e+01\n",
              "std      3.338058e+02\n",
              "min      0.000000e+00\n",
              "25%      0.000000e+00\n",
              "50%      0.000000e+00\n",
              "75%      2.600000e+01\n",
              "max      1.454200e+04\n",
              "Name: review_count, dtype: float64"
            ]
          },
          "metadata": {},
          "execution_count": 149
        }
      ]
    },
    {
      "cell_type": "markdown",
      "source": [
        "La variable \"review_count\" muestra una distribución con los siguientes resultados:\n",
        "\n",
        "- La media de \"review_count\" es de aproximadamente 88.87, por establecimiento.\n",
        "\n",
        "- La desviación estándar es de aproximadamente 333.81, lo que indica una dispersión considerable en la cantidad de revisiones.\n",
        "- El valor mínimo es 0, y el valor máximo de 14.542.\n",
        "\n",
        "\n",
        "- Los valores del percentil 25, 50 y 75 son todos 0 o cercanos a 0, lo que indica que la mayoría de los establecimientos tienen un bajo número de revisiones."
      ],
      "metadata": {
        "id": "G_9DJOGAPmdx"
      }
    },
    {
      "cell_type": "code",
      "source": [
        "sns.kdeplot(data=df_subset, x='review_count', hue='churn', fill=True)\n",
        "\n",
        "plt.title('Churn per review_count', fontsize=12)\n",
        "\n",
        "plt.show()"
      ],
      "metadata": {
        "colab": {
          "base_uri": "https://localhost:8080/",
          "height": 472
        },
        "id": "5JumbVyJ5Zin",
        "outputId": "dd84ed98-135a-49c5-daca-8f80ad81b425"
      },
      "execution_count": null,
      "outputs": [
        {
          "output_type": "display_data",
          "data": {
            "text/plain": [
              "<Figure size 640x480 with 1 Axes>"
            ],
            "image/png": "[encoded data removed]"
          },
          "metadata": {}
        }
      ]
    },
    {
      "cell_type": "code",
      "source": [
        "df_subset['review_count'] = df_subset['review_count'].astype(float)\n",
        "\n",
        "sns.boxplot(data=df_subset, x='churn', y='review_count')\n",
        "\n",
        "plt.title('Churn vs review_count ', fontsize=12)\n",
        "\n",
        "plt.show()"
      ],
      "metadata": {
        "colab": {
          "base_uri": "https://localhost:8080/",
          "height": 472
        },
        "id": "Yno3avAt8IGG",
        "outputId": "7e55b9eb-33f1-4451-e216-bad720f8c0b0"
      },
      "execution_count": null,
      "outputs": [
        {
          "output_type": "display_data",
          "data": {
            "text/plain": [
              "<Figure size 640x480 with 1 Axes>"
            ],
            "image/png": "[encoded data removed]"
          },
          "metadata": {}
        }
      ]
    },
    {
      "cell_type": "code",
      "source": [
        "# Churned and non-churned observations\n",
        "churned_subset = df_subset[df_subset['churn'] == 1]\n",
        "non_churned_subset = df_subset[df_subset['churn'] == 0]\n",
        "\n",
        "# Distribution of unit_price for churned and non-churned observations\n",
        "churned_distribution = churned_subset['review_count'].describe()\n",
        "non_churned_distribution = non_churned_subset['review_count'].describe()\n",
        "\n",
        "print(\"Churned Distribution:\")\n",
        "print(churned_distribution)\n",
        "\n",
        "print(\"\\nNon-Churned Distribution:\")\n",
        "print(non_churned_distribution)"
      ],
      "metadata": {
        "colab": {
          "base_uri": "https://localhost:8080/"
        },
        "id": "R9zs3uCAP4yJ",
        "outputId": "07f66487-1f62-4f74-e600-68bf6fa6153a"
      },
      "execution_count": null,
      "outputs": [
        {
          "output_type": "stream",
          "name": "stdout",
          "text": [
            "Churned Distribution:\n",
            "count    968166.000000\n",
            "mean         46.085354\n",
            "std         159.491869\n",
            "min           0.000000\n",
            "25%           1.000000\n",
            "50%           8.000000\n",
            "75%          29.000000\n",
            "max        7050.000000\n",
            "Name: review_count, dtype: float64\n",
            "\n",
            "Non-Churned Distribution:\n",
            "count    2.081467e+06\n",
            "mean     1.087691e+02\n",
            "std      3.875247e+02\n",
            "min      0.000000e+00\n",
            "25%      0.000000e+00\n",
            "50%      0.000000e+00\n",
            "75%      2.000000e+01\n",
            "max      1.454200e+04\n",
            "Name: review_count, dtype: float64\n"
          ]
        }
      ]
    },
    {
      "cell_type": "markdown",
      "source": [
        "**Service Count**"
      ],
      "metadata": {
        "id": "oTzVAv7kP-64"
      }
    },
    {
      "cell_type": "code",
      "source": [
        "sns.kdeplot(data=df_subset, x='service_count', fill=True)\n",
        "\n",
        "plt.title('Distribution of service_count', fontsize=12)\n",
        "\n",
        "plt.show()"
      ],
      "metadata": {
        "colab": {
          "base_uri": "https://localhost:8080/",
          "height": 472
        },
        "id": "Yc6R07M7Tf9E",
        "outputId": "0e9bd45b-1ce2-4be3-d017-6c79bb31c960"
      },
      "execution_count": null,
      "outputs": [
        {
          "output_type": "display_data",
          "data": {
            "text/plain": [
              "<Figure size 640x480 with 1 Axes>"
            ],
            "image/png": "[encoded data removed]"
          },
          "metadata": {}
        }
      ]
    },
    {
      "cell_type": "code",
      "source": [
        "df['service_count'].describe()"
      ],
      "metadata": {
        "id": "EwNzcOJwTk0w"
      },
      "execution_count": null,
      "outputs": []
    },
    {
      "cell_type": "code",
      "source": [
        "df_subset['service_count']=df_subset['service_count'].astype(float)\n",
        "\n",
        "sns.kdeplot(data=df_subset, x='service_count', hue='churn', fill=True)\n",
        "\n",
        "plt.title('Churn per service_count', fontsize=12)\n",
        "\n",
        "plt.show()"
      ],
      "metadata": {
        "colab": {
          "base_uri": "https://localhost:8080/",
          "height": 472
        },
        "id": "Zkj5kYUh5g4W",
        "outputId": "2b05f1f0-cc9a-4cbc-c2c7-6436ae4f7f7f"
      },
      "execution_count": null,
      "outputs": [
        {
          "output_type": "display_data",
          "data": {
            "text/plain": [
              "<Figure size 640x480 with 1 Axes>"
            ],
            "image/png": "[encoded data removed]"
          },
          "metadata": {}
        }
      ]
    },
    {
      "cell_type": "code",
      "source": [
        "import seaborn as sns\n",
        "import matplotlib.pyplot as plt\n",
        "\n",
        "df_subset['service_count'] = df_subset['service_count'].astype(float)\n",
        "\n",
        "sns.boxplot(data=df_subset, x='churn', y='service_count')\n",
        "\n",
        "plt.title('Churn vs service_count ', fontsize=12)\n",
        "\n",
        "plt.show()"
      ],
      "metadata": {
        "colab": {
          "base_uri": "https://localhost:8080/",
          "height": 472
        },
        "id": "CbncDSDc8SCj",
        "outputId": "ec884c42-4ee7-4768-d911-de488cc7e94b"
      },
      "execution_count": null,
      "outputs": [
        {
          "output_type": "display_data",
          "data": {
            "text/plain": [
              "<Figure size 640x480 with 1 Axes>"
            ],
            "image/png": "[encoded data removed]"
          },
          "metadata": {}
        }
      ]
    },
    {
      "cell_type": "code",
      "source": [
        "# Churned and non-churned observations\n",
        "churned_subset = df_subset[df_subset['churn'] == 1]\n",
        "non_churned_subset = df_subset[df_subset['churn'] == 0]\n",
        "\n",
        "# Distribution of unit_price for churned and non-churned observations\n",
        "churned_distribution = churned_subset['service_count'].describe()\n",
        "non_churned_distribution = non_churned_subset['service_count'].describe()\n",
        "\n",
        "# Results\n",
        "print(\"Churned Distribution:\")\n",
        "print(churned_distribution)\n",
        "\n",
        "print(\"\\nNon-Churned Distribution:\")\n",
        "print(non_churned_distribution)"
      ],
      "metadata": {
        "colab": {
          "base_uri": "https://localhost:8080/"
        },
        "id": "508XER0-DGE2",
        "outputId": "8e12d0b6-75a4-4ef3-cdf3-932e785a3082"
      },
      "execution_count": null,
      "outputs": [
        {
          "output_type": "stream",
          "name": "stdout",
          "text": [
            "Churned Distribution:\n",
            "count    1.106675e+06\n",
            "mean     3.918546e+01\n",
            "std      5.025208e+01\n",
            "min      0.000000e+00\n",
            "25%      1.100000e+01\n",
            "50%      2.500000e+01\n",
            "75%      5.100000e+01\n",
            "max      1.994000e+03\n",
            "Name: service_count, dtype: float64\n",
            "\n",
            "Non-Churned Distribution:\n",
            "count    2.644712e+06\n",
            "mean     4.014378e+01\n",
            "std      7.907751e+01\n",
            "min      0.000000e+00\n",
            "25%      0.000000e+00\n",
            "50%      2.000000e+00\n",
            "75%      5.300000e+01\n",
            "max      7.365000e+03\n",
            "Name: service_count, dtype: float64\n"
          ]
        }
      ]
    }
  ]
}