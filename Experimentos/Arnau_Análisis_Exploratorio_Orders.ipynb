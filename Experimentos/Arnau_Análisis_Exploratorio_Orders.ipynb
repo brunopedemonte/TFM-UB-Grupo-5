{
  "nbformat": 4,
  "nbformat_minor": 0,
  "metadata": {
    "colab": {
      "provenance": []
    },
    "kernelspec": {
      "name": "python3",
      "display_name": "Python 3"
    },
    "language_info": {
      "name": "python"
    }
  },
  "cells": [
    {
      "cell_type": "code",
      "execution_count": null,
      "metadata": {
        "id": "55FCR_BbOt33"
      },
      "outputs": [],
      "source": [
        "# Librerias\n",
        "import pandas as pd\n",
        "import numpy as np\n",
        "import datetime as dt\n",
        "import matplotlib.pyplot as plt\n",
        "import seaborn as sns\n",
        "sns.set()"
      ]
    },
    {
      "cell_type": "code",
      "source": [
        "# Nos conectamos a Drive\n",
        "from google.colab import drive\n",
        "drive.mount('/content/drive')"
      ],
      "metadata": {
        "colab": {
          "base_uri": "https://localhost:8080/"
        },
        "id": "E_ZJ06dWPjLP",
        "outputId": "78889bcb-f8d5-4e1b-e667-a7a842b2d12c"
      },
      "execution_count": null,
      "outputs": [
        {
          "output_type": "stream",
          "name": "stdout",
          "text": [
            "Mounted at /content/drive\n"
          ]
        }
      ]
    },
    {
      "cell_type": "code",
      "source": [
        "# Cargamos CSV\n",
        "df_orders = pd.read_csv(\"/content/drive/Shareddrives/Data_TFM/orders_2023_22_21.csv\", sep=\"\t\", decimal=\".\")"
      ],
      "metadata": {
        "id": "R_QiYr2b0GlY",
        "colab": {
          "base_uri": "https://localhost:8080/"
        },
        "outputId": "9b40bf4e-5fd5-4779-e612-7169a38bcf8f"
      },
      "execution_count": null,
      "outputs": [
        {
          "output_type": "stream",
          "name": "stderr",
          "text": [
            "<ipython-input-3-51352ff7a553>:2: DtypeWarning: Columns (0) have mixed types. Specify dtype option on import or set low_memory=False.\n",
            "  df_orders = pd.read_csv(\"/content/drive/Shareddrives/Data_TFM/orders_2023_22_21.csv\", sep=\"\t\", decimal=\".\")\n"
          ]
        }
      ]
    },
    {
      "cell_type": "code",
      "source": [
        "df_venues = pd.read_csv(\"/content/drive/Shareddrives/Data_TFM/venues_2023_22_21.csv\", sep=\"\t\", decimal=\".\")"
      ],
      "metadata": {
        "colab": {
          "base_uri": "https://localhost:8080/"
        },
        "id": "r_ldoBxiJFRH",
        "outputId": "5b5336ef-0bbd-4857-aff6-1c3b61805074"
      },
      "execution_count": null,
      "outputs": [
        {
          "output_type": "stream",
          "name": "stderr",
          "text": [
            "<ipython-input-4-82da65af29b1>:1: DtypeWarning: Columns (21,25,32,34,35) have mixed types. Specify dtype option on import or set low_memory=False.\n",
            "  df_venues = pd.read_csv(\"/content/drive/Shareddrives/Data_TFM/venues_2023_22_21.csv\", sep=\"\t\", decimal=\".\")\n"
          ]
        }
      ]
    },
    {
      "cell_type": "code",
      "source": [
        "# Convertimos date de Orders a formato\n",
        "df_orders['date_day_r'] = pd.to_datetime(df_orders[['year', 'month']].assign(day=1))\n",
        "df_orders['date_day_r'] = pd.to_datetime(df_orders['date_day_r']).dt.to_period('M')\n",
        "df_orders.head()"
      ],
      "metadata": {
        "colab": {
          "base_uri": "https://localhost:8080/",
          "height": 264
        },
        "id": "e9MmXsF8QVkS",
        "outputId": "25c9114a-0fd9-4ead-ed72-f42f32b9f636"
      },
      "execution_count": null,
      "outputs": [
        {
          "output_type": "execute_result",
          "data": {
            "text/plain": [
              "  unique_venue_id    year  month content_channel_name online_order_segment  \\\n",
              "0     11000371652  2023.0    3.0          Marketplace             1.Newbie   \n",
              "1     11000368856  2023.0    3.0          Marketplace           3.Explorer   \n",
              "2     11000326634  2023.0    3.0          Marketplace              4.Loyal   \n",
              "3     11000389488  2023.0    3.0          Marketplace              4.Loyal   \n",
              "4     11000333360  2023.0    3.0               Widget              4.Loyal   \n",
              "\n",
              "  payment_method_name saas_product  gross_orders  gross_item_eur_amount_ttv  \\\n",
              "0        Pay at venue   tw_connect             5                 615.386107   \n",
              "1              PayPal   tw_connect             5                  83.000000   \n",
              "2           Apple Pay   tw_connect            15                 264.000000   \n",
              "3           Apple Pay   tw_connect            22                 349.000000   \n",
              "4        Pay at venue   tw_connect           113                 500.010000   \n",
              "\n",
              "    gross_aov  gross_revenue_eur       gross_take_rate cancelled_orders  \\\n",
              "0  123.077221             123.08   0.20000451524135626                1   \n",
              "1   16.600000              29.05   0.35000000000000003                2   \n",
              "2   17.600000               5.28                  0.02                1   \n",
              "3   15.863636               6.98  0.020000000000000004                2   \n",
              "4    4.424867               0.00                   0.0               10   \n",
              "\n",
              "  cancelled_item_eur_amount_ttv  cancelled_aov cancelled_revenue_eur  \\\n",
              "0                 234.915355185  234.915355185    46.980000000000004   \n",
              "1                          83.0           41.5                 29.05   \n",
              "2                          36.5           36.5                  0.73   \n",
              "3                          27.0           13.5                  0.54   \n",
              "4                         65.01          6.501                   0.0   \n",
              "\n",
              "   cancelled_take_rate date_day_r  \n",
              "0   0.1999869270486913    2023-03  \n",
              "1  0.35000000000000003    2023-03  \n",
              "2                 0.02    2023-03  \n",
              "3                 0.02    2023-03  \n",
              "4                  0.0    2023-03  "
            ],
            "text/html": [
              "\n",
              "  <div id=\"df-e65281d7-a1e2-45e7-8176-e02e17e48fc7\">\n",
              "    <div class=\"colab-df-container\">\n",
              "      <div>\n",
              "<style scoped>\n",
              "    .dataframe tbody tr th:only-of-type {\n",
              "        vertical-align: middle;\n",
              "    }\n",
              "\n",
              "    .dataframe tbody tr th {\n",
              "        vertical-align: top;\n",
              "    }\n",
              "\n",
              "    .dataframe thead th {\n",
              "        text-align: right;\n",
              "    }\n",
              "</style>\n",
              "<table border=\"1\" class=\"dataframe\">\n",
              "  <thead>\n",
              "    <tr style=\"text-align: right;\">\n",
              "      <th></th>\n",
              "      <th>unique_venue_id</th>\n",
              "      <th>year</th>\n",
              "      <th>month</th>\n",
              "      <th>content_channel_name</th>\n",
              "      <th>online_order_segment</th>\n",
              "      <th>payment_method_name</th>\n",
              "      <th>saas_product</th>\n",
              "      <th>gross_orders</th>\n",
              "      <th>gross_item_eur_amount_ttv</th>\n",
              "      <th>gross_aov</th>\n",
              "      <th>gross_revenue_eur</th>\n",
              "      <th>gross_take_rate</th>\n",
              "      <th>cancelled_orders</th>\n",
              "      <th>cancelled_item_eur_amount_ttv</th>\n",
              "      <th>cancelled_aov</th>\n",
              "      <th>cancelled_revenue_eur</th>\n",
              "      <th>cancelled_take_rate</th>\n",
              "      <th>date_day_r</th>\n",
              "    </tr>\n",
              "  </thead>\n",
              "  <tbody>\n",
              "    <tr>\n",
              "      <th>0</th>\n",
              "      <td>11000371652</td>\n",
              "      <td>2023.0</td>\n",
              "      <td>3.0</td>\n",
              "      <td>Marketplace</td>\n",
              "      <td>1.Newbie</td>\n",
              "      <td>Pay at venue</td>\n",
              "      <td>tw_connect</td>\n",
              "      <td>5</td>\n",
              "      <td>615.386107</td>\n",
              "      <td>123.077221</td>\n",
              "      <td>123.08</td>\n",
              "      <td>0.20000451524135626</td>\n",
              "      <td>1</td>\n",
              "      <td>234.915355185</td>\n",
              "      <td>234.915355185</td>\n",
              "      <td>46.980000000000004</td>\n",
              "      <td>0.1999869270486913</td>\n",
              "      <td>2023-03</td>\n",
              "    </tr>\n",
              "    <tr>\n",
              "      <th>1</th>\n",
              "      <td>11000368856</td>\n",
              "      <td>2023.0</td>\n",
              "      <td>3.0</td>\n",
              "      <td>Marketplace</td>\n",
              "      <td>3.Explorer</td>\n",
              "      <td>PayPal</td>\n",
              "      <td>tw_connect</td>\n",
              "      <td>5</td>\n",
              "      <td>83.000000</td>\n",
              "      <td>16.600000</td>\n",
              "      <td>29.05</td>\n",
              "      <td>0.35000000000000003</td>\n",
              "      <td>2</td>\n",
              "      <td>83.0</td>\n",
              "      <td>41.5</td>\n",
              "      <td>29.05</td>\n",
              "      <td>0.35000000000000003</td>\n",
              "      <td>2023-03</td>\n",
              "    </tr>\n",
              "    <tr>\n",
              "      <th>2</th>\n",
              "      <td>11000326634</td>\n",
              "      <td>2023.0</td>\n",
              "      <td>3.0</td>\n",
              "      <td>Marketplace</td>\n",
              "      <td>4.Loyal</td>\n",
              "      <td>Apple Pay</td>\n",
              "      <td>tw_connect</td>\n",
              "      <td>15</td>\n",
              "      <td>264.000000</td>\n",
              "      <td>17.600000</td>\n",
              "      <td>5.28</td>\n",
              "      <td>0.02</td>\n",
              "      <td>1</td>\n",
              "      <td>36.5</td>\n",
              "      <td>36.5</td>\n",
              "      <td>0.73</td>\n",
              "      <td>0.02</td>\n",
              "      <td>2023-03</td>\n",
              "    </tr>\n",
              "    <tr>\n",
              "      <th>3</th>\n",
              "      <td>11000389488</td>\n",
              "      <td>2023.0</td>\n",
              "      <td>3.0</td>\n",
              "      <td>Marketplace</td>\n",
              "      <td>4.Loyal</td>\n",
              "      <td>Apple Pay</td>\n",
              "      <td>tw_connect</td>\n",
              "      <td>22</td>\n",
              "      <td>349.000000</td>\n",
              "      <td>15.863636</td>\n",
              "      <td>6.98</td>\n",
              "      <td>0.020000000000000004</td>\n",
              "      <td>2</td>\n",
              "      <td>27.0</td>\n",
              "      <td>13.5</td>\n",
              "      <td>0.54</td>\n",
              "      <td>0.02</td>\n",
              "      <td>2023-03</td>\n",
              "    </tr>\n",
              "    <tr>\n",
              "      <th>4</th>\n",
              "      <td>11000333360</td>\n",
              "      <td>2023.0</td>\n",
              "      <td>3.0</td>\n",
              "      <td>Widget</td>\n",
              "      <td>4.Loyal</td>\n",
              "      <td>Pay at venue</td>\n",
              "      <td>tw_connect</td>\n",
              "      <td>113</td>\n",
              "      <td>500.010000</td>\n",
              "      <td>4.424867</td>\n",
              "      <td>0.00</td>\n",
              "      <td>0.0</td>\n",
              "      <td>10</td>\n",
              "      <td>65.01</td>\n",
              "      <td>6.501</td>\n",
              "      <td>0.0</td>\n",
              "      <td>0.0</td>\n",
              "      <td>2023-03</td>\n",
              "    </tr>\n",
              "  </tbody>\n",
              "</table>\n",
              "</div>\n",
              "      <button class=\"colab-df-convert\" onclick=\"convertToInteractive('df-e65281d7-a1e2-45e7-8176-e02e17e48fc7')\"\n",
              "              title=\"Convert this dataframe to an interactive table.\"\n",
              "              style=\"display:none;\">\n",
              "        \n",
              "  <svg xmlns=\"http://www.w3.org/2000/svg\" height=\"24px\"viewBox=\"0 0 24 24\"\n",
              "       width=\"24px\">\n",
              "    <path d=\"M0 0h24v24H0V0z\" fill=\"none\"/>\n",
              "    <path d=\"M18.56 5.44l.94 2.06.94-2.06 2.06-.94-2.06-.94-.94-2.06-.94 2.06-2.06.94zm-11 1L8.5 8.5l.94-2.06 2.06-.94-2.06-.94L8.5 2.5l-.94 2.06-2.06.94zm10 10l.94 2.06.94-2.06 2.06-.94-2.06-.94-.94-2.06-.94 2.06-2.06.94z\"/><path d=\"M17.41 7.96l-1.37-1.37c-.4-.4-.92-.59-1.43-.59-.52 0-1.04.2-1.43.59L10.3 9.45l-7.72 7.72c-.78.78-.78 2.05 0 2.83L4 21.41c.39.39.9.59 1.41.59.51 0 1.02-.2 1.41-.59l7.78-7.78 2.81-2.81c.8-.78.8-2.07 0-2.86zM5.41 20L4 18.59l7.72-7.72 1.47 1.35L5.41 20z\"/>\n",
              "  </svg>\n",
              "      </button>\n",
              "      \n",
              "  <style>\n",
              "    .colab-df-container {\n",
              "      display:flex;\n",
              "      flex-wrap:wrap;\n",
              "      gap: 12px;\n",
              "    }\n",
              "\n",
              "    .colab-df-convert {\n",
              "      background-color: #E8F0FE;\n",
              "      border: none;\n",
              "      border-radius: 50%;\n",
              "      cursor: pointer;\n",
              "      display: none;\n",
              "      fill: #1967D2;\n",
              "      height: 32px;\n",
              "      padding: 0 0 0 0;\n",
              "      width: 32px;\n",
              "    }\n",
              "\n",
              "    .colab-df-convert:hover {\n",
              "      background-color: #E2EBFA;\n",
              "      box-shadow: 0px 1px 2px rgba(60, 64, 67, 0.3), 0px 1px 3px 1px rgba(60, 64, 67, 0.15);\n",
              "      fill: #174EA6;\n",
              "    }\n",
              "\n",
              "    [theme=dark] .colab-df-convert {\n",
              "      background-color: #3B4455;\n",
              "      fill: #D2E3FC;\n",
              "    }\n",
              "\n",
              "    [theme=dark] .colab-df-convert:hover {\n",
              "      background-color: #434B5C;\n",
              "      box-shadow: 0px 1px 3px 1px rgba(0, 0, 0, 0.15);\n",
              "      filter: drop-shadow(0px 1px 2px rgba(0, 0, 0, 0.3));\n",
              "      fill: #FFFFFF;\n",
              "    }\n",
              "  </style>\n",
              "\n",
              "      <script>\n",
              "        const buttonEl =\n",
              "          document.querySelector('#df-e65281d7-a1e2-45e7-8176-e02e17e48fc7 button.colab-df-convert');\n",
              "        buttonEl.style.display =\n",
              "          google.colab.kernel.accessAllowed ? 'block' : 'none';\n",
              "\n",
              "        async function convertToInteractive(key) {\n",
              "          const element = document.querySelector('#df-e65281d7-a1e2-45e7-8176-e02e17e48fc7');\n",
              "          const dataTable =\n",
              "            await google.colab.kernel.invokeFunction('convertToInteractive',\n",
              "                                                     [key], {});\n",
              "          if (!dataTable) return;\n",
              "\n",
              "          const docLinkHtml = 'Like what you see? Visit the ' +\n",
              "            '<a target=\"_blank\" href=https://colab.research.google.com/notebooks/data_table.ipynb>data table notebook</a>'\n",
              "            + ' to learn more about interactive tables.';\n",
              "          element.innerHTML = '';\n",
              "          dataTable['output_type'] = 'display_data';\n",
              "          await google.colab.output.renderOutput(dataTable, element);\n",
              "          const docLink = document.createElement('div');\n",
              "          docLink.innerHTML = docLinkHtml;\n",
              "          element.appendChild(docLink);\n",
              "        }\n",
              "      </script>\n",
              "    </div>\n",
              "  </div>\n",
              "  "
            ]
          },
          "metadata": {},
          "execution_count": 5
        }
      ]
    },
    {
      "cell_type": "code",
      "source": [
        "df_venues['date_day'] = pd.to_datetime(df_venues['date_day'])\n",
        "df_venues[\"date_day_r\"] = df_venues['date_day'] - dt.timedelta(weeks=4)\n",
        "df_venues['date_day_r'] = pd.to_datetime(df_venues['date_day_r']).dt.to_period('M')\n",
        "df_venues.head()"
      ],
      "metadata": {
        "colab": {
          "base_uri": "https://localhost:8080/",
          "height": 457
        },
        "id": "abQg6lN7QbjX",
        "outputId": "b5671ab6-1739-4ac2-ea0e-63cb631f0a7f"
      },
      "execution_count": null,
      "outputs": [
        {
          "output_type": "execute_result",
          "data": {
            "text/plain": [
              "    date_day  unique_venue_id              created venue_status  \\\n",
              "0 2021-07-01      11000000016  2008-03-25 12:47:09     DISABLED   \n",
              "1 2021-08-01      11000000016  2008-03-25 12:47:09     DISABLED   \n",
              "2 2021-09-01      11000000016  2008-03-25 12:47:09     DISABLED   \n",
              "3 2021-10-01      11000000016  2008-03-25 12:47:09     DISABLED   \n",
              "4 2021-11-01      11000000016  2008-03-25 12:47:09     DISABLED   \n",
              "\n",
              "  venue_active_from original_marketplace_venue_type_name country_code    tier  \\\n",
              "0            (null)                            Hotel Spa           GB  (null)   \n",
              "1            (null)                            Hotel Spa           GB  (null)   \n",
              "2            (null)                            Hotel Spa           GB  (null)   \n",
              "3            (null)                            Hotel Spa           GB  (null)   \n",
              "4            (null)                            Hotel Spa           GB  (null)   \n",
              "\n",
              "  saas_product      first_live_date  ...       plan_active_to prepay  \\\n",
              "0   tw_connect  2009-07-20 00:00:00  ...  2999-12-31 00:00:00      0   \n",
              "1   tw_connect  2009-07-20 00:00:00  ...  2999-12-31 00:00:00      0   \n",
              "2   tw_connect  2009-07-20 00:00:00  ...  2999-12-31 00:00:00      0   \n",
              "3   tw_connect  2009-07-20 00:00:00  ...  2999-12-31 00:00:00      0   \n",
              "4   tw_connect  2009-07-20 00:00:00  ...  2999-12-31 00:00:00      0   \n",
              "\n",
              "  prepaid_until_to  discount plan_discount_end_date bill_every plan_name  \\\n",
              "0           (null)         0                 (null)          1     Entry   \n",
              "1           (null)         0                 (null)          1     Entry   \n",
              "2           (null)         0                 (null)          1     Entry   \n",
              "3           (null)         0                 (null)          1     Entry   \n",
              "4           (null)         0                 (null)          1     Entry   \n",
              "\n",
              "  plan_fee_eur is_zero_commission_plan date_day_r  \n",
              "0        16.65                   False    2021-06  \n",
              "1        16.65                   False    2021-07  \n",
              "2        16.65                   False    2021-08  \n",
              "3        16.65                   False    2021-09  \n",
              "4        16.65                   False    2021-10  \n",
              "\n",
              "[5 rows x 37 columns]"
            ],
            "text/html": [
              "\n",
              "  <div id=\"df-556621e1-a77f-46ab-9314-1f0a98c40902\">\n",
              "    <div class=\"colab-df-container\">\n",
              "      <div>\n",
              "<style scoped>\n",
              "    .dataframe tbody tr th:only-of-type {\n",
              "        vertical-align: middle;\n",
              "    }\n",
              "\n",
              "    .dataframe tbody tr th {\n",
              "        vertical-align: top;\n",
              "    }\n",
              "\n",
              "    .dataframe thead th {\n",
              "        text-align: right;\n",
              "    }\n",
              "</style>\n",
              "<table border=\"1\" class=\"dataframe\">\n",
              "  <thead>\n",
              "    <tr style=\"text-align: right;\">\n",
              "      <th></th>\n",
              "      <th>date_day</th>\n",
              "      <th>unique_venue_id</th>\n",
              "      <th>created</th>\n",
              "      <th>venue_status</th>\n",
              "      <th>venue_active_from</th>\n",
              "      <th>original_marketplace_venue_type_name</th>\n",
              "      <th>country_code</th>\n",
              "      <th>tier</th>\n",
              "      <th>saas_product</th>\n",
              "      <th>first_live_date</th>\n",
              "      <th>...</th>\n",
              "      <th>plan_active_to</th>\n",
              "      <th>prepay</th>\n",
              "      <th>prepaid_until_to</th>\n",
              "      <th>discount</th>\n",
              "      <th>plan_discount_end_date</th>\n",
              "      <th>bill_every</th>\n",
              "      <th>plan_name</th>\n",
              "      <th>plan_fee_eur</th>\n",
              "      <th>is_zero_commission_plan</th>\n",
              "      <th>date_day_r</th>\n",
              "    </tr>\n",
              "  </thead>\n",
              "  <tbody>\n",
              "    <tr>\n",
              "      <th>0</th>\n",
              "      <td>2021-07-01</td>\n",
              "      <td>11000000016</td>\n",
              "      <td>2008-03-25 12:47:09</td>\n",
              "      <td>DISABLED</td>\n",
              "      <td>(null)</td>\n",
              "      <td>Hotel Spa</td>\n",
              "      <td>GB</td>\n",
              "      <td>(null)</td>\n",
              "      <td>tw_connect</td>\n",
              "      <td>2009-07-20 00:00:00</td>\n",
              "      <td>...</td>\n",
              "      <td>2999-12-31 00:00:00</td>\n",
              "      <td>0</td>\n",
              "      <td>(null)</td>\n",
              "      <td>0</td>\n",
              "      <td>(null)</td>\n",
              "      <td>1</td>\n",
              "      <td>Entry</td>\n",
              "      <td>16.65</td>\n",
              "      <td>False</td>\n",
              "      <td>2021-06</td>\n",
              "    </tr>\n",
              "    <tr>\n",
              "      <th>1</th>\n",
              "      <td>2021-08-01</td>\n",
              "      <td>11000000016</td>\n",
              "      <td>2008-03-25 12:47:09</td>\n",
              "      <td>DISABLED</td>\n",
              "      <td>(null)</td>\n",
              "      <td>Hotel Spa</td>\n",
              "      <td>GB</td>\n",
              "      <td>(null)</td>\n",
              "      <td>tw_connect</td>\n",
              "      <td>2009-07-20 00:00:00</td>\n",
              "      <td>...</td>\n",
              "      <td>2999-12-31 00:00:00</td>\n",
              "      <td>0</td>\n",
              "      <td>(null)</td>\n",
              "      <td>0</td>\n",
              "      <td>(null)</td>\n",
              "      <td>1</td>\n",
              "      <td>Entry</td>\n",
              "      <td>16.65</td>\n",
              "      <td>False</td>\n",
              "      <td>2021-07</td>\n",
              "    </tr>\n",
              "    <tr>\n",
              "      <th>2</th>\n",
              "      <td>2021-09-01</td>\n",
              "      <td>11000000016</td>\n",
              "      <td>2008-03-25 12:47:09</td>\n",
              "      <td>DISABLED</td>\n",
              "      <td>(null)</td>\n",
              "      <td>Hotel Spa</td>\n",
              "      <td>GB</td>\n",
              "      <td>(null)</td>\n",
              "      <td>tw_connect</td>\n",
              "      <td>2009-07-20 00:00:00</td>\n",
              "      <td>...</td>\n",
              "      <td>2999-12-31 00:00:00</td>\n",
              "      <td>0</td>\n",
              "      <td>(null)</td>\n",
              "      <td>0</td>\n",
              "      <td>(null)</td>\n",
              "      <td>1</td>\n",
              "      <td>Entry</td>\n",
              "      <td>16.65</td>\n",
              "      <td>False</td>\n",
              "      <td>2021-08</td>\n",
              "    </tr>\n",
              "    <tr>\n",
              "      <th>3</th>\n",
              "      <td>2021-10-01</td>\n",
              "      <td>11000000016</td>\n",
              "      <td>2008-03-25 12:47:09</td>\n",
              "      <td>DISABLED</td>\n",
              "      <td>(null)</td>\n",
              "      <td>Hotel Spa</td>\n",
              "      <td>GB</td>\n",
              "      <td>(null)</td>\n",
              "      <td>tw_connect</td>\n",
              "      <td>2009-07-20 00:00:00</td>\n",
              "      <td>...</td>\n",
              "      <td>2999-12-31 00:00:00</td>\n",
              "      <td>0</td>\n",
              "      <td>(null)</td>\n",
              "      <td>0</td>\n",
              "      <td>(null)</td>\n",
              "      <td>1</td>\n",
              "      <td>Entry</td>\n",
              "      <td>16.65</td>\n",
              "      <td>False</td>\n",
              "      <td>2021-09</td>\n",
              "    </tr>\n",
              "    <tr>\n",
              "      <th>4</th>\n",
              "      <td>2021-11-01</td>\n",
              "      <td>11000000016</td>\n",
              "      <td>2008-03-25 12:47:09</td>\n",
              "      <td>DISABLED</td>\n",
              "      <td>(null)</td>\n",
              "      <td>Hotel Spa</td>\n",
              "      <td>GB</td>\n",
              "      <td>(null)</td>\n",
              "      <td>tw_connect</td>\n",
              "      <td>2009-07-20 00:00:00</td>\n",
              "      <td>...</td>\n",
              "      <td>2999-12-31 00:00:00</td>\n",
              "      <td>0</td>\n",
              "      <td>(null)</td>\n",
              "      <td>0</td>\n",
              "      <td>(null)</td>\n",
              "      <td>1</td>\n",
              "      <td>Entry</td>\n",
              "      <td>16.65</td>\n",
              "      <td>False</td>\n",
              "      <td>2021-10</td>\n",
              "    </tr>\n",
              "  </tbody>\n",
              "</table>\n",
              "<p>5 rows × 37 columns</p>\n",
              "</div>\n",
              "      <button class=\"colab-df-convert\" onclick=\"convertToInteractive('df-556621e1-a77f-46ab-9314-1f0a98c40902')\"\n",
              "              title=\"Convert this dataframe to an interactive table.\"\n",
              "              style=\"display:none;\">\n",
              "        \n",
              "  <svg xmlns=\"http://www.w3.org/2000/svg\" height=\"24px\"viewBox=\"0 0 24 24\"\n",
              "       width=\"24px\">\n",
              "    <path d=\"M0 0h24v24H0V0z\" fill=\"none\"/>\n",
              "    <path d=\"M18.56 5.44l.94 2.06.94-2.06 2.06-.94-2.06-.94-.94-2.06-.94 2.06-2.06.94zm-11 1L8.5 8.5l.94-2.06 2.06-.94-2.06-.94L8.5 2.5l-.94 2.06-2.06.94zm10 10l.94 2.06.94-2.06 2.06-.94-2.06-.94-.94-2.06-.94 2.06-2.06.94z\"/><path d=\"M17.41 7.96l-1.37-1.37c-.4-.4-.92-.59-1.43-.59-.52 0-1.04.2-1.43.59L10.3 9.45l-7.72 7.72c-.78.78-.78 2.05 0 2.83L4 21.41c.39.39.9.59 1.41.59.51 0 1.02-.2 1.41-.59l7.78-7.78 2.81-2.81c.8-.78.8-2.07 0-2.86zM5.41 20L4 18.59l7.72-7.72 1.47 1.35L5.41 20z\"/>\n",
              "  </svg>\n",
              "      </button>\n",
              "      \n",
              "  <style>\n",
              "    .colab-df-container {\n",
              "      display:flex;\n",
              "      flex-wrap:wrap;\n",
              "      gap: 12px;\n",
              "    }\n",
              "\n",
              "    .colab-df-convert {\n",
              "      background-color: #E8F0FE;\n",
              "      border: none;\n",
              "      border-radius: 50%;\n",
              "      cursor: pointer;\n",
              "      display: none;\n",
              "      fill: #1967D2;\n",
              "      height: 32px;\n",
              "      padding: 0 0 0 0;\n",
              "      width: 32px;\n",
              "    }\n",
              "\n",
              "    .colab-df-convert:hover {\n",
              "      background-color: #E2EBFA;\n",
              "      box-shadow: 0px 1px 2px rgba(60, 64, 67, 0.3), 0px 1px 3px 1px rgba(60, 64, 67, 0.15);\n",
              "      fill: #174EA6;\n",
              "    }\n",
              "\n",
              "    [theme=dark] .colab-df-convert {\n",
              "      background-color: #3B4455;\n",
              "      fill: #D2E3FC;\n",
              "    }\n",
              "\n",
              "    [theme=dark] .colab-df-convert:hover {\n",
              "      background-color: #434B5C;\n",
              "      box-shadow: 0px 1px 3px 1px rgba(0, 0, 0, 0.15);\n",
              "      filter: drop-shadow(0px 1px 2px rgba(0, 0, 0, 0.3));\n",
              "      fill: #FFFFFF;\n",
              "    }\n",
              "  </style>\n",
              "\n",
              "      <script>\n",
              "        const buttonEl =\n",
              "          document.querySelector('#df-556621e1-a77f-46ab-9314-1f0a98c40902 button.colab-df-convert');\n",
              "        buttonEl.style.display =\n",
              "          google.colab.kernel.accessAllowed ? 'block' : 'none';\n",
              "\n",
              "        async function convertToInteractive(key) {\n",
              "          const element = document.querySelector('#df-556621e1-a77f-46ab-9314-1f0a98c40902');\n",
              "          const dataTable =\n",
              "            await google.colab.kernel.invokeFunction('convertToInteractive',\n",
              "                                                     [key], {});\n",
              "          if (!dataTable) return;\n",
              "\n",
              "          const docLinkHtml = 'Like what you see? Visit the ' +\n",
              "            '<a target=\"_blank\" href=https://colab.research.google.com/notebooks/data_table.ipynb>data table notebook</a>'\n",
              "            + ' to learn more about interactive tables.';\n",
              "          element.innerHTML = '';\n",
              "          dataTable['output_type'] = 'display_data';\n",
              "          await google.colab.output.renderOutput(dataTable, element);\n",
              "          const docLink = document.createElement('div');\n",
              "          docLink.innerHTML = docLinkHtml;\n",
              "          element.appendChild(docLink);\n",
              "        }\n",
              "      </script>\n",
              "    </div>\n",
              "  </div>\n",
              "  "
            ]
          },
          "metadata": {},
          "execution_count": 6
        }
      ]
    },
    {
      "cell_type": "code",
      "source": [
        "df = pd.merge(df_orders, df_venues, on=[\"unique_venue_id\", \"date_day_r\"])\n",
        "df.head()"
      ],
      "metadata": {
        "colab": {
          "base_uri": "https://localhost:8080/",
          "height": 375
        },
        "id": "joEulkZKO3kB",
        "outputId": "49e8d081-d740-4b80-c6df-ee1a2f39f253"
      },
      "execution_count": null,
      "outputs": [
        {
          "output_type": "execute_result",
          "data": {
            "text/plain": [
              "  unique_venue_id    year  month content_channel_name online_order_segment  \\\n",
              "0     11000273253  2022.0    6.0          Marketplace           3.Explorer   \n",
              "1     11000273253  2022.0    6.0          Marketplace           3.Explorer   \n",
              "2     11000280961  2022.0    6.0          Marketplace              4.Loyal   \n",
              "3     11000280961  2022.0    6.0     Book With Google              4.Loyal   \n",
              "4     11000280961  2022.0    6.0          Marketplace             1.Newbie   \n",
              "\n",
              "  payment_method_name saas_product_x  gross_orders  gross_item_eur_amount_ttv  \\\n",
              "0           Gift Card     tw_connect             1                  110.11450   \n",
              "1         Credit Card     tw_connect             1                  110.11450   \n",
              "2           Apple Pay     tw_connect             2                  100.03033   \n",
              "3        Pay at venue     tw_connect             3                  193.56970   \n",
              "4           Apple Pay     tw_connect             1                   44.50944   \n",
              "\n",
              "    gross_aov  ...     plan_active_from       plan_active_to prepay  \\\n",
              "0  110.114500  ...  2022-01-31 19:21:38  2999-12-31 00:00:00      0   \n",
              "1  110.114500  ...  2022-01-31 19:21:38  2999-12-31 00:00:00      0   \n",
              "2   50.015165  ...  2022-01-31 19:30:27  2999-12-31 00:00:00      0   \n",
              "3   64.523233  ...  2022-01-31 19:30:27  2999-12-31 00:00:00      0   \n",
              "4   44.509440  ...  2022-01-31 19:30:27  2999-12-31 00:00:00      0   \n",
              "\n",
              "  prepaid_until_to discount plan_discount_end_date bill_every plan_name  \\\n",
              "0           (null)        0                 (null)          1     Entry   \n",
              "1           (null)        0                 (null)          1     Entry   \n",
              "2           (null)        0                 (null)          1      Plus   \n",
              "3           (null)        0                 (null)          1      Plus   \n",
              "4           (null)        0                 (null)          1      Plus   \n",
              "\n",
              "  plan_fee_eur is_zero_commission_plan  \n",
              "0      33.6139                   False  \n",
              "1      33.6139                   False  \n",
              "2      56.7959                   False  \n",
              "3      56.7959                   False  \n",
              "4      56.7959                   False  \n",
              "\n",
              "[5 rows x 53 columns]"
            ],
            "text/html": [
              "\n",
              "  <div id=\"df-643dabf8-71de-4d5d-9b61-a9331373f57f\">\n",
              "    <div class=\"colab-df-container\">\n",
              "      <div>\n",
              "<style scoped>\n",
              "    .dataframe tbody tr th:only-of-type {\n",
              "        vertical-align: middle;\n",
              "    }\n",
              "\n",
              "    .dataframe tbody tr th {\n",
              "        vertical-align: top;\n",
              "    }\n",
              "\n",
              "    .dataframe thead th {\n",
              "        text-align: right;\n",
              "    }\n",
              "</style>\n",
              "<table border=\"1\" class=\"dataframe\">\n",
              "  <thead>\n",
              "    <tr style=\"text-align: right;\">\n",
              "      <th></th>\n",
              "      <th>unique_venue_id</th>\n",
              "      <th>year</th>\n",
              "      <th>month</th>\n",
              "      <th>content_channel_name</th>\n",
              "      <th>online_order_segment</th>\n",
              "      <th>payment_method_name</th>\n",
              "      <th>saas_product_x</th>\n",
              "      <th>gross_orders</th>\n",
              "      <th>gross_item_eur_amount_ttv</th>\n",
              "      <th>gross_aov</th>\n",
              "      <th>...</th>\n",
              "      <th>plan_active_from</th>\n",
              "      <th>plan_active_to</th>\n",
              "      <th>prepay</th>\n",
              "      <th>prepaid_until_to</th>\n",
              "      <th>discount</th>\n",
              "      <th>plan_discount_end_date</th>\n",
              "      <th>bill_every</th>\n",
              "      <th>plan_name</th>\n",
              "      <th>plan_fee_eur</th>\n",
              "      <th>is_zero_commission_plan</th>\n",
              "    </tr>\n",
              "  </thead>\n",
              "  <tbody>\n",
              "    <tr>\n",
              "      <th>0</th>\n",
              "      <td>11000273253</td>\n",
              "      <td>2022.0</td>\n",
              "      <td>6.0</td>\n",
              "      <td>Marketplace</td>\n",
              "      <td>3.Explorer</td>\n",
              "      <td>Gift Card</td>\n",
              "      <td>tw_connect</td>\n",
              "      <td>1</td>\n",
              "      <td>110.11450</td>\n",
              "      <td>110.114500</td>\n",
              "      <td>...</td>\n",
              "      <td>2022-01-31 19:21:38</td>\n",
              "      <td>2999-12-31 00:00:00</td>\n",
              "      <td>0</td>\n",
              "      <td>(null)</td>\n",
              "      <td>0</td>\n",
              "      <td>(null)</td>\n",
              "      <td>1</td>\n",
              "      <td>Entry</td>\n",
              "      <td>33.6139</td>\n",
              "      <td>False</td>\n",
              "    </tr>\n",
              "    <tr>\n",
              "      <th>1</th>\n",
              "      <td>11000273253</td>\n",
              "      <td>2022.0</td>\n",
              "      <td>6.0</td>\n",
              "      <td>Marketplace</td>\n",
              "      <td>3.Explorer</td>\n",
              "      <td>Credit Card</td>\n",
              "      <td>tw_connect</td>\n",
              "      <td>1</td>\n",
              "      <td>110.11450</td>\n",
              "      <td>110.114500</td>\n",
              "      <td>...</td>\n",
              "      <td>2022-01-31 19:21:38</td>\n",
              "      <td>2999-12-31 00:00:00</td>\n",
              "      <td>0</td>\n",
              "      <td>(null)</td>\n",
              "      <td>0</td>\n",
              "      <td>(null)</td>\n",
              "      <td>1</td>\n",
              "      <td>Entry</td>\n",
              "      <td>33.6139</td>\n",
              "      <td>False</td>\n",
              "    </tr>\n",
              "    <tr>\n",
              "      <th>2</th>\n",
              "      <td>11000280961</td>\n",
              "      <td>2022.0</td>\n",
              "      <td>6.0</td>\n",
              "      <td>Marketplace</td>\n",
              "      <td>4.Loyal</td>\n",
              "      <td>Apple Pay</td>\n",
              "      <td>tw_connect</td>\n",
              "      <td>2</td>\n",
              "      <td>100.03033</td>\n",
              "      <td>50.015165</td>\n",
              "      <td>...</td>\n",
              "      <td>2022-01-31 19:30:27</td>\n",
              "      <td>2999-12-31 00:00:00</td>\n",
              "      <td>0</td>\n",
              "      <td>(null)</td>\n",
              "      <td>0</td>\n",
              "      <td>(null)</td>\n",
              "      <td>1</td>\n",
              "      <td>Plus</td>\n",
              "      <td>56.7959</td>\n",
              "      <td>False</td>\n",
              "    </tr>\n",
              "    <tr>\n",
              "      <th>3</th>\n",
              "      <td>11000280961</td>\n",
              "      <td>2022.0</td>\n",
              "      <td>6.0</td>\n",
              "      <td>Book With Google</td>\n",
              "      <td>4.Loyal</td>\n",
              "      <td>Pay at venue</td>\n",
              "      <td>tw_connect</td>\n",
              "      <td>3</td>\n",
              "      <td>193.56970</td>\n",
              "      <td>64.523233</td>\n",
              "      <td>...</td>\n",
              "      <td>2022-01-31 19:30:27</td>\n",
              "      <td>2999-12-31 00:00:00</td>\n",
              "      <td>0</td>\n",
              "      <td>(null)</td>\n",
              "      <td>0</td>\n",
              "      <td>(null)</td>\n",
              "      <td>1</td>\n",
              "      <td>Plus</td>\n",
              "      <td>56.7959</td>\n",
              "      <td>False</td>\n",
              "    </tr>\n",
              "    <tr>\n",
              "      <th>4</th>\n",
              "      <td>11000280961</td>\n",
              "      <td>2022.0</td>\n",
              "      <td>6.0</td>\n",
              "      <td>Marketplace</td>\n",
              "      <td>1.Newbie</td>\n",
              "      <td>Apple Pay</td>\n",
              "      <td>tw_connect</td>\n",
              "      <td>1</td>\n",
              "      <td>44.50944</td>\n",
              "      <td>44.509440</td>\n",
              "      <td>...</td>\n",
              "      <td>2022-01-31 19:30:27</td>\n",
              "      <td>2999-12-31 00:00:00</td>\n",
              "      <td>0</td>\n",
              "      <td>(null)</td>\n",
              "      <td>0</td>\n",
              "      <td>(null)</td>\n",
              "      <td>1</td>\n",
              "      <td>Plus</td>\n",
              "      <td>56.7959</td>\n",
              "      <td>False</td>\n",
              "    </tr>\n",
              "  </tbody>\n",
              "</table>\n",
              "<p>5 rows × 53 columns</p>\n",
              "</div>\n",
              "      <button class=\"colab-df-convert\" onclick=\"convertToInteractive('df-643dabf8-71de-4d5d-9b61-a9331373f57f')\"\n",
              "              title=\"Convert this dataframe to an interactive table.\"\n",
              "              style=\"display:none;\">\n",
              "        \n",
              "  <svg xmlns=\"http://www.w3.org/2000/svg\" height=\"24px\"viewBox=\"0 0 24 24\"\n",
              "       width=\"24px\">\n",
              "    <path d=\"M0 0h24v24H0V0z\" fill=\"none\"/>\n",
              "    <path d=\"M18.56 5.44l.94 2.06.94-2.06 2.06-.94-2.06-.94-.94-2.06-.94 2.06-2.06.94zm-11 1L8.5 8.5l.94-2.06 2.06-.94-2.06-.94L8.5 2.5l-.94 2.06-2.06.94zm10 10l.94 2.06.94-2.06 2.06-.94-2.06-.94-.94-2.06-.94 2.06-2.06.94z\"/><path d=\"M17.41 7.96l-1.37-1.37c-.4-.4-.92-.59-1.43-.59-.52 0-1.04.2-1.43.59L10.3 9.45l-7.72 7.72c-.78.78-.78 2.05 0 2.83L4 21.41c.39.39.9.59 1.41.59.51 0 1.02-.2 1.41-.59l7.78-7.78 2.81-2.81c.8-.78.8-2.07 0-2.86zM5.41 20L4 18.59l7.72-7.72 1.47 1.35L5.41 20z\"/>\n",
              "  </svg>\n",
              "      </button>\n",
              "      \n",
              "  <style>\n",
              "    .colab-df-container {\n",
              "      display:flex;\n",
              "      flex-wrap:wrap;\n",
              "      gap: 12px;\n",
              "    }\n",
              "\n",
              "    .colab-df-convert {\n",
              "      background-color: #E8F0FE;\n",
              "      border: none;\n",
              "      border-radius: 50%;\n",
              "      cursor: pointer;\n",
              "      display: none;\n",
              "      fill: #1967D2;\n",
              "      height: 32px;\n",
              "      padding: 0 0 0 0;\n",
              "      width: 32px;\n",
              "    }\n",
              "\n",
              "    .colab-df-convert:hover {\n",
              "      background-color: #E2EBFA;\n",
              "      box-shadow: 0px 1px 2px rgba(60, 64, 67, 0.3), 0px 1px 3px 1px rgba(60, 64, 67, 0.15);\n",
              "      fill: #174EA6;\n",
              "    }\n",
              "\n",
              "    [theme=dark] .colab-df-convert {\n",
              "      background-color: #3B4455;\n",
              "      fill: #D2E3FC;\n",
              "    }\n",
              "\n",
              "    [theme=dark] .colab-df-convert:hover {\n",
              "      background-color: #434B5C;\n",
              "      box-shadow: 0px 1px 3px 1px rgba(0, 0, 0, 0.15);\n",
              "      filter: drop-shadow(0px 1px 2px rgba(0, 0, 0, 0.3));\n",
              "      fill: #FFFFFF;\n",
              "    }\n",
              "  </style>\n",
              "\n",
              "      <script>\n",
              "        const buttonEl =\n",
              "          document.querySelector('#df-643dabf8-71de-4d5d-9b61-a9331373f57f button.colab-df-convert');\n",
              "        buttonEl.style.display =\n",
              "          google.colab.kernel.accessAllowed ? 'block' : 'none';\n",
              "\n",
              "        async function convertToInteractive(key) {\n",
              "          const element = document.querySelector('#df-643dabf8-71de-4d5d-9b61-a9331373f57f');\n",
              "          const dataTable =\n",
              "            await google.colab.kernel.invokeFunction('convertToInteractive',\n",
              "                                                     [key], {});\n",
              "          if (!dataTable) return;\n",
              "\n",
              "          const docLinkHtml = 'Like what you see? Visit the ' +\n",
              "            '<a target=\"_blank\" href=https://colab.research.google.com/notebooks/data_table.ipynb>data table notebook</a>'\n",
              "            + ' to learn more about interactive tables.';\n",
              "          element.innerHTML = '';\n",
              "          dataTable['output_type'] = 'display_data';\n",
              "          await google.colab.output.renderOutput(dataTable, element);\n",
              "          const docLink = document.createElement('div');\n",
              "          docLink.innerHTML = docLinkHtml;\n",
              "          element.appendChild(docLink);\n",
              "        }\n",
              "      </script>\n",
              "    </div>\n",
              "  </div>\n",
              "  "
            ]
          },
          "metadata": {},
          "execution_count": 7
        }
      ]
    },
    {
      "cell_type": "code",
      "source": [
        "# Valores 'na' en nuestro Dataset de disabled_date (80%), son venues que están activos,\n",
        "#substituimos estos valores con 0 en nuestro dataset, una vez transformados a datetime se catalogan como 1-1-1970\n",
        "#que nunca serán mayores con nuestro latest_live_date y por lo tanto churn=0 para estos casosdf['disabled_date'].fillna(0, inplace=True)\n",
        "\n",
        "df['disabled_date'].fillna(0, inplace=True)\n",
        "\n",
        "# Conversión de la columna 'disabled_date' al formato de fecha\n",
        "df['disabled_date'] = pd.to_datetime(df['disabled_date'], errors='coerce')\n",
        "\n",
        "# Elimino los registros que tienen valores NaN en la columna 'latest_live_date', ya que parecen ser errores en los datos\n",
        "df.dropna(subset=['latest_live_date'], inplace=True)\n",
        "\n",
        "# Convertimos la columna 'latest_live_date' al formato de fecha\n",
        "df['latest_live_date'] = pd.to_datetime(df['latest_live_date'], errors='coerce')\n",
        "\n",
        "# Creamos una nueva columna 'mes' a partir de la columna 'date_time'\n",
        "df['mes'] = df['latest_live_date'].dt.to_period('M')\n",
        "\n",
        "# Calculamos el churn por cada mes\n",
        "tres_meses = df['latest_live_date'] + pd.DateOffset(months=3)\n",
        "df['churn'] = np.where(df['disabled_date'] > tres_meses, 1, 0)\n",
        "\n",
        "# Verificamos el resultado\n",
        "print(df[['mes', 'churn']])"
      ],
      "metadata": {
        "colab": {
          "base_uri": "https://localhost:8080/"
        },
        "id": "sSdzME5MR0FB",
        "outputId": "56de97ca-9b8a-4e42-ee9c-532983504850"
      },
      "execution_count": null,
      "outputs": [
        {
          "output_type": "stream",
          "name": "stdout",
          "text": [
            "            mes  churn\n",
            "0       2014-05      0\n",
            "1       2014-05      0\n",
            "2       2020-02      0\n",
            "3       2020-02      0\n",
            "4       2020-02      0\n",
            "...         ...    ...\n",
            "144179  2020-03      0\n",
            "144180  2021-10      0\n",
            "144181  2021-10      0\n",
            "144182  2022-11      0\n",
            "144183  2022-11      0\n",
            "\n",
            "[143522 rows x 2 columns]\n"
          ]
        }
      ]
    },
    {
      "cell_type": "code",
      "source": [
        "df.churn.mean()"
      ],
      "metadata": {
        "colab": {
          "base_uri": "https://localhost:8080/"
        },
        "id": "D4dgltzVv-fT",
        "outputId": "53e7c0b9-8b69-46d6-c44f-0a76f39d56cf"
      },
      "execution_count": null,
      "outputs": [
        {
          "output_type": "execute_result",
          "data": {
            "text/plain": [
              "0.005420771728376138"
            ]
          },
          "metadata": {},
          "execution_count": 10
        }
      ]
    },
    {
      "cell_type": "markdown",
      "source": [],
      "metadata": {
        "id": "Xy8J_TInyWeZ"
      }
    },
    {
      "cell_type": "code",
      "source": [
        "df.unique_venue_id.nunique()"
      ],
      "metadata": {
        "colab": {
          "base_uri": "https://localhost:8080/"
        },
        "id": "lNNK6lg3Qnv1",
        "outputId": "a57e55b5-0541-412a-a96e-d9d22385659d"
      },
      "execution_count": null,
      "outputs": [
        {
          "output_type": "execute_result",
          "data": {
            "text/plain": [
              "27900"
            ]
          },
          "metadata": {},
          "execution_count": 11
        }
      ]
    },
    {
      "cell_type": "code",
      "source": [
        "# Transformar los strings %null% en valores NaN\n",
        "df = df.replace(to_replace=r'.*null.*', value=np.nan, regex=True)"
      ],
      "metadata": {
        "id": "Vim0n_5LybXa"
      },
      "execution_count": null,
      "outputs": []
    },
    {
      "cell_type": "code",
      "source": [
        "# Obtener el % de valores NaN de cada variable del último mes\n",
        "null_percentages = round((df.isnull().sum() * 100) / df.shape[0], 2)\n",
        "null_df = null_percentages.to_frame(name='Porcentaje de Nulos').reset_index()\n",
        "null_df.rename(columns={'index': 'Columna'}, inplace=True)\n",
        "print(null_df.to_string())"
      ],
      "metadata": {
        "colab": {
          "base_uri": "https://localhost:8080/"
        },
        "id": "OdVdqyzS3FW-",
        "outputId": "3c931a1f-26e7-48ff-af67-ddd82be47823"
      },
      "execution_count": null,
      "outputs": [
        {
          "output_type": "stream",
          "name": "stdout",
          "text": [
            "                                 Columna  Porcentaje de Nulos\n",
            "0                        unique_venue_id                 0.00\n",
            "1                                   year                 0.00\n",
            "2                                  month                 0.00\n",
            "3                   content_channel_name                 0.00\n",
            "4                   online_order_segment                 0.00\n",
            "5                    payment_method_name                 1.35\n",
            "6                         saas_product_x                 0.00\n",
            "7                           gross_orders                 0.00\n",
            "8              gross_item_eur_amount_ttv                 0.00\n",
            "9                              gross_aov                 0.00\n",
            "10                     gross_revenue_eur                 0.00\n",
            "11                       gross_take_rate                 1.39\n",
            "12                      cancelled_orders                78.41\n",
            "13         cancelled_item_eur_amount_ttv                78.41\n",
            "14                         cancelled_aov                78.41\n",
            "15                 cancelled_revenue_eur                78.41\n",
            "16                   cancelled_take_rate                78.43\n",
            "17                            date_day_r                 0.00\n",
            "18                              date_day                 0.00\n",
            "19                               created                 0.00\n",
            "20                          venue_status                20.75\n",
            "21                     venue_active_from                82.43\n",
            "22  original_marketplace_venue_type_name                 0.00\n",
            "23                          country_code                 0.00\n",
            "24                                  tier                21.21\n",
            "25                        saas_product_y                 0.00\n",
            "26                       first_live_date                 0.11\n",
            "27                      latest_live_date                 0.00\n",
            "28                         disabled_date                90.37\n",
            "29                    reactivated_status                 0.00\n",
            "30                 is_twconnect_migrated                 0.00\n",
            "31                        is_purchasable                20.75\n",
            "32                     is_widget_enabled                20.75\n",
            "33                         is_heavy_saas                 0.15\n",
            "34                 first_heavy_saas_date                96.03\n",
            "35                      active_employees                 0.16\n",
            "36              direct_appointments_l30d                 0.15\n",
            "37              online_appointments_l30d                 0.15\n",
            "38                       is_tw_mp_listed                 0.33\n",
            "39          tw_mp_listed_first_time_date                 0.97\n",
            "40            marketplace_payment_method                 0.33\n",
            "41                 widget_payment_method                 0.33\n",
            "42                         is_plan_trial                 6.13\n",
            "43                      plan_active_from                 6.13\n",
            "44                        plan_active_to                 6.13\n",
            "45                                prepay                 0.00\n",
            "46                      prepaid_until_to                89.07\n",
            "47                              discount                 0.00\n",
            "48                plan_discount_end_date                94.53\n",
            "49                            bill_every                 6.13\n",
            "50                             plan_name                 6.13\n",
            "51                          plan_fee_eur                 6.13\n",
            "52               is_zero_commission_plan                 6.13\n",
            "53                                   mes                 0.00\n",
            "54                                 churn                 0.00\n"
          ]
        }
      ]
    },
    {
      "cell_type": "code",
      "source": [
        "df_subset=df[['payment_method_name', 'online_order_segment', 'gross_orders', 'cancelled_orders', 'churn']]"
      ],
      "metadata": {
        "id": "pTAp19HeRB15"
      },
      "execution_count": null,
      "outputs": []
    },
    {
      "cell_type": "markdown",
      "source": [
        "1. *Data Preprocessing*:\n",
        "\n",
        "- 1. Consistency Check\n",
        "- 2. Variable type\n",
        "- 3. Variable Preprocessing\n",
        "- 4. % of null"
      ],
      "metadata": {
        "id": "DBEvKmWrW5Vc"
      }
    },
    {
      "cell_type": "markdown",
      "source": [
        "1.1. Consistency Check"
      ],
      "metadata": {
        "id": "BoPDicKYXJUn"
      }
    },
    {
      "cell_type": "code",
      "source": [
        "df_subset.info()"
      ],
      "metadata": {
        "colab": {
          "base_uri": "https://localhost:8080/"
        },
        "id": "B4IsUM9oXO43",
        "outputId": "486e9f32-7c4b-4218-f938-45c1b2fcefcd"
      },
      "execution_count": null,
      "outputs": [
        {
          "output_type": "stream",
          "name": "stdout",
          "text": [
            "<class 'pandas.core.frame.DataFrame'>\n",
            "Int64Index: 143522 entries, 0 to 144183\n",
            "Data columns (total 5 columns):\n",
            " #   Column                Non-Null Count   Dtype \n",
            "---  ------                --------------   ----- \n",
            " 0   payment_method_name   141586 non-null  object\n",
            " 1   online_order_segment  143522 non-null  object\n",
            " 2   gross_orders          143522 non-null  int64 \n",
            " 3   cancelled_orders      30980 non-null   object\n",
            " 4   churn                 143522 non-null  int64 \n",
            "dtypes: int64(2), object(3)\n",
            "memory usage: 6.6+ MB\n"
          ]
        }
      ]
    },
    {
      "cell_type": "code",
      "source": [
        "df_subset.payment_method_name.value_counts()"
      ],
      "metadata": {
        "colab": {
          "base_uri": "https://localhost:8080/"
        },
        "id": "9TMZcgA5XmxR",
        "outputId": "e253e88d-5fe7-4a2c-e1cf-6835151a59d0"
      },
      "execution_count": null,
      "outputs": [
        {
          "output_type": "execute_result",
          "data": {
            "text/plain": [
              "Pay at venue     48806\n",
              "Apple Pay        24656\n",
              "Credit Card      22568\n",
              "PayPal           18332\n",
              "Google Pay       11486\n",
              "Gift Card         5479\n",
              "iDeal_intent      3552\n",
              "Discount code     3349\n",
              "iDeal             1705\n",
              "Bancontact        1081\n",
              "SOFORT             498\n",
              "Credit Note         74\n",
              "Name: payment_method_name, dtype: int64"
            ]
          },
          "metadata": {},
          "execution_count": 16
        }
      ]
    },
    {
      "cell_type": "code",
      "source": [
        "df_subset.online_order_segment.value_counts()"
      ],
      "metadata": {
        "colab": {
          "base_uri": "https://localhost:8080/"
        },
        "id": "Mbw4E1gIXUUy",
        "outputId": "d2456f5f-53e1-422f-c744-5a8accca8633"
      },
      "execution_count": null,
      "outputs": [
        {
          "output_type": "execute_result",
          "data": {
            "text/plain": [
              "4.Loyal       47693\n",
              "3.Explorer    42132\n",
              "1.Newbie      30715\n",
              "2.Referral    22982\n",
              "Name: online_order_segment, dtype: int64"
            ]
          },
          "metadata": {},
          "execution_count": 17
        }
      ]
    },
    {
      "cell_type": "code",
      "source": [
        "df_subset.gross_orders.value_counts()"
      ],
      "metadata": {
        "colab": {
          "base_uri": "https://localhost:8080/"
        },
        "id": "PDJjER2SXlNO",
        "outputId": "9e40730e-2471-44ed-efdb-f4c39466578f"
      },
      "execution_count": null,
      "outputs": [
        {
          "output_type": "execute_result",
          "data": {
            "text/plain": [
              "1      98017\n",
              "2      24851\n",
              "3       9469\n",
              "4       4694\n",
              "5       2308\n",
              "       ...  \n",
              "54         1\n",
              "172        1\n",
              "62         1\n",
              "198        1\n",
              "85         1\n",
              "Name: gross_orders, Length: 74, dtype: int64"
            ]
          },
          "metadata": {},
          "execution_count": 18
        }
      ]
    },
    {
      "cell_type": "code",
      "source": [
        "df_subset.cancelled_orders.value_counts()"
      ],
      "metadata": {
        "colab": {
          "base_uri": "https://localhost:8080/"
        },
        "id": "6NPVldwAXlFK",
        "outputId": "441b33f9-fd61-4063-b1df-295fa5befcdc"
      },
      "execution_count": null,
      "outputs": [
        {
          "output_type": "execute_result",
          "data": {
            "text/plain": [
              "1      25837\n",
              "2       3602\n",
              "3        895\n",
              "4        319\n",
              "5        132\n",
              "6         57\n",
              "7         41\n",
              "8         35\n",
              "9         14\n",
              "12        10\n",
              "10         9\n",
              "11         7\n",
              "13         4\n",
              "15         3\n",
              "16         3\n",
              "17         3\n",
              "66         2\n",
              "21         2\n",
              "18         1\n",
              "22         1\n",
              "63         1\n",
              "125        1\n",
              "30         1\n",
              "Name: cancelled_orders, dtype: int64"
            ]
          },
          "metadata": {},
          "execution_count": 19
        }
      ]
    },
    {
      "cell_type": "markdown",
      "source": [
        "1.2. Variable Preprocessing"
      ],
      "metadata": {
        "id": "00_IWiSCX4N6"
      }
    },
    {
      "cell_type": "code",
      "source": [
        "df_subset['cancelled_orders'].fillna(0, inplace=True)\n",
        "\n",
        "# Cambio de tipo de variable\n",
        "\n",
        "df_subset['cancelled_orders'] = df_subset['cancelled_orders'].astype(int)"
      ],
      "metadata": {
        "colab": {
          "base_uri": "https://localhost:8080/"
        },
        "id": "v_QoFkdvRCP4",
        "outputId": "c5adba75-435a-4cf8-9714-d247acef9c1d"
      },
      "execution_count": null,
      "outputs": [
        {
          "output_type": "stream",
          "name": "stderr",
          "text": [
            "<ipython-input-20-7fba806c8519>:1: SettingWithCopyWarning: \n",
            "A value is trying to be set on a copy of a slice from a DataFrame\n",
            "\n",
            "See the caveats in the documentation: https://pandas.pydata.org/pandas-docs/stable/user_guide/indexing.html#returning-a-view-versus-a-copy\n",
            "  df_subset['cancelled_orders'].fillna(0, inplace=True)\n",
            "<ipython-input-20-7fba806c8519>:5: SettingWithCopyWarning: \n",
            "A value is trying to be set on a copy of a slice from a DataFrame.\n",
            "Try using .loc[row_indexer,col_indexer] = value instead\n",
            "\n",
            "See the caveats in the documentation: https://pandas.pydata.org/pandas-docs/stable/user_guide/indexing.html#returning-a-view-versus-a-copy\n",
            "  df_subset['cancelled_orders'] = df_subset['cancelled_orders'].astype(int)\n"
          ]
        }
      ]
    },
    {
      "cell_type": "markdown",
      "source": [
        "2. EDA\n",
        "2.1. Definition\n",
        "2.2. Univariate Analysis\n",
        "2.3. Bivariate Analysis with churn\n",
        "2.4. Significance Test"
      ],
      "metadata": {
        "id": "ObTyGQmJhZoR"
      }
    },
    {
      "cell_type": "markdown",
      "source": [
        "**Payment_Method_Name**"
      ],
      "metadata": {
        "id": "An0q67UBhbjd"
      }
    },
    {
      "cell_type": "markdown",
      "source": [
        "\n",
        "\n",
        "```\n",
        "# This is formatted as code\n",
        "```\n",
        "\n",
        "La variable 'payment_method_name' representa los diferentes métodos de pago utilizados por los clientes en Treatwell."
      ],
      "metadata": {
        "id": "BU8xCNgNjCes"
      }
    },
    {
      "cell_type": "code",
      "source": [
        "bplt.figure(figsize=(10, 6))\n",
        "sns.countplot(x='payment_method_name', data=df_subset, order=df_subset['payment_method_name'].value_counts().index)\n",
        "plt.xticks(rotation=90)\n",
        "\n",
        "ax = plt.gca()\n",
        "for p in ax.patches:\n",
        "    height = p.get_height()\n",
        "    ax.annotate(f\"{height:.0f}\", (p.get_x() + p.get_width() / 2, height + 0.02), ha='center', va='bottom', fontsize=8)\n",
        "\n",
        "plt.tight_layout()\n",
        "plt.show()\n"
      ],
      "metadata": {
        "colab": {
          "base_uri": "https://localhost:8080/",
          "height": 600
        },
        "id": "lNCdTwn2jBl8",
        "outputId": "d134340e-497e-44d9-920e-5de2eff462e9"
      },
      "execution_count": null,
      "outputs": [
        {
          "output_type": "display_data",
          "data": {
            "text/plain": [
              "<Figure size 1000x600 with 1 Axes>"
            ],
            "image/png": "[encoded data removed]"
          },
          "metadata": {}
        }
      ]
    },
    {
      "cell_type": "markdown",
      "source": [
        "Juntar variables pay at venue, discount code, gift card, i"
      ],
      "metadata": {
        "id": "6fvVjWmWyncw"
      }
    },
    {
      "cell_type": "code",
      "source": [
        "df_subset.payment_method_name.value_counts()"
      ],
      "metadata": {
        "colab": {
          "base_uri": "https://localhost:8080/"
        },
        "id": "k9765I9MRCef",
        "outputId": "1ee41f20-0f13-4a05-d630-aa370bacdc45"
      },
      "execution_count": null,
      "outputs": [
        {
          "output_type": "execute_result",
          "data": {
            "text/plain": [
              "Pay at venue     48806\n",
              "Apple Pay        24656\n",
              "Credit Card      22568\n",
              "PayPal           18332\n",
              "Google Pay       11486\n",
              "Gift Card         5479\n",
              "iDeal_intent      3552\n",
              "Discount code     3349\n",
              "iDeal             1705\n",
              "Bancontact        1081\n",
              "SOFORT             498\n",
              "Credit Note         74\n",
              "Name: payment_method_name, dtype: int64"
            ]
          },
          "metadata": {},
          "execution_count": 22
        }
      ]
    },
    {
      "cell_type": "code",
      "source": [],
      "metadata": {
        "id": "3440d8PDvAaL"
      },
      "execution_count": null,
      "outputs": []
    },
    {
      "cell_type": "markdown",
      "source": [
        "**Online Order Segment**"
      ],
      "metadata": {
        "id": "AkV7yQK4jucg"
      }
    },
    {
      "cell_type": "markdown",
      "source": [
        "La variable 'online_order_segment' representa diferentes segmentos de clientes en función de su comportamiento de pedidos en línea en Treatwell. Estos segmentos incluyen:\n",
        "\n",
        "- Loyal: Clientes que han realizado pedidos en línea de manera consistente y frecuente. Son clientes fieles y habituales de Treatwell.\n",
        "\n",
        "- Explorer: Clientes que realizan pedidos en línea de manera regular, pero no con la misma frecuencia que los leales. Estos clientes están en la fase de exploración y pueden probar diferentes servicios.\n",
        "\n",
        "- Newbie: Clientes que son nuevos en el servicio y han realizado solo unos pocos pedidos en línea. Son clientes nuevos en Treatwell y están en la etapa inicial de descubrimiento.\n",
        "\n",
        "- Referral: Clientes que han sido referidos por otros clientes. Han realizado pedidos en línea pero no son tan frecuentes como los leales o exploradores."
      ],
      "metadata": {
        "id": "gYz5eWNxkLYl"
      }
    },
    {
      "cell_type": "code",
      "source": [
        "plt.figure(figsize=(10, 6))\n",
        "sns.countplot(x='online_order_segment', data=df_subset, order=df_subset['online_order_segment'].value_counts().index)\n",
        "plt.xticks(rotation=90)\n",
        "\n",
        "ax = plt.gca()\n",
        "for p in ax.patches:\n",
        "    height = p.get_height()\n",
        "    ax.annotate(f\"{height:.0f}\", (p.get_x() + p.get_width() / 2, height + 0.02), ha='center', va='bottom', fontsize=8)\n",
        "\n",
        "plt.tight_layout()\n",
        "plt.show()"
      ],
      "metadata": {
        "colab": {
          "base_uri": "https://localhost:8080/",
          "height": 600
        },
        "id": "LYBOxVHkkVZe",
        "outputId": "42fa2411-5f3c-4436-d5b8-e9a0664ef35a"
      },
      "execution_count": null,
      "outputs": [
        {
          "output_type": "display_data",
          "data": {
            "text/plain": [
              "<Figure size 1000x600 with 1 Axes>"
            ],
            "image/png": "[encoded data removed]"
          },
          "metadata": {}
        }
      ]
    },
    {
      "cell_type": "markdown",
      "source": [
        "Añadir definición de cada grupo, especifica\n"
      ],
      "metadata": {
        "id": "7mFemJuezTQR"
      }
    },
    {
      "cell_type": "code",
      "source": [
        "df_subset.online_order_segment.value_counts()"
      ],
      "metadata": {
        "colab": {
          "base_uri": "https://localhost:8080/"
        },
        "id": "PBHRfIAmRC51",
        "outputId": "3be05a1a-7de4-405f-dc5d-c3368fe63665"
      },
      "execution_count": null,
      "outputs": [
        {
          "output_type": "execute_result",
          "data": {
            "text/plain": [
              "4.Loyal       47693\n",
              "3.Explorer    42132\n",
              "1.Newbie      30715\n",
              "2.Referral    22982\n",
              "Name: online_order_segment, dtype: int64"
            ]
          },
          "metadata": {},
          "execution_count": 24
        }
      ]
    },
    {
      "cell_type": "code",
      "source": [],
      "metadata": {
        "id": "WarI8FUYu84n"
      },
      "execution_count": null,
      "outputs": []
    },
    {
      "cell_type": "markdown",
      "source": [
        "**Gross Orders**"
      ],
      "metadata": {
        "id": "TPZAZP0dkkJQ"
      }
    },
    {
      "cell_type": "markdown",
      "source": [
        "La variable \"gross_orders\" representa el número de pedidos brutos realizados por los clientes en Treatwell."
      ],
      "metadata": {
        "id": "DZDE4B4IknAj"
      }
    },
    {
      "cell_type": "code",
      "source": [
        "df_subset.gross_orders.describe()"
      ],
      "metadata": {
        "colab": {
          "base_uri": "https://localhost:8080/"
        },
        "id": "N5ZROPhzk897",
        "outputId": "721f02d5-84b5-4c39-e3f3-be39b6b85653"
      },
      "execution_count": null,
      "outputs": [
        {
          "output_type": "execute_result",
          "data": {
            "text/plain": [
              "count    143522.000000\n",
              "mean          1.736542\n",
              "std           3.776274\n",
              "min           1.000000\n",
              "25%           1.000000\n",
              "50%           1.000000\n",
              "75%           2.000000\n",
              "max         797.000000\n",
              "Name: gross_orders, dtype: float64"
            ]
          },
          "metadata": {},
          "execution_count": 25
        }
      ]
    },
    {
      "cell_type": "code",
      "source": [
        "plt.figure(figsize=(10, 6))\n",
        "\n",
        "# KDE plot\n",
        "plt.subplot(121)\n",
        "sns.kdeplot(data=df_subset, x='gross_orders', fill=True)\n",
        "plt.title('Distribution of gross_orders (KDE)', fontsize=12)\n",
        "plt.xlim(0, 15)\n",
        "plt.xlabel('Count')\n",
        "\n",
        "# Box plot\n",
        "plt.subplot(122)\n",
        "sns.boxplot(data=df_subset, x='gross_orders')\n",
        "plt.title('Distribution of gross_orders (Box Plot)', fontsize=12)\n",
        "plt.xlabel('Count')\n",
        "\n",
        "plt.tight_layout()\n",
        "plt.show()"
      ],
      "metadata": {
        "colab": {
          "base_uri": "https://localhost:8080/",
          "height": 600
        },
        "id": "lgDMh-Jvka4t",
        "outputId": "7bd6fa4e-a8fc-4ec5-d435-41a03d3d269f"
      },
      "execution_count": null,
      "outputs": [
        {
          "output_type": "display_data",
          "data": {
            "text/plain": [
              "<Figure size 1000x600 with 2 Axes>"
            ],
            "image/png": "[encoded data removed]"
          },
          "metadata": {}
        }
      ]
    },
    {
      "cell_type": "markdown",
      "source": [
        "La distribución de la variable \"gross_orders\" muestra que la mayoría de los clientes han realizado 1 o 2 pedidos, con algunos casos extremos que han realizado un número significativamente mayor de pedidos"
      ],
      "metadata": {
        "id": "xzsjtxLPm6RU"
      }
    },
    {
      "cell_type": "code",
      "source": [],
      "metadata": {
        "id": "PanUbh8Iu95s"
      },
      "execution_count": null,
      "outputs": []
    },
    {
      "cell_type": "markdown",
      "source": [
        "**Cancelled_orders**"
      ],
      "metadata": {
        "id": "hBZOF1Wll0DT"
      }
    },
    {
      "cell_type": "code",
      "source": [
        "df_subset.cancelled_orders.describe()"
      ],
      "metadata": {
        "colab": {
          "base_uri": "https://localhost:8080/"
        },
        "id": "V3NfuOfolzlm",
        "outputId": "b8a65102-daff-44ef-9f9f-ca885b0b90a7"
      },
      "execution_count": null,
      "outputs": [
        {
          "output_type": "execute_result",
          "data": {
            "text/plain": [
              "count    143522.000000\n",
              "mean          0.275999\n",
              "std           0.793097\n",
              "min           0.000000\n",
              "25%           0.000000\n",
              "50%           0.000000\n",
              "75%           0.000000\n",
              "max         125.000000\n",
              "Name: cancelled_orders, dtype: float64"
            ]
          },
          "metadata": {},
          "execution_count": 27
        }
      ]
    },
    {
      "cell_type": "code",
      "source": [
        "plt.figure(figsize=(10, 6))\n",
        "\n",
        "# KDE plot\n",
        "plt.subplot(121)\n",
        "sns.kdeplot(data=df_subset, x='cancelled_orders', fill=True)\n",
        "plt.title('Distribution of cancelled_orders (KDE)', fontsize=12)\n",
        "plt.xlim(0, 5)\n",
        "plt.xlabel('Count')\n",
        "\n",
        "# Box plot\n",
        "plt.subplot(122)\n",
        "sns.boxplot(data=df_subset, x='cancelled_orders')\n",
        "plt.title('Distribution of cancelled_orders (Box Plot)', fontsize=12)\n",
        "plt.xlabel('Count')\n",
        "\n",
        "plt.tight_layout()\n",
        "plt.show()"
      ],
      "metadata": {
        "colab": {
          "base_uri": "https://localhost:8080/",
          "height": 600
        },
        "id": "SjD3ui6Wmrvc",
        "outputId": "07859faf-62c6-45df-dd75-9a20f7cfec81"
      },
      "execution_count": null,
      "outputs": [
        {
          "output_type": "display_data",
          "data": {
            "text/plain": [
              "<Figure size 1000x600 with 2 Axes>"
            ],
            "image/png": "[encoded data removed]"
          },
          "metadata": {}
        }
      ]
    },
    {
      "cell_type": "code",
      "source": [
        "import seaborn as sns\n",
        "import matplotlib.pyplot as plt\n",
        "\n",
        "df_subset['cancelled_orders'] = df_subset['cancelled_orders'].astype(float)\n",
        "\n",
        "sns.boxplot(data=df_subset, x='churn', y='cancelled_orders')\n",
        "\n",
        "plt.title('Churn vs cancelled_orders ', fontsize=12)\n",
        "\n",
        "plt.show()"
      ],
      "metadata": {
        "colab": {
          "base_uri": "https://localhost:8080/",
          "height": 578
        },
        "id": "J5sq0ZCQu-5g",
        "outputId": "af8a6ceb-8354-489b-8af9-71ddab969470"
      },
      "execution_count": null,
      "outputs": [
        {
          "output_type": "stream",
          "name": "stderr",
          "text": [
            "<ipython-input-29-30d946271998>:4: SettingWithCopyWarning: \n",
            "A value is trying to be set on a copy of a slice from a DataFrame.\n",
            "Try using .loc[row_indexer,col_indexer] = value instead\n",
            "\n",
            "See the caveats in the documentation: https://pandas.pydata.org/pandas-docs/stable/user_guide/indexing.html#returning-a-view-versus-a-copy\n",
            "  df_subset['cancelled_orders'] = df_subset['cancelled_orders'].astype(float)\n"
          ]
        },
        {
          "output_type": "display_data",
          "data": {
            "text/plain": [
              "<Figure size 640x480 with 1 Axes>"
            ],
            "image/png": "[encoded data removed]"
          },
          "metadata": {}
        }
      ]
    },
    {
      "cell_type": "code",
      "source": [
        "df.churn.mean()"
      ],
      "metadata": {
        "colab": {
          "base_uri": "https://localhost:8080/"
        },
        "id": "O4qXc4w4RD1s",
        "outputId": "5658c0f9-4cd9-4192-a8fb-4285c0a39f8e"
      },
      "execution_count": null,
      "outputs": [
        {
          "output_type": "execute_result",
          "data": {
            "text/plain": [
              "0.005420771728376138"
            ]
          },
          "metadata": {},
          "execution_count": 30
        }
      ]
    },
    {
      "cell_type": "code",
      "source": [],
      "metadata": {
        "id": "mCbxXD6vRETO"
      },
      "execution_count": null,
      "outputs": []
    }
  ]
}